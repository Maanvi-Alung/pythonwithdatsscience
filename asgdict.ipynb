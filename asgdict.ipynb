{
 "cells": [
  {
   "cell_type": "code",
   "execution_count": 11,
   "metadata": {},
   "outputs": [
    {
     "name": "stdout",
     "output_type": "stream",
     "text": [
      "{'h': 1, 'e': 1, 'l': 2, 'o': 1}\n"
     ]
    }
   ],
   "source": [
    "#Write a program to count the frequency of each character in a given string using a dictionary.\n",
    "Sample=\"hello\"\n",
    "d={}\n",
    "c=0\n",
    "for i in Sample:\n",
    "    c=0\n",
    "    for j in Sample:\n",
    "        if i==j:\n",
    "            c+=1\n",
    "            d[i]=c\n",
    "print(d)    \n",
    "     \n",
    "    "
   ]
  },
  {
   "cell_type": "code",
   "execution_count": 24,
   "metadata": {},
   "outputs": [
    {
     "name": "stdout",
     "output_type": "stream",
     "text": [
      "{'a': 1, 'b': 2, 'c': 3, 'd': 4}\n"
     ]
    }
   ],
   "source": [
    "#Write a program to merge two dictionaries into a single dictionary.\n",
    "dict1 = {\"a\": 1, \"b\": 2}\n",
    "dict2 = {\"c\": 3, \"d\": 4}\n",
    "print({**dict1,**dict2})"
   ]
  },
  {
   "cell_type": "code",
   "execution_count": 25,
   "metadata": {},
   "outputs": [
    {
     "data": {
      "text/plain": [
       "10"
      ]
     },
     "execution_count": 25,
     "metadata": {},
     "output_type": "execute_result"
    }
   ],
   "source": [
    "#Write a program to find the keys with the maximum value in a dictionary.\n",
    "data={\"a\": 10, \"b\": 5, \"c\": 10}\n",
    "max(data.values())\n"
   ]
  },
  {
   "cell_type": "code",
   "execution_count": 38,
   "metadata": {},
   "outputs": [
    {
     "name": "stdout",
     "output_type": "stream",
     "text": [
      "['a', 'b', 'c']\n",
      "found\n"
     ]
    }
   ],
   "source": [
    "#Write a program to check if a given key exists in a dictionary.\n",
    "a=input(\"enter a value\")\n",
    "s={\"a\": 1, \"b\": 2, \"c\": 3}\n",
    "v=list(s.keys())\n",
    "print(v)\n",
    "for i in v:\n",
    "    if i==a:\n",
    "        print(\"found\")\n",
    "        break\n",
    "    else:\n",
    "        print(\"not found\")    "
   ]
  },
  {
   "cell_type": "code",
   "execution_count": 41,
   "metadata": {},
   "outputs": [
    {
     "name": "stdout",
     "output_type": "stream",
     "text": [
      "['a', 'b', 'c']\n",
      "{'b': 2, 'c': 3}\n"
     ]
    }
   ],
   "source": [
    "#Write a program to remove a specific key from a dictionary.\n",
    "a=input(\"enter a value\")\n",
    "s={\"a\": 1, \"b\": 2, \"c\": 3}\n",
    "v=list(s.keys())\n",
    "print(v)\n",
    "for i in v:\n",
    "    if i==a:\n",
    "        s.pop(a)\n",
    "        print(s)\n",
    "        break\n",
    "    else:\n",
    "        print(\"not found\")\n",
    "        break "
   ]
  },
  {
   "cell_type": "code",
   "execution_count": null,
   "metadata": {},
   "outputs": [],
   "source": [
    "#Write a program to find the common keys in two dictionaries.\n",
    "d1 = {\"a\": 1, \"b\": 2, \"c\": 3}\n",
    "d2 = {\"b\": 3, \"c\": 4, \"d\": 5}\n",
    "v1=d1.keys()\n",
    "v2=d2.keys()\n",
    "\n"
   ]
  }
 ],
 "metadata": {
  "kernelspec": {
   "display_name": "base",
   "language": "python",
   "name": "python3"
  },
  "language_info": {
   "codemirror_mode": {
    "name": "ipython",
    "version": 3
   },
   "file_extension": ".py",
   "mimetype": "text/x-python",
   "name": "python",
   "nbconvert_exporter": "python",
   "pygments_lexer": "ipython3",
   "version": "3.10.10"
  },
  "orig_nbformat": 4
 },
 "nbformat": 4,
 "nbformat_minor": 2
}
