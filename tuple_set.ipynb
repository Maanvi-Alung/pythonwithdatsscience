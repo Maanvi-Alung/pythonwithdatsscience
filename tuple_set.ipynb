{
 "cells": [
  {
   "attachments": {},
   "cell_type": "markdown",
   "metadata": {},
   "source": [
    "Tuple\n",
    "    -python default sequential data str\n",
    "    -indexed\n",
    "    -ordered\n",
    "    -immutable\n",
    "    -heterogenous\n",
    "Set\n",
    "    -unordered\n",
    "    -unindexed\n",
    "    -mutable\n",
    "    -unique elements only\n",
    "    -can strore only immutablr elements\n",
    "        "
   ]
  },
  {
   "cell_type": "code",
   "execution_count": 2,
   "metadata": {},
   "outputs": [
    {
     "name": "stdout",
     "output_type": "stream",
     "text": [
      "(1, 2, 3)\n",
      "<class 'tuple'>\n"
     ]
    }
   ],
   "source": [
    "x=(1,2,3)\n",
    "print(x)\n",
    "print(type(x))"
   ]
  },
  {
   "cell_type": "code",
   "execution_count": 3,
   "metadata": {},
   "outputs": [
    {
     "data": {
      "text/plain": [
       "(12, 13, 114)"
      ]
     },
     "execution_count": 3,
     "metadata": {},
     "output_type": "execute_result"
    }
   ],
   "source": [
    "12,13,114"
   ]
  },
  {
   "cell_type": "code",
   "execution_count": 5,
   "metadata": {},
   "outputs": [
    {
     "name": "stdout",
     "output_type": "stream",
     "text": [
      "<class 'int'>\n"
     ]
    }
   ],
   "source": [
    "#single element tupule\n",
    "b=13\n",
    "print(type(b))"
   ]
  },
  {
   "cell_type": "code",
   "execution_count": 6,
   "metadata": {},
   "outputs": [
    {
     "name": "stdout",
     "output_type": "stream",
     "text": [
      "<class 'tuple'>\n"
     ]
    }
   ],
   "source": [
    "#single element tupule\n",
    "b=(13,)\n",
    "print(type(b))"
   ]
  },
  {
   "cell_type": "code",
   "execution_count": 9,
   "metadata": {},
   "outputs": [
    {
     "name": "stdout",
     "output_type": "stream",
     "text": [
      "1 2 3\n"
     ]
    }
   ],
   "source": [
    "#tuple unpacking\n",
    "x1,x2,x3=x\n",
    "print(x1,x2,x3)"
   ]
  },
  {
   "cell_type": "code",
   "execution_count": 11,
   "metadata": {},
   "outputs": [
    {
     "name": "stdout",
     "output_type": "stream",
     "text": [
      "1 2 [3, 4, 5, 6, 7, 8, 9, 10]\n"
     ]
    }
   ],
   "source": [
    "a=(1,2,3,4,5,6,7,8,9,10)\n",
    "a1,a2,*a3=a\n",
    "print(a1,a2,a3)"
   ]
  },
  {
   "cell_type": "code",
   "execution_count": 14,
   "metadata": {},
   "outputs": [
    {
     "data": {
      "text/plain": [
       "(6, 7, 8, 9, 10)"
      ]
     },
     "execution_count": 14,
     "metadata": {},
     "output_type": "execute_result"
    }
   ],
   "source": [
    "a[-5:]"
   ]
  },
  {
   "cell_type": "code",
   "execution_count": 15,
   "metadata": {},
   "outputs": [
    {
     "name": "stdout",
     "output_type": "stream",
     "text": [
      "1\n",
      "2\n",
      "3\n",
      "4\n",
      "5\n",
      "6\n",
      "7\n",
      "8\n",
      "9\n",
      "10\n"
     ]
    }
   ],
   "source": [
    "for i in a:\n",
    "    print(i)"
   ]
  },
  {
   "cell_type": "code",
   "execution_count": 24,
   "metadata": {},
   "outputs": [
    {
     "name": "stdout",
     "output_type": "stream",
     "text": [
      "4\n",
      "4\n",
      "2\n",
      "5\n"
     ]
    }
   ],
   "source": [
    "y=(1,2,3,1,2,3,1,2,3,2,3,1,3)\n",
    "print(y.count(1))\n",
    "print(y.count(2))\n",
    "print(y.index(3))\n",
    "print(y.index(3,5))"
   ]
  },
  {
   "cell_type": "code",
   "execution_count": 26,
   "metadata": {},
   "outputs": [
    {
     "name": "stdout",
     "output_type": "stream",
     "text": [
      "{1, 2, 3}\n",
      "<class 'set'>\n"
     ]
    }
   ],
   "source": [
    "s={1,2,3,1,2,3}\n",
    "print(s)\n",
    "print(type(s))"
   ]
  },
  {
   "cell_type": "code",
   "execution_count": 27,
   "metadata": {},
   "outputs": [
    {
     "name": "stdout",
     "output_type": "stream",
     "text": [
      "set()\n"
     ]
    }
   ],
   "source": [
    "s1=set()\n",
    "print(s1)"
   ]
  },
  {
   "cell_type": "code",
   "execution_count": 28,
   "metadata": {},
   "outputs": [
    {
     "name": "stdout",
     "output_type": "stream",
     "text": [
      "{9, 'all', 'hello'}\n"
     ]
    }
   ],
   "source": [
    "s1.add(9)\n",
    "s1.add(\"hello\")\n",
    "s1.add(\"all\")\n",
    "print(s1)"
   ]
  },
  {
   "cell_type": "code",
   "execution_count": 29,
   "metadata": {},
   "outputs": [
    {
     "name": "stdout",
     "output_type": "stream",
     "text": [
      "{1, 2}\n"
     ]
    }
   ],
   "source": [
    "s.discard(3)\n",
    "print(s)"
   ]
  },
  {
   "cell_type": "code",
   "execution_count": 31,
   "metadata": {},
   "outputs": [
    {
     "name": "stdout",
     "output_type": "stream",
     "text": [
      "9\n",
      "all\n",
      "hello\n"
     ]
    }
   ],
   "source": [
    "for i in s1:\n",
    "    print(i)"
   ]
  },
  {
   "cell_type": "code",
   "execution_count": 34,
   "metadata": {},
   "outputs": [
    {
     "name": "stdout",
     "output_type": "stream",
     "text": [
      "{'pineapple', 'grapes', 'mango', 'apple', 'orange', 'kiwi', 'papaya', 'cherry', 'watermelon', 'banana'}\n",
      "{'pineapple', 'grapes', 'mango', 'apple', 'orange', 'kiwi', 'papaya', 'cherry', 'watermelon', 'banana'}\n"
     ]
    }
   ],
   "source": [
    "#set operations\n",
    "g1={\"apple\",\"banana\",\"orange\",\"grapes\",\"mango\",\"pineapple\",\"watermelon\"}\n",
    "g2={\"apple\",\"grapes\",\"mango\",\"pineapple\",\"kiwi\",\"papaya\",\"cherry\"}\n",
    "print(g1 | g2)\n",
    "print(g1.union(g2))"
   ]
  },
  {
   "cell_type": "code",
   "execution_count": 33,
   "metadata": {},
   "outputs": [
    {
     "name": "stdout",
     "output_type": "stream",
     "text": [
      "{'apple', 'pineapple', 'mango', 'grapes'}\n",
      "{'apple', 'pineapple', 'mango', 'grapes'}\n"
     ]
    }
   ],
   "source": [
    "print(g1 & g2)\n",
    "print(g1.intersection(g2))"
   ]
  },
  {
   "cell_type": "code",
   "execution_count": 35,
   "metadata": {},
   "outputs": [
    {
     "name": "stdout",
     "output_type": "stream",
     "text": [
      "{'orange', 'banana', 'watermelon'}\n",
      "{'kiwi', 'cherry', 'papaya'}\n",
      "{'kiwi', 'cherry', 'papaya'}\n"
     ]
    }
   ],
   "source": [
    "print(g1-g2)\n",
    "print(g2-g1)\n",
    "print(g2.difference(g1))"
   ]
  },
  {
   "cell_type": "code",
   "execution_count": 37,
   "metadata": {},
   "outputs": [
    {
     "name": "stdout",
     "output_type": "stream",
     "text": [
      "{'kiwi', 'orange', 'watermelon', 'papaya', 'cherry', 'banana'}\n",
      "{'kiwi', 'orange', 'watermelon', 'papaya', 'cherry', 'banana'}\n"
     ]
    }
   ],
   "source": [
    "print(g1^g2)\n",
    "print(g1.symmetric_difference(g2))"
   ]
  },
  {
   "attachments": {},
   "cell_type": "markdown",
   "metadata": {},
   "source": [
    "#create a list called reports that eill hold report of 7 students \n",
    "each student will have a name n marks of 3 subjects\n",
    "use for loop to display report\n"
   ]
  },
  {
   "cell_type": "code",
   "execution_count": 51,
   "metadata": {},
   "outputs": [
    {
     "name": "stdout",
     "output_type": "stream",
     "text": [
      "name=a, marks of 3 subjects are:(10, 37, 20)\n",
      "name=b, marks of 3 subjects are:(34, 12, 45)\n",
      "name=c, marks of 3 subjects are:(43, 23, 34)\n",
      "name=d, marks of 3 subjects are:(43, 24, 43)\n",
      "name=e, marks of 3 subjects are:(43, 24, 34)\n",
      "name=f, marks of 3 subjects are:(43, 23, 34)\n",
      "name=g, marks of 3 subjects are:(43, 21, 34)\n"
     ]
    }
   ],
   "source": [
    "report=[['a',10,37,20],['b',34,12,45],['c',43,23,34],['d',43,24,43],['e',43,24,34],['f',43,23,34],['g',43,21,34]]\n",
    "for i in report:\n",
    "    print(f'name={i[0]}, marks of 3 subjects are:{i[1],i[2],i[3]}')"
   ]
  },
  {
   "cell_type": "code",
   "execution_count": null,
   "metadata": {},
   "outputs": [],
   "source": []
  }
 ],
 "metadata": {
  "kernelspec": {
   "display_name": "base",
   "language": "python",
   "name": "python3"
  },
  "language_info": {
   "codemirror_mode": {
    "name": "ipython",
    "version": 3
   },
   "file_extension": ".py",
   "mimetype": "text/x-python",
   "name": "python",
   "nbconvert_exporter": "python",
   "pygments_lexer": "ipython3",
   "version": "3.10.10"
  },
  "orig_nbformat": 4
 },
 "nbformat": 4,
 "nbformat_minor": 2
}
