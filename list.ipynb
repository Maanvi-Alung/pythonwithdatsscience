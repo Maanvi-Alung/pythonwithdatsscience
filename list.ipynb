{
 "cells": [
  {
   "attachments": {},
   "cell_type": "markdown",
   "metadata": {},
   "source": [
    "-list\n",
    "    -indexed\n",
    "    -ordered\n",
    "    -duplicate elements can be stored\n",
    "    -mutable\n",
    "    -any type of element can be stored\n",
    "    -represented by []\n",
    "    -list() method is used to convert any type to list\n",
    "    -can hold mix data type\n",
    "\n"
   ]
  },
  {
   "cell_type": "code",
   "execution_count": 2,
   "metadata": {},
   "outputs": [],
   "source": [
    "x=[1,2,3,4,5,6,7,8,9,10]\n",
    "y=[]\n",
    "z=['apple','banana','cherry','orange','kiwi']\n",
    "a=['alex',4,'amit',0,'anjali']\n",
    "b=[[1,2,3],\n",
    "   [4,5,6],\n",
    "   [7,8,9]]\n"
   ]
  },
  {
   "cell_type": "code",
   "execution_count": 1,
   "metadata": {},
   "outputs": [],
   "source": [
    "class Movie:\n",
    "    def __init__(self,name,year):\n",
    "        self.name=name\n",
    "        self.year=year\n",
    "movies=[\n",
    "    Movie('the matrix',1999),\n",
    "    Movie('the matrix reloded',2003),\n",
    "    Movie('the matrix revolutions',2003),\n",
    "    Movie('the matrix resurrections',2021),  \n",
    "] "
   ]
  },
  {
   "cell_type": "code",
   "execution_count": 3,
   "metadata": {},
   "outputs": [
    {
     "data": {
      "text/plain": [
       "['m', 'a', 'a', 'n', 'v', 'i', ' ', 'a', 'l', 'u', 'n', 'g']"
      ]
     },
     "execution_count": 3,
     "metadata": {},
     "output_type": "execute_result"
    }
   ],
   "source": [
    "name='maanvi alung'\n",
    "list(name)"
   ]
  },
  {
   "cell_type": "code",
   "execution_count": 5,
   "metadata": {},
   "outputs": [
    {
     "name": "stdout",
     "output_type": "stream",
     "text": [
      "[1, 2, 3, 4, 5, 6, 7, 8, 9, 10, 11, 12, 13, 14, 15, 16, 17, 18, 19, 20]\n"
     ]
    }
   ],
   "source": [
    "print(list(range(1,21)))"
   ]
  },
  {
   "cell_type": "code",
   "execution_count": 8,
   "metadata": {},
   "outputs": [
    {
     "name": "stdout",
     "output_type": "stream",
     "text": [
      "alex\n",
      "anjali\n",
      "0\n",
      "4\n"
     ]
    }
   ],
   "source": [
    "print(a[0])\n",
    "print(a[-1])\n",
    "print(a[-2])\n",
    "print(a[1])"
   ]
  },
  {
   "cell_type": "code",
   "execution_count": 10,
   "metadata": {},
   "outputs": [
    {
     "name": "stdout",
     "output_type": "stream",
     "text": [
      "[1, 2, 3, 4, 5, 6, 7, 8, 9, 10]\n",
      "[11, 12, 13, 14, 15, 16, 17, 18, 19, 20]\n",
      "[91, 92, 93, 94, 95, 96, 97, 98, 99, 100]\n",
      "[24, 25, 26, 27, 28, 29, 30, 31, 32, 33, 34, 35, 36]\n",
      "[51, 50, 49, 48, 47, 46, 45, 44, 43, 42, 41, 40, 39, 38, 37, 36, 35, 34, 33, 32]\n",
      "[2, 4, 6, 8, 10, 12, 14, 16, 18, 20, 22, 24, 26, 28, 30, 32, 34, 36, 38, 40, 42, 44, 46, 48, 50, 52, 54, 56, 58, 60, 62, 64, 66, 68, 70, 72, 74, 76, 78, 80, 82, 84, 86, 88, 90, 92, 94, 96, 98, 100]\n",
      "[1, 3, 5, 7, 9, 11, 13, 15, 17, 19, 21, 23, 25, 27, 29, 31, 33, 35, 37, 39, 41, 43, 45, 47, 49, 51, 53, 55, 57, 59, 61, 63, 65, 67, 69, 71, 73, 75, 77, 79, 81, 83, 85, 87, 89, 91, 93, 95, 97, 99]\n",
      "[100, 99, 98, 97, 96, 95, 94, 93, 92, 91, 90, 89, 88, 87, 86, 85, 84, 83, 82, 81, 80, 79, 78, 77, 76, 75, 74, 73, 72, 71, 70, 69, 68, 67, 66, 65, 64, 63, 62, 61, 60, 59, 58, 57, 56, 55, 54, 53, 52, 51, 50, 49, 48, 47, 46, 45, 44, 43, 42, 41, 40, 39, 38, 37, 36, 35, 34, 33, 32, 31, 30, 29, 28, 27, 26, 25, 24, 23, 22, 21, 20, 19, 18, 17, 16, 15, 14, 13, 12, 11, 10, 9, 8, 7, 6, 5, 4, 3, 2, 1]\n"
     ]
    }
   ],
   "source": [
    "#sclicing\n",
    "data=list(range(1,101))\n",
    "print(data[:10])\n",
    "print(data[10:20])\n",
    "print(data[-10:])\n",
    "print(data[23:36])\n",
    "print(data[50:30:-1])\n",
    "print(data[1::2])#odd\n",
    "print(data[::2])#even\n",
    "print(data[::-1])"
   ]
  },
  {
   "cell_type": "code",
   "execution_count": 11,
   "metadata": {},
   "outputs": [
    {
     "name": "stdout",
     "output_type": "stream",
     "text": [
      "alex\n",
      "4\n",
      "amit\n",
      "0\n",
      "anjali\n"
     ]
    }
   ],
   "source": [
    "for i in a:\n",
    "    print(i)"
   ]
  },
  {
   "cell_type": "code",
   "execution_count": 14,
   "metadata": {},
   "outputs": [
    {
     "name": "stdout",
     "output_type": "stream",
     "text": [
      "['sherk', 'harry potter', 'the matrix', 'fast and furious', 'fast and furious 1', 'fast and furious 2', 'fast and furious 3', 'fast and furious 4', 'fast and furious 5', 'fast and furious 6']\n"
     ]
    }
   ],
   "source": [
    "movies=[]\n",
    "movies.append(\"sherk\")\n",
    "movies.append(\"harry potter\")\n",
    "movies.append(\"the matrix\")\n",
    "movies.append(\"fast and furious\")\n",
    "movies.append(\"fast and furious 1\")\n",
    "movies.append(\"fast and furious 2\")\n",
    "movies.append(\"fast and furious 3\")\n",
    "movies.append(\"fast and furious 4\")\n",
    "movies.append(\"fast and furious 5\")\n",
    "movies.append(\"fast and furious 6\")\n",
    "print(movies)"
   ]
  },
  {
   "cell_type": "code",
   "execution_count": 16,
   "metadata": {},
   "outputs": [
    {
     "data": {
      "text/plain": [
       "['sherk',\n",
       " 'harry potter',\n",
       " 'kung fu panda',\n",
       " 'fast and furious',\n",
       " 'fast and furious 1',\n",
       " 'fast and furious 2',\n",
       " 'fast and furious 3',\n",
       " 'kung fu panda',\n",
       " 'fast and furious 5',\n",
       " 'fast and furious 6']"
      ]
     },
     "execution_count": 16,
     "metadata": {},
     "output_type": "execute_result"
    }
   ],
   "source": [
    "movies[7]=\"kung fu panda\"\n",
    "movies"
   ]
  },
  {
   "cell_type": "code",
   "execution_count": 17,
   "metadata": {},
   "outputs": [
    {
     "data": {
      "text/plain": [
       "['sherk',\n",
       " 'harry potter',\n",
       " 'kung fu panda',\n",
       " 'fast and furious',\n",
       " 'fast and furious 1',\n",
       " 'fast and furious 2',\n",
       " 'fast and furious 3',\n",
       " 'kung fu panda 3',\n",
       " 'kung fu panda',\n",
       " 'fast and furious 5',\n",
       " 'fast and furious 6']"
      ]
     },
     "execution_count": 17,
     "metadata": {},
     "output_type": "execute_result"
    }
   ],
   "source": [
    "movies.insert(7,'kung fu panda 3')\n",
    "movies"
   ]
  },
  {
   "cell_type": "code",
   "execution_count": 18,
   "metadata": {},
   "outputs": [
    {
     "name": "stdout",
     "output_type": "stream",
     "text": [
      "['deymin slyer', 'bleach', 'naruto', 'abc', 'full metal alchemist']\n"
     ]
    }
   ],
   "source": [
    "anime=[]\n",
    "for i in range(5):\n",
    "    name=input(\"enter an anime\")\n",
    "    anime.append(name)\n",
    "print(anime)    "
   ]
  },
  {
   "cell_type": "code",
   "execution_count": 21,
   "metadata": {},
   "outputs": [
    {
     "name": "stdout",
     "output_type": "stream",
     "text": [
      "[1, 2, 3, 4, 5, 6, 7, 8]\n",
      "[1, 2, 3, 4]\n",
      "[5, 6, 7, 8]\n",
      "[1, 2, 3, 4, 5, 6, 7, 8]\n",
      "[5, 6, 7, 8]\n"
     ]
    }
   ],
   "source": [
    "x=[1,2,3,4]\n",
    "y=[5,6,7,8]\n",
    "print(x+y)#creats new list\n",
    "print(x)\n",
    "print(y)\n",
    "x.extend(y)#modifies x\n",
    "print(x)\n",
    "print(y)\n"
   ]
  },
  {
   "cell_type": "code",
   "execution_count": 23,
   "metadata": {},
   "outputs": [
    {
     "name": "stdout",
     "output_type": "stream",
     "text": [
      "['sherk', 'harry potter', 'fast and furious', 'fast and furious 1', 'fast and furious 2', 'fast and furious 3', 'kung fu panda 3', 'kung fu panda', 'fast and furious 5', 'fast and furious 6']\n"
     ]
    }
   ],
   "source": [
    "movies.remove('kung fu panda')#removes 1st occueance\n",
    "print(movies)"
   ]
  },
  {
   "cell_type": "code",
   "execution_count": 24,
   "metadata": {},
   "outputs": [
    {
     "name": "stdout",
     "output_type": "stream",
     "text": [
      "['sherk', 'harry potter', 'fast and furious', 'fast and furious 1', 'fast and furious 2', 'fast and furious 3', 'kung fu panda 3', 'kung fu panda', 'fast and furious 5']\n"
     ]
    }
   ],
   "source": [
    "movies.pop()#removes lat element\n",
    "print(movies)"
   ]
  },
  {
   "cell_type": "code",
   "execution_count": 25,
   "metadata": {},
   "outputs": [
    {
     "name": "stdout",
     "output_type": "stream",
     "text": [
      "['sherk', 'harry potter', 'fast and furious', 'fast and furious 1', 'fast and furious 2', 'kung fu panda 3', 'kung fu panda', 'fast and furious 5']\n"
     ]
    }
   ],
   "source": [
    "movies.pop(5)#remves 5th index\n",
    "print(movies)"
   ]
  },
  {
   "cell_type": "code",
   "execution_count": 26,
   "metadata": {},
   "outputs": [
    {
     "name": "stdout",
     "output_type": "stream",
     "text": [
      "vale not found\n"
     ]
    }
   ],
   "source": [
    "value='inception'\n",
    "if value in movies:\n",
    "    movies.remove(value)\n",
    "else:\n",
    "    print(\"vale not found\")    "
   ]
  },
  {
   "cell_type": "code",
   "execution_count": 27,
   "metadata": {},
   "outputs": [
    {
     "data": {
      "text/plain": [
       "[]"
      ]
     },
     "execution_count": 27,
     "metadata": {},
     "output_type": "execute_result"
    }
   ],
   "source": [
    "movies.clear()\n",
    "movies"
   ]
  },
  {
   "cell_type": "code",
   "execution_count": 28,
   "metadata": {},
   "outputs": [],
   "source": [
    "del a"
   ]
  },
  {
   "cell_type": "code",
   "execution_count": 31,
   "metadata": {},
   "outputs": [
    {
     "data": {
      "text/plain": [
       "1"
      ]
     },
     "execution_count": 31,
     "metadata": {},
     "output_type": "execute_result"
    }
   ],
   "source": [
    "books=['alchemist',\n",
    "       'harry potter',\n",
    "       'rhytm of war',\n",
    "       'white sand',\n",
    "       'the way of kings',\n",
    "       'elantris',\n",
    "       'hero of ages',\n",
    "       'oathbringer']\n",
    "books.index('harry potter')"
   ]
  },
  {
   "cell_type": "code",
   "execution_count": 34,
   "metadata": {},
   "outputs": [
    {
     "name": "stdout",
     "output_type": "stream",
     "text": [
      "9\n",
      "1\n",
      "4\n"
     ]
    }
   ],
   "source": [
    "d=[2,5,2,1,4,6,1,2,4,5,1,3,1,4,1,5,1,1,2,12,4,1,34,1]\n",
    "print(d.count(1))\n",
    "print(d.count(12))\n",
    "print(d.count(4))"
   ]
  },
  {
   "cell_type": "code",
   "execution_count": 37,
   "metadata": {},
   "outputs": [
    {
     "name": "stdout",
     "output_type": "stream",
     "text": [
      "['oathbringer', 'hero of ages', 'elantris', 'the way of kings', 'white sand', 'rhytm of war', 'harry potter', 'alchemist']\n"
     ]
    }
   ],
   "source": [
    "books.reverse()\n",
    "print(books)"
   ]
  },
  {
   "cell_type": "code",
   "execution_count": 39,
   "metadata": {},
   "outputs": [
    {
     "name": "stdout",
     "output_type": "stream",
     "text": [
      "['alchemist', 'elantris', 'harry potter', 'hero of ages', 'oathbringer', 'rhytm of war', 'the way of kings', 'white sand']\n",
      "['white sand', 'the way of kings', 'rhytm of war', 'oathbringer', 'hero of ages', 'harry potter', 'elantris', 'alchemist']\n"
     ]
    }
   ],
   "source": [
    "books.sort()\n",
    "print(books)\n",
    "books.sort(reverse=True)\n",
    "print(books)"
   ]
  },
  {
   "cell_type": "code",
   "execution_count": 41,
   "metadata": {},
   "outputs": [],
   "source": [
    "books_backup=books.copy() #a copy of variables is created at a diff memory location"
   ]
  },
  {
   "cell_type": "code",
   "execution_count": 42,
   "metadata": {},
   "outputs": [],
   "source": [
    "books2=books #both variables point to same memory location"
   ]
  },
  {
   "cell_type": "code",
   "execution_count": 43,
   "metadata": {},
   "outputs": [
    {
     "name": "stdout",
     "output_type": "stream",
     "text": [
      "['white sand', 'the way of kings', 'rhytm of war', 'oathbringer', 'hero of ages', 'harry potter', 'elantris', 'alchemist', 'the alloy of law']\n",
      "['white sand', 'the way of kings', 'rhytm of war', 'oathbringer', 'hero of ages', 'harry potter', 'elantris', 'alchemist', 'the alloy of law']\n",
      "['white sand', 'the way of kings', 'rhytm of war', 'oathbringer', 'hero of ages', 'harry potter', 'elantris', 'alchemist']\n"
     ]
    }
   ],
   "source": [
    "books.append(\"the alloy of law\")\n",
    "print(books)\n",
    "print(books2)\n",
    "print(books_backup)"
   ]
  },
  {
   "cell_type": "code",
   "execution_count": 45,
   "metadata": {},
   "outputs": [
    {
     "data": {
      "text/plain": [
       "True"
      ]
     },
     "execution_count": 45,
     "metadata": {},
     "output_type": "execute_result"
    }
   ],
   "source": [
    "books2 is books"
   ]
  },
  {
   "cell_type": "code",
   "execution_count": 46,
   "metadata": {},
   "outputs": [
    {
     "data": {
      "text/plain": [
       "False"
      ]
     },
     "execution_count": 46,
     "metadata": {},
     "output_type": "execute_result"
    }
   ],
   "source": [
    "books_backup is books"
   ]
  }
 ],
 "metadata": {
  "kernelspec": {
   "display_name": "base",
   "language": "python",
   "name": "python3"
  },
  "language_info": {
   "codemirror_mode": {
    "name": "ipython",
    "version": 3
   },
   "file_extension": ".py",
   "mimetype": "text/x-python",
   "name": "python",
   "nbconvert_exporter": "python",
   "pygments_lexer": "ipython3",
   "version": "3.10.10"
  },
  "orig_nbformat": 4
 },
 "nbformat": 4,
 "nbformat_minor": 2
}
