{
 "cells": [
  {
   "cell_type": "code",
   "execution_count": 2,
   "metadata": {},
   "outputs": [],
   "source": [
    "import numpy as np"
   ]
  },
  {
   "cell_type": "code",
   "execution_count": 4,
   "metadata": {},
   "outputs": [
    {
     "name": "stdout",
     "output_type": "stream",
     "text": [
      "[1 2 3]\n",
      "(3,)\n",
      "[[1 2 3]\n",
      " [4 5 6]]\n",
      "(2, 3)\n"
     ]
    }
   ],
   "source": [
    "a=np.array([1,2,3])\n",
    "print(a)\n",
    "print(a.shape)\n",
    "b=np.array([[1,2,3],\n",
    "           [4,5,6]])\n",
    "print(b)\n",
    "print(b.shape)\n"
   ]
  },
  {
   "cell_type": "code",
   "execution_count": 7,
   "metadata": {},
   "outputs": [
    {
     "name": "stdout",
     "output_type": "stream",
     "text": [
      "[1.  1.2 1.4 1.6 1.8 2.  2.2 2.4 2.6 2.8 3.  3.2 3.4 3.6 3.8 4.  4.2 4.4\n",
      " 4.6 4.8 5.  5.2 5.4 5.6 5.8 6.  6.2 6.4 6.6 6.8 7.  7.2 7.4 7.6 7.8 8.\n",
      " 8.2 8.4 8.6 8.8 9.  9.2 9.4 9.6 9.8]\n",
      "(45,)\n",
      "[ 1.          1.47368421  1.94736842  2.42105263  2.89473684  3.36842105\n",
      "  3.84210526  4.31578947  4.78947368  5.26315789  5.73684211  6.21052632\n",
      "  6.68421053  7.15789474  7.63157895  8.10526316  8.57894737  9.05263158\n",
      "  9.52631579 10.        ]\n"
     ]
    }
   ],
   "source": [
    "c=np.arange(1,10, .2)\n",
    "print(c)\n",
    "print(c.shape)\n",
    "d=np.linspace(1,10,20)\n",
    "print(d)"
   ]
  },
  {
   "cell_type": "code",
   "execution_count": 8,
   "metadata": {},
   "outputs": [
    {
     "data": {
      "text/plain": [
       "1"
      ]
     },
     "execution_count": 8,
     "metadata": {},
     "output_type": "execute_result"
    }
   ],
   "source": [
    "c.ndim"
   ]
  },
  {
   "cell_type": "code",
   "execution_count": 9,
   "metadata": {},
   "outputs": [
    {
     "name": "stdout",
     "output_type": "stream",
     "text": [
      "[[1.  1.2 1.4 1.6 1.8]\n",
      " [2.  2.2 2.4 2.6 2.8]\n",
      " [3.  3.2 3.4 3.6 3.8]\n",
      " [4.  4.2 4.4 4.6 4.8]\n",
      " [5.  5.2 5.4 5.6 5.8]\n",
      " [6.  6.2 6.4 6.6 6.8]\n",
      " [7.  7.2 7.4 7.6 7.8]\n",
      " [8.  8.2 8.4 8.6 8.8]\n",
      " [9.  9.2 9.4 9.6 9.8]]\n"
     ]
    }
   ],
   "source": [
    "print(c.reshape(9,5))"
   ]
  },
  {
   "cell_type": "code",
   "execution_count": 12,
   "metadata": {},
   "outputs": [
    {
     "data": {
      "text/plain": [
       "array([[126, 266, 415],\n",
       "       [986, 677, 850],\n",
       "       [984, 756, 324]])"
      ]
     },
     "execution_count": 12,
     "metadata": {},
     "output_type": "execute_result"
    }
   ],
   "source": [
    "np.random.randint(1,1000,(3,3))"
   ]
  },
  {
   "attachments": {},
   "cell_type": "markdown",
   "metadata": {},
   "source": [
    "#MATHS IN NUMPY"
   ]
  },
  {
   "cell_type": "code",
   "execution_count": 16,
   "metadata": {},
   "outputs": [
    {
     "name": "stdout",
     "output_type": "stream",
     "text": [
      "[[ 3  5  7]\n",
      " [ 9 13 16]]\n",
      "[[ 1  1  1]\n",
      " [ 1 -1 -2]]\n",
      "[[ 2  6 12]\n",
      " [20 42 63]]\n",
      "[[       2        9       64]\n",
      " [     625   279936 40353607]]\n",
      "[[2.         1.5        1.33333333]\n",
      " [1.25       0.85714286 0.77777778]]\n",
      "[[0 1 1]\n",
      " [1 6 7]]\n",
      "[[ 4  6  8]\n",
      " [10 12 14]]\n"
     ]
    }
   ],
   "source": [
    "x=np.array([\n",
    "    [2,3,4],\n",
    "    [5,6,7]\n",
    "])\n",
    "y=np.array([\n",
    "    [1,2,3],\n",
    "    [4,7,9]\n",
    "])\n",
    "print(x+y)\n",
    "print(x-y)\n",
    "print(x*y)\n",
    "print(x**y)\n",
    "print(x/y)\n",
    "print(x%y)\n",
    "print(x*2)"
   ]
  },
  {
   "cell_type": "code",
   "execution_count": 17,
   "metadata": {},
   "outputs": [
    {
     "ename": "ValueError",
     "evalue": "shapes (2,3) and (2,3) not aligned: 3 (dim 1) != 2 (dim 0)",
     "output_type": "error",
     "traceback": [
      "\u001b[1;31m---------------------------------------------------------------------------\u001b[0m",
      "\u001b[1;31mValueError\u001b[0m                                Traceback (most recent call last)",
      "Cell \u001b[1;32mIn[17], line 2\u001b[0m\n\u001b[0;32m      1\u001b[0m \u001b[39m#matrix multiplication\u001b[39;00m\n\u001b[1;32m----> 2\u001b[0m \u001b[39mprint\u001b[39m(x\u001b[39m.\u001b[39;49mdot(y))\n",
      "\u001b[1;31mValueError\u001b[0m: shapes (2,3) and (2,3) not aligned: 3 (dim 1) != 2 (dim 0)"
     ]
    }
   ],
   "source": [
    "#matrix multiplication\n",
    "print(x.dot(y))"
   ]
  },
  {
   "cell_type": "code",
   "execution_count": 19,
   "metadata": {},
   "outputs": [
    {
     "name": "stdout",
     "output_type": "stream",
     "text": [
      "[[ 20  65]\n",
      " [ 38 125]]\n",
      "[[ 20  65]\n",
      " [ 38 125]]\n",
      "[[ 20  65]\n",
      " [ 38 125]]\n"
     ]
    }
   ],
   "source": [
    "print(x.dot(y.T)) #transpose\n",
    "print(np.matmul(x,y.T))\n",
    "print(x@y.T)"
   ]
  },
  {
   "cell_type": "code",
   "execution_count": 20,
   "metadata": {},
   "outputs": [
    {
     "name": "stdout",
     "output_type": "stream",
     "text": [
      "27\n",
      "[ 7  9 11]\n",
      "[ 9 18]\n",
      "4.5\n",
      "1.707825127659933\n",
      "2\n",
      "7\n",
      "5\n",
      "0\n"
     ]
    }
   ],
   "source": [
    "#statical function\n",
    "print(x.sum()) #sum of all elements\n",
    "print(x.sum(axis=0)) # sum of colums\n",
    "print(x.sum(axis=1)) #sum of rows\n",
    "print(x.mean())#mean of elements\n",
    "print(x.std())#standard deviation\n",
    "print(x.min())#min of all elements\n",
    "print(x.max())#max of all elements\n",
    "print(x.argmax())#index of max element\n",
    "print(x.argmin())#index of min element"
   ]
  },
  {
   "cell_type": "code",
   "execution_count": 21,
   "metadata": {},
   "outputs": [
    {
     "name": "stdout",
     "output_type": "stream",
     "text": [
      "[[ 0.90929743  0.14112001 -0.7568025 ]\n",
      " [-0.95892427 -0.2794155   0.6569866 ]]\n",
      "[[-2.18503986 -0.14254654  1.15782128]\n",
      " [-3.38051501 -0.29100619  0.87144798]]\n",
      "[[-0.41614684 -0.9899925  -0.65364362]\n",
      " [ 0.28366219  0.96017029  0.75390225]]\n"
     ]
    }
   ],
   "source": [
    "#trignmetric functions\n",
    "print(np.sin(x))\n",
    "print(np.tan(x))\n",
    "print(np.cos(x))\n"
   ]
  },
  {
   "cell_type": "code",
   "execution_count": 22,
   "metadata": {},
   "outputs": [
    {
     "name": "stdout",
     "output_type": "stream",
     "text": [
      "2\n",
      "[2 3 4]\n",
      "[2 5]\n",
      "[[2 3]\n",
      " [5 6]]\n",
      "[[2 3 4]\n",
      " [5 6 7]]\n"
     ]
    }
   ],
   "source": [
    "#indexing n sclicing\n",
    "print(x[0,0])\n",
    "print(x[0,:])\n",
    "print(x[:,0])\n",
    "print(x[0:2,0:2])\n",
    "print(x[:2])"
   ]
  },
  {
   "cell_type": "code",
   "execution_count": null,
   "metadata": {},
   "outputs": [],
   "source": []
  }
 ],
 "metadata": {
  "kernelspec": {
   "display_name": "base",
   "language": "python",
   "name": "python3"
  },
  "language_info": {
   "codemirror_mode": {
    "name": "ipython",
    "version": 3
   },
   "file_extension": ".py",
   "mimetype": "text/x-python",
   "name": "python",
   "nbconvert_exporter": "python",
   "pygments_lexer": "ipython3",
   "version": "3.10.10"
  },
  "orig_nbformat": 4
 },
 "nbformat": 4,
 "nbformat_minor": 2
}
