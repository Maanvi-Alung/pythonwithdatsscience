{
 "cells": [
  {
   "cell_type": "code",
   "execution_count": 3,
   "metadata": {},
   "outputs": [
    {
     "name": "stdout",
     "output_type": "stream",
     "text": [
      "1\n",
      "2\n",
      "3\n",
      "4\n",
      "5\n",
      "6\n",
      "7\n",
      "8\n",
      "9\n",
      "10\n"
     ]
    }
   ],
   "source": [
    "#Write a program to print numbers from 1 to 10 using a for loop.\n",
    "for i in range(1,11):\n",
    "    print(i)\n",
    "    i+=1\n",
    "    "
   ]
  },
  {
   "cell_type": "code",
   "execution_count": 8,
   "metadata": {},
   "outputs": [
    {
     "name": "stdout",
     "output_type": "stream",
     "text": [
      "2*1=2\n",
      "2*2=4\n",
      "2*3=6\n",
      "2*4=8\n",
      "2*5=10\n",
      "2*6=12\n",
      "2*7=14\n",
      "2*8=16\n",
      "2*9=18\n",
      "2*10=20\n"
     ]
    }
   ],
   "source": [
    "#Write a program to print the multiplication table of a given number using a while loop.\n",
    "x=1\n",
    "n=int(input(\"enter a num to print the table:\"))\n",
    "while x<=10:\n",
    "    multi=n*x\n",
    "    print(f'{n}*{x}={multi}')\n",
    "    x+=1\n",
    "    "
   ]
  },
  {
   "cell_type": "code",
   "execution_count": 11,
   "metadata": {},
   "outputs": [
    {
     "name": "stdout",
     "output_type": "stream",
     "text": [
      "2550\n"
     ]
    }
   ],
   "source": [
    "#Write a program to find the sum of all even numbers between 1 and 100 using a for loop.\n",
    "sum=0\n",
    "for i in range(1,101):\n",
    "    if i%2==0:\n",
    "        sum=sum+i\n",
    "print(sum)    "
   ]
  },
  {
   "cell_type": "code",
   "execution_count": 26,
   "metadata": {},
   "outputs": [
    {
     "name": "stdout",
     "output_type": "stream",
     "text": [
      "prime\n"
     ]
    }
   ],
   "source": [
    "#Write a program to check if a given number is prime or not using a while loop.\n",
    "n=int(input(\"enter a number\"))\n",
    "i=2\n",
    "while i<n-1:\n",
    "    if n%i==0:\n",
    "        print(\"not prime\")\n",
    "        break\n",
    "    i+=1   \n",
    "else:\n",
    "    print(\"prime\")    "
   ]
  },
  {
   "cell_type": "code",
   "execution_count": 29,
   "metadata": {},
   "outputs": [
    {
     "name": "stdout",
     "output_type": "stream",
     "text": [
      "649483984028395659661733295685901544934978750889527945304800574997196752255580683501579493203611359904547285858217349996008840933739864309090760564167410232634774034181673112476193518020272968159594517767951330680339855683079154029302460204496322003226460300201055132334972008130888407689678477616804900037361803481984019857638776753187961318154550868102082442011587321977461579828452180032961546140560791362673589415265548674040204561654854738960357963782223298621014763467616334187134715686112824112384087119751142749500625396972146523051566907340914339421218445802707140645150524683582597267523518417552114580408791259115741242671849038630183774837321371003784787980300701886231721231933549546790748358706265290263648642561029265814333231693309937892569909750234913845749874390612394576728720824721439991034142668193834500479118514349720808566703473178741837234006618197259923961253586532789940899465170455333356920414918265259273380016594597964163679195762340018093067387748601344632351849448708998046156066870567303965851516974890601183731644798182852989491099157918032798287403599576875645915376678846053889721185339136259701818471072888435597553117078733428383331888660480000000000000000000000000000000000000000000000000000000000000000000000000000000000000000000000000000000000000000000000000000000000000000000\n"
     ]
    }
   ],
   "source": [
    "#Write a program to calculate the factorial of a number using a for loop.\n",
    "a=int(input(\"enter a number:\"))\n",
    "fact=1\n",
    "for i in range(1,a+1):\n",
    "    fact=fact*i\n",
    "print(fact)\n",
    "    "
   ]
  },
  {
   "cell_type": "code",
   "execution_count": 45,
   "metadata": {},
   "outputs": [
    {
     "name": "stdout",
     "output_type": "stream",
     "text": [
      "0\n",
      "1\n",
      "1\n",
      "2\n",
      "3\n",
      "5\n"
     ]
    }
   ],
   "source": [
    "#Write a program to print the Fibonacci series up to a given limit using a while loop.\n",
    "x=int(input(\"Enter limit\"))\n",
    "a=0\n",
    "b=1\n",
    "i=2\n",
    "print(a)\n",
    "print(b)\n",
    "c=0\n",
    "while(i<x):\n",
    "    c=a+b;\n",
    "    print(c)\n",
    "    a=b\n",
    "    b=c\n",
    "    c=a\n",
    "    i=i+1"
   ]
  },
  {
   "cell_type": "code",
   "execution_count": 61,
   "metadata": {},
   "outputs": [
    {
     "name": "stdout",
     "output_type": "stream",
     "text": [
      "65\n"
     ]
    }
   ],
   "source": [
    "#Write a program to find the largest element in an array using a for loop.\n",
    "\n",
    "a=[5,21,65,22,0,4]\n",
    "s=len(a)\n",
    "m=a[0]\n",
    "for i in range (s):\n",
    "    if a[i]>m:\n",
    "        m=a[i]\n",
    "print(m)"
   ]
  },
  {
   "cell_type": "code",
   "execution_count": 71,
   "metadata": {},
   "outputs": [
    {
     "name": "stdout",
     "output_type": "stream",
     "text": [
      "ivnaam\n"
     ]
    }
   ],
   "source": [
    "#Write a program to reverse a given string using a while loop.     \n",
    "s = input(\"enter a string\")\n",
    "i = s\n",
    "a = len(i)\n",
    "reverse = ''\n",
    "while a > 0:\n",
    "    n = i[a - 1]\n",
    "    reverse += n\n",
    "    a -= 1\n",
    "print(reverse)"
   ]
  },
  {
   "cell_type": "code",
   "execution_count": 81,
   "metadata": {},
   "outputs": [
    {
     "name": "stdout",
     "output_type": "stream",
     "text": [
      "77\n",
      "78\n"
     ]
    }
   ],
   "source": [
    "#Write a program to print the ASCII values of all uppercase letters using a for loop.\n",
    "a=input(\"enter a string\")\n",
    "for i in a:\n",
    "    if i.isupper():\n",
    "        s=ord(i)\n",
    "        print(s)\n",
    "\n"
   ]
  },
  {
   "cell_type": "code",
   "execution_count": 91,
   "metadata": {},
   "outputs": [
    {
     "name": "stdout",
     "output_type": "stream",
     "text": [
      "palindrome\n"
     ]
    }
   ],
   "source": [
    "#Write a program to check if a given string is a palindrome using a while loop.\n",
    "s=input(\"enter a string\")\n",
    "n=0\n",
    "while n<len(s)-1:\n",
    "    if s[::-1]==s:\n",
    "        print(\"palindrome\")\n",
    "        n+=1\n",
    "        break    \n",
    "    else:\n",
    "        print(\"not palindrome\")    "
   ]
  },
  {
   "cell_type": "code",
   "execution_count": 92,
   "metadata": {},
   "outputs": [
    {
     "name": "stdout",
     "output_type": "stream",
     "text": [
      "17.714285714285715\n"
     ]
    }
   ],
   "source": [
    "#Write a program to calculate the average of a list of numbers using a for loop.\n",
    "l=[3,5,8,2,9,7,4,33,6,8,9,33,55,66]\n",
    "le=len(l)\n",
    "sum=0\n",
    "avg=0\n",
    "for i in l:\n",
    "    sum=sum+i\n",
    "avg=sum/le\n",
    "print(avg)\n",
    "    \n",
    "    "
   ]
  },
  {
   "cell_type": "code",
   "execution_count": 101,
   "metadata": {},
   "outputs": [
    {
     "name": "stdout",
     "output_type": "stream",
     "text": [
      "0\n"
     ]
    }
   ],
   "source": [
    "#Write a program to find the smallest element in an array using a while loop.\n",
    "a=[5,21,65,22,0,4]\n",
    "s=len(a)\n",
    "m=a[0]\n",
    "i=0\n",
    "while s>0:\n",
    "    if a[i]<m:\n",
    "        m=a[i]\n",
    "    i+=1\n",
    "    s-=1\n",
    "print(m)\n"
   ]
  },
  {
   "cell_type": "code",
   "execution_count": null,
   "metadata": {},
   "outputs": [],
   "source": []
  }
 ],
 "metadata": {
  "kernelspec": {
   "display_name": "base",
   "language": "python",
   "name": "python3"
  },
  "language_info": {
   "codemirror_mode": {
    "name": "ipython",
    "version": 3
   },
   "file_extension": ".py",
   "mimetype": "text/x-python",
   "name": "python",
   "nbconvert_exporter": "python",
   "pygments_lexer": "ipython3",
   "version": "3.10.10"
  },
  "orig_nbformat": 4
 },
 "nbformat": 4,
 "nbformat_minor": 2
}
