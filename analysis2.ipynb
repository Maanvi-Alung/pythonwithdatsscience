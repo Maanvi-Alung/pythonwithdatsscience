{
 "cells": [
  {
   "cell_type": "code",
   "execution_count": 1,
   "metadata": {},
   "outputs": [],
   "source": [
    "import pandas as pd\n",
    "import numpy as np\n",
    "import plotly.express as px\n"
   ]
  },
  {
   "cell_type": "code",
   "execution_count": 2,
   "metadata": {},
   "outputs": [
    {
     "data": {
      "text/html": [
       "<div>\n",
       "<style scoped>\n",
       "    .dataframe tbody tr th:only-of-type {\n",
       "        vertical-align: middle;\n",
       "    }\n",
       "\n",
       "    .dataframe tbody tr th {\n",
       "        vertical-align: top;\n",
       "    }\n",
       "\n",
       "    .dataframe thead th {\n",
       "        text-align: right;\n",
       "    }\n",
       "</style>\n",
       "<table border=\"1\" class=\"dataframe\">\n",
       "  <thead>\n",
       "    <tr style=\"text-align: right;\">\n",
       "      <th></th>\n",
       "      <th>_id</th>\n",
       "      <th>actual_price</th>\n",
       "      <th>average_rating</th>\n",
       "      <th>brand</th>\n",
       "      <th>category</th>\n",
       "      <th>crawled_at</th>\n",
       "      <th>description</th>\n",
       "      <th>discount</th>\n",
       "      <th>images</th>\n",
       "      <th>out_of_stock</th>\n",
       "      <th>pid</th>\n",
       "      <th>product_details</th>\n",
       "      <th>seller</th>\n",
       "      <th>selling_price</th>\n",
       "      <th>sub_category</th>\n",
       "      <th>title</th>\n",
       "      <th>url</th>\n",
       "    </tr>\n",
       "  </thead>\n",
       "  <tbody>\n",
       "    <tr>\n",
       "      <th>0</th>\n",
       "      <td>fa8e22d6-c0b6-5229-bb9e-ad52eda39a0a</td>\n",
       "      <td>2,999</td>\n",
       "      <td>3.9</td>\n",
       "      <td>York</td>\n",
       "      <td>Clothing and Accessories</td>\n",
       "      <td>2021-02-10 20:11:51</td>\n",
       "      <td>Yorker trackpants made from 100% rich combed c...</td>\n",
       "      <td>69% off</td>\n",
       "      <td>[https://rukminim1.flixcart.com/image/128/128/...</td>\n",
       "      <td>False</td>\n",
       "      <td>TKPFCZ9EA7H5FYZH</td>\n",
       "      <td>[{'Style Code': '1005COMBO2'}, {'Closure': 'El...</td>\n",
       "      <td>Shyam Enterprises</td>\n",
       "      <td>921</td>\n",
       "      <td>Bottomwear</td>\n",
       "      <td>Solid Men Multicolor Track Pants</td>\n",
       "      <td>https://www.flipkart.com/yorker-solid-men-mult...</td>\n",
       "    </tr>\n",
       "    <tr>\n",
       "      <th>1</th>\n",
       "      <td>893e6980-f2a0-531f-b056-34dd63fe912c</td>\n",
       "      <td>1,499</td>\n",
       "      <td>3.9</td>\n",
       "      <td>York</td>\n",
       "      <td>Clothing and Accessories</td>\n",
       "      <td>2021-02-10 20:11:52</td>\n",
       "      <td>Yorker trackpants made from 100% rich combed c...</td>\n",
       "      <td>66% off</td>\n",
       "      <td>[https://rukminim1.flixcart.com/image/128/128/...</td>\n",
       "      <td>False</td>\n",
       "      <td>TKPFCZ9EJZV2UVRZ</td>\n",
       "      <td>[{'Style Code': '1005BLUE'}, {'Closure': 'Draw...</td>\n",
       "      <td>Shyam Enterprises</td>\n",
       "      <td>499</td>\n",
       "      <td>Bottomwear</td>\n",
       "      <td>Solid Men Blue Track Pants</td>\n",
       "      <td>https://www.flipkart.com/yorker-solid-men-blue...</td>\n",
       "    </tr>\n",
       "    <tr>\n",
       "      <th>2</th>\n",
       "      <td>eb4c8eab-8206-59d0-bcd1-a724d96bf74f</td>\n",
       "      <td>2,999</td>\n",
       "      <td>3.9</td>\n",
       "      <td>York</td>\n",
       "      <td>Clothing and Accessories</td>\n",
       "      <td>2021-02-10 20:11:52</td>\n",
       "      <td>Yorker trackpants made from 100% rich combed c...</td>\n",
       "      <td>68% off</td>\n",
       "      <td>[https://rukminim1.flixcart.com/image/128/128/...</td>\n",
       "      <td>False</td>\n",
       "      <td>TKPFCZ9EHFCY5Z4Y</td>\n",
       "      <td>[{'Style Code': '1005COMBO4'}, {'Closure': 'El...</td>\n",
       "      <td>Shyam Enterprises</td>\n",
       "      <td>931</td>\n",
       "      <td>Bottomwear</td>\n",
       "      <td>Solid Men Multicolor Track Pants</td>\n",
       "      <td>https://www.flipkart.com/yorker-solid-men-mult...</td>\n",
       "    </tr>\n",
       "    <tr>\n",
       "      <th>3</th>\n",
       "      <td>3f3f97bb-5faf-57df-a9ff-1af24e2b1045</td>\n",
       "      <td>2,999</td>\n",
       "      <td>3.9</td>\n",
       "      <td>York</td>\n",
       "      <td>Clothing and Accessories</td>\n",
       "      <td>2021-02-10 20:11:53</td>\n",
       "      <td>Yorker trackpants made from 100% rich combed c...</td>\n",
       "      <td>69% off</td>\n",
       "      <td>[https://rukminim1.flixcart.com/image/128/128/...</td>\n",
       "      <td>False</td>\n",
       "      <td>TKPFCZ9ESZZ7YWEF</td>\n",
       "      <td>[{'Style Code': '1005COMBO3'}, {'Closure': 'El...</td>\n",
       "      <td>Shyam Enterprises</td>\n",
       "      <td>911</td>\n",
       "      <td>Bottomwear</td>\n",
       "      <td>Solid Men Multicolor Track Pants</td>\n",
       "      <td>https://www.flipkart.com/yorker-solid-men-mult...</td>\n",
       "    </tr>\n",
       "    <tr>\n",
       "      <th>4</th>\n",
       "      <td>750caa3d-6264-53ca-8ce1-94118a1d8951</td>\n",
       "      <td>2,999</td>\n",
       "      <td>3.9</td>\n",
       "      <td>York</td>\n",
       "      <td>Clothing and Accessories</td>\n",
       "      <td>2021-02-10 20:11:53</td>\n",
       "      <td>Yorker trackpants made from 100% rich combed c...</td>\n",
       "      <td>68% off</td>\n",
       "      <td>[https://rukminim1.flixcart.com/image/128/128/...</td>\n",
       "      <td>False</td>\n",
       "      <td>TKPFCZ9EVXKBSUD7</td>\n",
       "      <td>[{'Style Code': '1005COMBO1'}, {'Closure': 'Dr...</td>\n",
       "      <td>Shyam Enterprises</td>\n",
       "      <td>943</td>\n",
       "      <td>Bottomwear</td>\n",
       "      <td>Solid Men Brown, Grey Track Pants</td>\n",
       "      <td>https://www.flipkart.com/yorker-solid-men-brow...</td>\n",
       "    </tr>\n",
       "  </tbody>\n",
       "</table>\n",
       "</div>"
      ],
      "text/plain": [
       "                                    _id actual_price average_rating brand  \\\n",
       "0  fa8e22d6-c0b6-5229-bb9e-ad52eda39a0a        2,999            3.9  York   \n",
       "1  893e6980-f2a0-531f-b056-34dd63fe912c        1,499            3.9  York   \n",
       "2  eb4c8eab-8206-59d0-bcd1-a724d96bf74f        2,999            3.9  York   \n",
       "3  3f3f97bb-5faf-57df-a9ff-1af24e2b1045        2,999            3.9  York   \n",
       "4  750caa3d-6264-53ca-8ce1-94118a1d8951        2,999            3.9  York   \n",
       "\n",
       "                   category          crawled_at  \\\n",
       "0  Clothing and Accessories 2021-02-10 20:11:51   \n",
       "1  Clothing and Accessories 2021-02-10 20:11:52   \n",
       "2  Clothing and Accessories 2021-02-10 20:11:52   \n",
       "3  Clothing and Accessories 2021-02-10 20:11:53   \n",
       "4  Clothing and Accessories 2021-02-10 20:11:53   \n",
       "\n",
       "                                         description discount  \\\n",
       "0  Yorker trackpants made from 100% rich combed c...  69% off   \n",
       "1  Yorker trackpants made from 100% rich combed c...  66% off   \n",
       "2  Yorker trackpants made from 100% rich combed c...  68% off   \n",
       "3  Yorker trackpants made from 100% rich combed c...  69% off   \n",
       "4  Yorker trackpants made from 100% rich combed c...  68% off   \n",
       "\n",
       "                                              images  out_of_stock  \\\n",
       "0  [https://rukminim1.flixcart.com/image/128/128/...         False   \n",
       "1  [https://rukminim1.flixcart.com/image/128/128/...         False   \n",
       "2  [https://rukminim1.flixcart.com/image/128/128/...         False   \n",
       "3  [https://rukminim1.flixcart.com/image/128/128/...         False   \n",
       "4  [https://rukminim1.flixcart.com/image/128/128/...         False   \n",
       "\n",
       "                pid                                    product_details  \\\n",
       "0  TKPFCZ9EA7H5FYZH  [{'Style Code': '1005COMBO2'}, {'Closure': 'El...   \n",
       "1  TKPFCZ9EJZV2UVRZ  [{'Style Code': '1005BLUE'}, {'Closure': 'Draw...   \n",
       "2  TKPFCZ9EHFCY5Z4Y  [{'Style Code': '1005COMBO4'}, {'Closure': 'El...   \n",
       "3  TKPFCZ9ESZZ7YWEF  [{'Style Code': '1005COMBO3'}, {'Closure': 'El...   \n",
       "4  TKPFCZ9EVXKBSUD7  [{'Style Code': '1005COMBO1'}, {'Closure': 'Dr...   \n",
       "\n",
       "              seller selling_price sub_category  \\\n",
       "0  Shyam Enterprises           921   Bottomwear   \n",
       "1  Shyam Enterprises           499   Bottomwear   \n",
       "2  Shyam Enterprises           931   Bottomwear   \n",
       "3  Shyam Enterprises           911   Bottomwear   \n",
       "4  Shyam Enterprises           943   Bottomwear   \n",
       "\n",
       "                               title  \\\n",
       "0   Solid Men Multicolor Track Pants   \n",
       "1         Solid Men Blue Track Pants   \n",
       "2   Solid Men Multicolor Track Pants   \n",
       "3   Solid Men Multicolor Track Pants   \n",
       "4  Solid Men Brown, Grey Track Pants   \n",
       "\n",
       "                                                 url  \n",
       "0  https://www.flipkart.com/yorker-solid-men-mult...  \n",
       "1  https://www.flipkart.com/yorker-solid-men-blue...  \n",
       "2  https://www.flipkart.com/yorker-solid-men-mult...  \n",
       "3  https://www.flipkart.com/yorker-solid-men-mult...  \n",
       "4  https://www.flipkart.com/yorker-solid-men-brow...  "
      ]
     },
     "execution_count": 2,
     "metadata": {},
     "output_type": "execute_result"
    }
   ],
   "source": [
    "df=pd.read_json('flipkart_fashion_products_dataset.json')\n",
    "df.head()"
   ]
  },
  {
   "cell_type": "code",
   "execution_count": 3,
   "metadata": {},
   "outputs": [
    {
     "name": "stdout",
     "output_type": "stream",
     "text": [
      "<class 'pandas.core.frame.DataFrame'>\n",
      "RangeIndex: 30000 entries, 0 to 29999\n",
      "Data columns (total 17 columns):\n",
      " #   Column           Non-Null Count  Dtype         \n",
      "---  ------           --------------  -----         \n",
      " 0   _id              30000 non-null  object        \n",
      " 1   actual_price     30000 non-null  object        \n",
      " 2   average_rating   30000 non-null  object        \n",
      " 3   brand            30000 non-null  object        \n",
      " 4   category         30000 non-null  object        \n",
      " 5   crawled_at       30000 non-null  datetime64[ns]\n",
      " 6   description      30000 non-null  object        \n",
      " 7   discount         30000 non-null  object        \n",
      " 8   images           30000 non-null  object        \n",
      " 9   out_of_stock     30000 non-null  bool          \n",
      " 10  pid              30000 non-null  object        \n",
      " 11  product_details  30000 non-null  object        \n",
      " 12  seller           30000 non-null  object        \n",
      " 13  selling_price    30000 non-null  object        \n",
      " 14  sub_category     30000 non-null  object        \n",
      " 15  title            30000 non-null  object        \n",
      " 16  url              30000 non-null  object        \n",
      "dtypes: bool(1), datetime64[ns](1), object(15)\n",
      "memory usage: 3.7+ MB\n"
     ]
    }
   ],
   "source": [
    "df.info()"
   ]
  },
  {
   "cell_type": "code",
   "execution_count": 5,
   "metadata": {},
   "outputs": [
    {
     "data": {
      "text/plain": [
       "0        2999\n",
       "1        1499\n",
       "2        2999\n",
       "3        2999\n",
       "4        2999\n",
       "         ... \n",
       "29995    2299\n",
       "29996     799\n",
       "29997    4999\n",
       "29998    3125\n",
       "29999    3125\n",
       "Name: actual_price, Length: 30000, dtype: object"
      ]
     },
     "execution_count": 5,
     "metadata": {},
     "output_type": "execute_result"
    }
   ],
   "source": [
    "df['actual_price'].str.replace(',','') #remove coma"
   ]
  },
  {
   "cell_type": "code",
   "execution_count": 11,
   "metadata": {},
   "outputs": [
    {
     "data": {
      "text/plain": [
       "0        2999.0\n",
       "1        1499.0\n",
       "2        2999.0\n",
       "3        2999.0\n",
       "4        2999.0\n",
       "          ...  \n",
       "29995    2299.0\n",
       "29996     799.0\n",
       "29997    4999.0\n",
       "29998    3125.0\n",
       "29999    3125.0\n",
       "Name: actual_price, Length: 30000, dtype: float64"
      ]
     },
     "execution_count": 11,
     "metadata": {},
     "output_type": "execute_result"
    }
   ],
   "source": [
    "def clean_price(value):\n",
    "    if not value:\n",
    "        return np.nan #to remove blnk \n",
    "    if isinstance(value,str):\n",
    "        value=value.replace(',','')\n",
    "        if value.isnumeric():\n",
    "            return float(value)\n",
    "    return(value)    \n",
    "df['actual_price'].apply(clean_price) #test   "
   ]
  },
  {
   "cell_type": "code",
   "execution_count": 13,
   "metadata": {},
   "outputs": [
    {
     "name": "stdout",
     "output_type": "stream",
     "text": [
      "<class 'pandas.core.frame.DataFrame'>\n",
      "RangeIndex: 30000 entries, 0 to 29999\n",
      "Data columns (total 17 columns):\n",
      " #   Column           Non-Null Count  Dtype         \n",
      "---  ------           --------------  -----         \n",
      " 0   _id              30000 non-null  object        \n",
      " 1   actual_price     29137 non-null  float64       \n",
      " 2   average_rating   30000 non-null  object        \n",
      " 3   brand            30000 non-null  object        \n",
      " 4   category         30000 non-null  object        \n",
      " 5   crawled_at       30000 non-null  datetime64[ns]\n",
      " 6   description      30000 non-null  object        \n",
      " 7   discount         30000 non-null  object        \n",
      " 8   images           30000 non-null  object        \n",
      " 9   out_of_stock     30000 non-null  bool          \n",
      " 10  pid              30000 non-null  object        \n",
      " 11  product_details  30000 non-null  object        \n",
      " 12  seller           30000 non-null  object        \n",
      " 13  selling_price    29998 non-null  float64       \n",
      " 14  sub_category     30000 non-null  object        \n",
      " 15  title            30000 non-null  object        \n",
      " 16  url              30000 non-null  object        \n",
      "dtypes: bool(1), datetime64[ns](1), float64(2), object(13)\n",
      "memory usage: 3.7+ MB\n"
     ]
    }
   ],
   "source": [
    "df['actual_price']=df['actual_price'].apply(clean_price) #actual implement\n",
    "df['selling_price']=df['selling_price'].apply(clean_price)\n",
    "df.info()"
   ]
  },
  {
   "cell_type": "code",
   "execution_count": 14,
   "metadata": {},
   "outputs": [
    {
     "data": {
      "text/plain": [
       "0        69.0\n",
       "1        66.0\n",
       "2        68.0\n",
       "3        69.0\n",
       "4        68.0\n",
       "         ... \n",
       "29995    40.0\n",
       "29996    34.0\n",
       "29997    40.0\n",
       "29998    40.0\n",
       "29999    40.0\n",
       "Name: discount, Length: 30000, dtype: float64"
      ]
     },
     "execution_count": 14,
     "metadata": {},
     "output_type": "execute_result"
    }
   ],
   "source": [
    "def clean_discount(value):\n",
    "    if not value:\n",
    "        return np.nan\n",
    "    elif isinstance(value,str):\n",
    "        value=value.replace('% off','')\n",
    "        try:\n",
    "            value=float(value)\n",
    "            return value\n",
    "        except:\n",
    "            print(value)\n",
    "            return np.nan\n",
    "    else:\n",
    "        return value\n",
    "    \n",
    "#test\n",
    "df['discount'].apply(clean_discount)        "
   ]
  },
  {
   "cell_type": "code",
   "execution_count": 15,
   "metadata": {},
   "outputs": [],
   "source": [
    "df['discount']=df['discount'].apply(clean_discount)"
   ]
  },
  {
   "cell_type": "code",
   "execution_count": 16,
   "metadata": {},
   "outputs": [
    {
     "data": {
      "text/plain": [
       "0        3.9\n",
       "1        3.9\n",
       "2        3.9\n",
       "3        3.9\n",
       "4        3.9\n",
       "        ... \n",
       "29995    NaN\n",
       "29996    3.8\n",
       "29997    NaN\n",
       "29998    3.8\n",
       "29999    NaN\n",
       "Name: average_rating, Length: 30000, dtype: float64"
      ]
     },
     "execution_count": 16,
     "metadata": {},
     "output_type": "execute_result"
    }
   ],
   "source": [
    "def clean_rating(value):\n",
    "    if value:\n",
    "        return float(value)\n",
    "    return np.nan\n",
    "\n",
    "#test\n",
    "df['average_rating'].apply(clean_rating)"
   ]
  },
  {
   "cell_type": "code",
   "execution_count": 17,
   "metadata": {},
   "outputs": [],
   "source": [
    "df['average_rating']=df['average_rating'].apply(clean_rating)"
   ]
  },
  {
   "cell_type": "code",
   "execution_count": 20,
   "metadata": {},
   "outputs": [
    {
     "data": {
      "text/html": [
       "<div>\n",
       "<style scoped>\n",
       "    .dataframe tbody tr th:only-of-type {\n",
       "        vertical-align: middle;\n",
       "    }\n",
       "\n",
       "    .dataframe tbody tr th {\n",
       "        vertical-align: top;\n",
       "    }\n",
       "\n",
       "    .dataframe thead th {\n",
       "        text-align: right;\n",
       "    }\n",
       "</style>\n",
       "<table border=\"1\" class=\"dataframe\">\n",
       "  <thead>\n",
       "    <tr style=\"text-align: right;\">\n",
       "      <th></th>\n",
       "      <th>_id</th>\n",
       "      <th>actual_price</th>\n",
       "      <th>average_rating</th>\n",
       "      <th>brand</th>\n",
       "      <th>category</th>\n",
       "      <th>crawled_at</th>\n",
       "      <th>description</th>\n",
       "      <th>discount</th>\n",
       "      <th>images</th>\n",
       "      <th>out_of_stock</th>\n",
       "      <th>pid</th>\n",
       "      <th>product_details</th>\n",
       "      <th>seller</th>\n",
       "      <th>selling_price</th>\n",
       "      <th>sub_category</th>\n",
       "      <th>title</th>\n",
       "      <th>url</th>\n",
       "    </tr>\n",
       "  </thead>\n",
       "  <tbody>\n",
       "    <tr>\n",
       "      <th>2246</th>\n",
       "      <td>b0723b53-654d-5b22-b98a-0565bb0a2f2d</td>\n",
       "      <td>9999.0</td>\n",
       "      <td>2.7</td>\n",
       "      <td>REEB</td>\n",
       "      <td>Clothing and Accessories</td>\n",
       "      <td>2021-02-10 20:33:58</td>\n",
       "      <td>CBT CMG TRACK SUIT</td>\n",
       "      <td>20.0</td>\n",
       "      <td>[https://rukminim1.flixcart.com/image/128/128/...</td>\n",
       "      <td>True</td>\n",
       "      <td>TKTFZ3YGGMMNBYEZ</td>\n",
       "      <td>[{'Color': 'Black'}, {'Pattern': 'Solid'}, {'S...</td>\n",
       "      <td></td>\n",
       "      <td>7999.0</td>\n",
       "      <td>Tracksuits</td>\n",
       "      <td>Solid Men Track Suit</td>\n",
       "      <td>https://www.flipkart.com/reebok-solid-men-trac...</td>\n",
       "    </tr>\n",
       "    <tr>\n",
       "      <th>11683</th>\n",
       "      <td>c3b0cf3b-6b71-5c69-8086-82ef76361c4a</td>\n",
       "      <td>7999.0</td>\n",
       "      <td>2.6</td>\n",
       "      <td>True Bl</td>\n",
       "      <td>Clothing and Accessories</td>\n",
       "      <td>2021-02-10 22:22:13</td>\n",
       "      <td></td>\n",
       "      <td>NaN</td>\n",
       "      <td>[https://rukminim1.flixcart.com/image/128/128/...</td>\n",
       "      <td>False</td>\n",
       "      <td>BZRFVAX2QGTEGHRH</td>\n",
       "      <td>[{'Color': 'Grey'}, {'Fabric': 'Polyester'}, {...</td>\n",
       "      <td>ArvindTrueBlue</td>\n",
       "      <td>7998.0</td>\n",
       "      <td>Blazers, Waistcoats and Suits</td>\n",
       "      <td>Checkered Single Breasted Party Men Full Sleev...</td>\n",
       "      <td>https://www.flipkart.com/true-blue-checkered-s...</td>\n",
       "    </tr>\n",
       "    <tr>\n",
       "      <th>27627</th>\n",
       "      <td>a0b220a6-da00-5e0a-a64e-ef78921d8e5d</td>\n",
       "      <td>12999.0</td>\n",
       "      <td>3.7</td>\n",
       "      <td>Pu</td>\n",
       "      <td>Clothing and Accessories</td>\n",
       "      <td>2021-02-11 01:09:12</td>\n",
       "      <td>Stylish and trendy jacket for men</td>\n",
       "      <td>40.0</td>\n",
       "      <td>[https://rukminim1.flixcart.com/image/128/128/...</td>\n",
       "      <td>False</td>\n",
       "      <td>JCKFQF5KMJJ349H8</td>\n",
       "      <td>[{'Color': 'Black'}, {'Fabric': 'Cotton Blend'...</td>\n",
       "      <td>RetailNet</td>\n",
       "      <td>7799.0</td>\n",
       "      <td>Winter Wear</td>\n",
       "      <td>Full Sleeve Solid Men Casual Jacket</td>\n",
       "      <td>https://www.flipkart.com/puma-full-sleeve-soli...</td>\n",
       "    </tr>\n",
       "    <tr>\n",
       "      <th>27971</th>\n",
       "      <td>47d09c94-3e3c-55b8-9611-906ce9bf7e3a</td>\n",
       "      <td>12999.0</td>\n",
       "      <td>4.5</td>\n",
       "      <td>Pu</td>\n",
       "      <td>Clothing and Accessories</td>\n",
       "      <td>2021-02-11 01:12:12</td>\n",
       "      <td></td>\n",
       "      <td>40.0</td>\n",
       "      <td>[https://rukminim1.flixcart.com/image/128/128/...</td>\n",
       "      <td>False</td>\n",
       "      <td>SWSFUMFGQFKVZGYH</td>\n",
       "      <td>[{'Color': 'Black'}, {'Fabric': 'Polyester'}, ...</td>\n",
       "      <td>RetailNet</td>\n",
       "      <td>7799.0</td>\n",
       "      <td>Winter Wear</td>\n",
       "      <td>Full Sleeve Printed Men Sweatshirt</td>\n",
       "      <td>https://www.flipkart.com/puma-full-sleeve-prin...</td>\n",
       "    </tr>\n",
       "    <tr>\n",
       "      <th>7355</th>\n",
       "      <td>3856ec4c-65d3-555f-9666-8a27ddc2f41d</td>\n",
       "      <td>12990.0</td>\n",
       "      <td>4.2</td>\n",
       "      <td>G</td>\n",
       "      <td>Clothing and Accessories</td>\n",
       "      <td>2021-02-10 21:30:13</td>\n",
       "      <td>SAX ZIP</td>\n",
       "      <td>40.0</td>\n",
       "      <td>[https://rukminim1.flixcart.com/image/128/128/...</td>\n",
       "      <td>False</td>\n",
       "      <td>JEAF8S4GWU5YKQTF</td>\n",
       "      <td>[{'Style Code': '92735WM18'}, {'Ideal For': 'M...</td>\n",
       "      <td>RetailNet</td>\n",
       "      <td>7794.0</td>\n",
       "      <td>Bottomwear</td>\n",
       "      <td>Skinny Men Blue Jeans</td>\n",
       "      <td>https://www.flipkart.com/gas-skinny-men-blue-j...</td>\n",
       "    </tr>\n",
       "    <tr>\n",
       "      <th>...</th>\n",
       "      <td>...</td>\n",
       "      <td>...</td>\n",
       "      <td>...</td>\n",
       "      <td>...</td>\n",
       "      <td>...</td>\n",
       "      <td>...</td>\n",
       "      <td>...</td>\n",
       "      <td>...</td>\n",
       "      <td>...</td>\n",
       "      <td>...</td>\n",
       "      <td>...</td>\n",
       "      <td>...</td>\n",
       "      <td>...</td>\n",
       "      <td>...</td>\n",
       "      <td>...</td>\n",
       "      <td>...</td>\n",
       "      <td>...</td>\n",
       "    </tr>\n",
       "    <tr>\n",
       "      <th>8115</th>\n",
       "      <td>45e47a31-c178-5ac5-98ca-1986949cfd9b</td>\n",
       "      <td>499.0</td>\n",
       "      <td>3.9</td>\n",
       "      <td>your shopping sto</td>\n",
       "      <td>Clothing and Accessories</td>\n",
       "      <td>2021-02-10 21:38:02</td>\n",
       "      <td>Socks has now become a everyday essential fash...</td>\n",
       "      <td>76.0</td>\n",
       "      <td>[]</td>\n",
       "      <td>False</td>\n",
       "      <td>SOCFFGA2FYZQBFXT</td>\n",
       "      <td>[{'Color': 'Black, Grey'}, {'Pattern': 'Color ...</td>\n",
       "      <td>OM Sai Enterprises</td>\n",
       "      <td>118.0</td>\n",
       "      <td>Clothing Accessories</td>\n",
       "      <td>Men Color Block Ankle Length  (Pack of 3)</td>\n",
       "      <td>https://www.flipkart.com/your-shopping-store-m...</td>\n",
       "    </tr>\n",
       "    <tr>\n",
       "      <th>21741</th>\n",
       "      <td>c1d77b00-ebe0-5c1e-bf24-b4465aecb67f</td>\n",
       "      <td>199.0</td>\n",
       "      <td>2.4</td>\n",
       "      <td>T10 Spor</td>\n",
       "      <td>Clothing and Accessories</td>\n",
       "      <td>2021-02-11 00:08:27</td>\n",
       "      <td></td>\n",
       "      <td>50.0</td>\n",
       "      <td>[https://rukminim1.flixcart.com/image/128/128/...</td>\n",
       "      <td>False</td>\n",
       "      <td>BDAFUBD2EJHFCRNC</td>\n",
       "      <td>[{'Color': 'Red'}, {'Fabric': 'Cotton Lycra Bl...</td>\n",
       "      <td>T10Sports</td>\n",
       "      <td>99.0</td>\n",
       "      <td>Clothing Accessories</td>\n",
       "      <td>Men Printed Bandana</td>\n",
       "      <td>https://www.flipkart.com/t10-sports-men-printe...</td>\n",
       "    </tr>\n",
       "    <tr>\n",
       "      <th>17528</th>\n",
       "      <td>3126216a-7912-54e2-92e0-e59085bb71f1</td>\n",
       "      <td>199.0</td>\n",
       "      <td>3.8</td>\n",
       "      <td>Welwe</td>\n",
       "      <td>Clothing and Accessories</td>\n",
       "      <td>2021-02-10 23:26:02</td>\n",
       "      <td>Welwear presents this multicoloured pack of 2 ...</td>\n",
       "      <td>50.0</td>\n",
       "      <td>[]</td>\n",
       "      <td>False</td>\n",
       "      <td>SOCET7QRNHYG9HHB</td>\n",
       "      <td>[{'Color': 'Multicolor'}, {'Ideal For': 'Men'}...</td>\n",
       "      <td>Eishitenterprises</td>\n",
       "      <td>99.0</td>\n",
       "      <td>Clothing Accessories</td>\n",
       "      <td>Men Mid-Calf/Crew  (Pack of 2)</td>\n",
       "      <td>https://www.flipkart.com/welwear-men-mid-calf-...</td>\n",
       "    </tr>\n",
       "    <tr>\n",
       "      <th>20739</th>\n",
       "      <td>81e8ac9f-6ea9-55f5-b468-d206948c7e33</td>\n",
       "      <td>NaN</td>\n",
       "      <td>NaN</td>\n",
       "      <td>FOOT F</td>\n",
       "      <td>Clothing and Accessories</td>\n",
       "      <td>2021-02-10 23:58:30</td>\n",
       "      <td>This is a special product from the house of FO...</td>\n",
       "      <td>NaN</td>\n",
       "      <td>[https://rukminim1.flixcart.com/image/128/128/...</td>\n",
       "      <td>True</td>\n",
       "      <td>SOCFYNKS7XZ3YUKZ</td>\n",
       "      <td>[{'Color': 'Multicolor'}, {'Pattern': 'Printed...</td>\n",
       "      <td></td>\n",
       "      <td>NaN</td>\n",
       "      <td>Clothing Accessories</td>\n",
       "      <td>Men Printed Calf Length  (Pack of 5)</td>\n",
       "      <td>https://www.flipkart.com/foot-fix-men-printed-...</td>\n",
       "    </tr>\n",
       "    <tr>\n",
       "      <th>29488</th>\n",
       "      <td>d53cf2b5-44c6-5c30-a927-1a20ba80877c</td>\n",
       "      <td>NaN</td>\n",
       "      <td>NaN</td>\n",
       "      <td>Ravil</td>\n",
       "      <td>Clothing and Accessories</td>\n",
       "      <td>2021-02-11 01:27:34</td>\n",
       "      <td></td>\n",
       "      <td>NaN</td>\n",
       "      <td>[https://rukminim1.flixcart.com/image/128/128/...</td>\n",
       "      <td>True</td>\n",
       "      <td>TKPFZAGJYK9YGRAA</td>\n",
       "      <td>[{'Style Code': 'Broad-line'}, {'Closure': 'Dr...</td>\n",
       "      <td></td>\n",
       "      <td>NaN</td>\n",
       "      <td>Bottomwear</td>\n",
       "      <td>Striped Men Black Track Pants</td>\n",
       "      <td>https://www.flipkart.com/ravilka-striped-men-b...</td>\n",
       "    </tr>\n",
       "  </tbody>\n",
       "</table>\n",
       "<p>30000 rows × 17 columns</p>\n",
       "</div>"
      ],
      "text/plain": [
       "                                        _id  actual_price  average_rating  \\\n",
       "2246   b0723b53-654d-5b22-b98a-0565bb0a2f2d        9999.0             2.7   \n",
       "11683  c3b0cf3b-6b71-5c69-8086-82ef76361c4a        7999.0             2.6   \n",
       "27627  a0b220a6-da00-5e0a-a64e-ef78921d8e5d       12999.0             3.7   \n",
       "27971  47d09c94-3e3c-55b8-9611-906ce9bf7e3a       12999.0             4.5   \n",
       "7355   3856ec4c-65d3-555f-9666-8a27ddc2f41d       12990.0             4.2   \n",
       "...                                     ...           ...             ...   \n",
       "8115   45e47a31-c178-5ac5-98ca-1986949cfd9b         499.0             3.9   \n",
       "21741  c1d77b00-ebe0-5c1e-bf24-b4465aecb67f         199.0             2.4   \n",
       "17528  3126216a-7912-54e2-92e0-e59085bb71f1         199.0             3.8   \n",
       "20739  81e8ac9f-6ea9-55f5-b468-d206948c7e33           NaN             NaN   \n",
       "29488  d53cf2b5-44c6-5c30-a927-1a20ba80877c           NaN             NaN   \n",
       "\n",
       "                   brand                  category          crawled_at  \\\n",
       "2246                REEB  Clothing and Accessories 2021-02-10 20:33:58   \n",
       "11683            True Bl  Clothing and Accessories 2021-02-10 22:22:13   \n",
       "27627                 Pu  Clothing and Accessories 2021-02-11 01:09:12   \n",
       "27971                 Pu  Clothing and Accessories 2021-02-11 01:12:12   \n",
       "7355                   G  Clothing and Accessories 2021-02-10 21:30:13   \n",
       "...                  ...                       ...                 ...   \n",
       "8115   your shopping sto  Clothing and Accessories 2021-02-10 21:38:02   \n",
       "21741           T10 Spor  Clothing and Accessories 2021-02-11 00:08:27   \n",
       "17528              Welwe  Clothing and Accessories 2021-02-10 23:26:02   \n",
       "20739             FOOT F  Clothing and Accessories 2021-02-10 23:58:30   \n",
       "29488              Ravil  Clothing and Accessories 2021-02-11 01:27:34   \n",
       "\n",
       "                                             description  discount  \\\n",
       "2246                                  CBT CMG TRACK SUIT      20.0   \n",
       "11683                                                          NaN   \n",
       "27627                  Stylish and trendy jacket for men      40.0   \n",
       "27971                                                         40.0   \n",
       "7355                                             SAX ZIP      40.0   \n",
       "...                                                  ...       ...   \n",
       "8115   Socks has now become a everyday essential fash...      76.0   \n",
       "21741                                                         50.0   \n",
       "17528  Welwear presents this multicoloured pack of 2 ...      50.0   \n",
       "20739  This is a special product from the house of FO...       NaN   \n",
       "29488                                                          NaN   \n",
       "\n",
       "                                                  images  out_of_stock  \\\n",
       "2246   [https://rukminim1.flixcart.com/image/128/128/...          True   \n",
       "11683  [https://rukminim1.flixcart.com/image/128/128/...         False   \n",
       "27627  [https://rukminim1.flixcart.com/image/128/128/...         False   \n",
       "27971  [https://rukminim1.flixcart.com/image/128/128/...         False   \n",
       "7355   [https://rukminim1.flixcart.com/image/128/128/...         False   \n",
       "...                                                  ...           ...   \n",
       "8115                                                  []         False   \n",
       "21741  [https://rukminim1.flixcart.com/image/128/128/...         False   \n",
       "17528                                                 []         False   \n",
       "20739  [https://rukminim1.flixcart.com/image/128/128/...          True   \n",
       "29488  [https://rukminim1.flixcart.com/image/128/128/...          True   \n",
       "\n",
       "                    pid                                    product_details  \\\n",
       "2246   TKTFZ3YGGMMNBYEZ  [{'Color': 'Black'}, {'Pattern': 'Solid'}, {'S...   \n",
       "11683  BZRFVAX2QGTEGHRH  [{'Color': 'Grey'}, {'Fabric': 'Polyester'}, {...   \n",
       "27627  JCKFQF5KMJJ349H8  [{'Color': 'Black'}, {'Fabric': 'Cotton Blend'...   \n",
       "27971  SWSFUMFGQFKVZGYH  [{'Color': 'Black'}, {'Fabric': 'Polyester'}, ...   \n",
       "7355   JEAF8S4GWU5YKQTF  [{'Style Code': '92735WM18'}, {'Ideal For': 'M...   \n",
       "...                 ...                                                ...   \n",
       "8115   SOCFFGA2FYZQBFXT  [{'Color': 'Black, Grey'}, {'Pattern': 'Color ...   \n",
       "21741  BDAFUBD2EJHFCRNC  [{'Color': 'Red'}, {'Fabric': 'Cotton Lycra Bl...   \n",
       "17528  SOCET7QRNHYG9HHB  [{'Color': 'Multicolor'}, {'Ideal For': 'Men'}...   \n",
       "20739  SOCFYNKS7XZ3YUKZ  [{'Color': 'Multicolor'}, {'Pattern': 'Printed...   \n",
       "29488  TKPFZAGJYK9YGRAA  [{'Style Code': 'Broad-line'}, {'Closure': 'Dr...   \n",
       "\n",
       "                   seller  selling_price                   sub_category  \\\n",
       "2246                              7999.0                     Tracksuits   \n",
       "11683      ArvindTrueBlue         7998.0  Blazers, Waistcoats and Suits   \n",
       "27627           RetailNet         7799.0                    Winter Wear   \n",
       "27971           RetailNet         7799.0                    Winter Wear   \n",
       "7355            RetailNet         7794.0                     Bottomwear   \n",
       "...                   ...            ...                            ...   \n",
       "8115   OM Sai Enterprises          118.0           Clothing Accessories   \n",
       "21741           T10Sports           99.0           Clothing Accessories   \n",
       "17528   Eishitenterprises           99.0           Clothing Accessories   \n",
       "20739                                NaN           Clothing Accessories   \n",
       "29488                                NaN                     Bottomwear   \n",
       "\n",
       "                                                   title  \\\n",
       "2246                                Solid Men Track Suit   \n",
       "11683  Checkered Single Breasted Party Men Full Sleev...   \n",
       "27627                Full Sleeve Solid Men Casual Jacket   \n",
       "27971                 Full Sleeve Printed Men Sweatshirt   \n",
       "7355                               Skinny Men Blue Jeans   \n",
       "...                                                  ...   \n",
       "8115           Men Color Block Ankle Length  (Pack of 3)   \n",
       "21741                                Men Printed Bandana   \n",
       "17528                     Men Mid-Calf/Crew  (Pack of 2)   \n",
       "20739               Men Printed Calf Length  (Pack of 5)   \n",
       "29488                      Striped Men Black Track Pants   \n",
       "\n",
       "                                                     url  \n",
       "2246   https://www.flipkart.com/reebok-solid-men-trac...  \n",
       "11683  https://www.flipkart.com/true-blue-checkered-s...  \n",
       "27627  https://www.flipkart.com/puma-full-sleeve-soli...  \n",
       "27971  https://www.flipkart.com/puma-full-sleeve-prin...  \n",
       "7355   https://www.flipkart.com/gas-skinny-men-blue-j...  \n",
       "...                                                  ...  \n",
       "8115   https://www.flipkart.com/your-shopping-store-m...  \n",
       "21741  https://www.flipkart.com/t10-sports-men-printe...  \n",
       "17528  https://www.flipkart.com/welwear-men-mid-calf-...  \n",
       "20739  https://www.flipkart.com/foot-fix-men-printed-...  \n",
       "29488  https://www.flipkart.com/ravilka-striped-men-b...  \n",
       "\n",
       "[30000 rows x 17 columns]"
      ]
     },
     "execution_count": 20,
     "metadata": {},
     "output_type": "execute_result"
    }
   ],
   "source": [
    "df.sort_values(by='selling_price',ascending=False)"
   ]
  },
  {
   "cell_type": "code",
   "execution_count": 21,
   "metadata": {},
   "outputs": [
    {
     "data": {
      "text/html": [
       "<div>\n",
       "<style scoped>\n",
       "    .dataframe tbody tr th:only-of-type {\n",
       "        vertical-align: middle;\n",
       "    }\n",
       "\n",
       "    .dataframe tbody tr th {\n",
       "        vertical-align: top;\n",
       "    }\n",
       "\n",
       "    .dataframe thead th {\n",
       "        text-align: right;\n",
       "    }\n",
       "</style>\n",
       "<table border=\"1\" class=\"dataframe\">\n",
       "  <thead>\n",
       "    <tr style=\"text-align: right;\">\n",
       "      <th></th>\n",
       "      <th>_id</th>\n",
       "      <th>actual_price</th>\n",
       "      <th>average_rating</th>\n",
       "      <th>brand</th>\n",
       "      <th>category</th>\n",
       "      <th>crawled_at</th>\n",
       "      <th>description</th>\n",
       "      <th>discount</th>\n",
       "      <th>images</th>\n",
       "      <th>out_of_stock</th>\n",
       "      <th>pid</th>\n",
       "      <th>product_details</th>\n",
       "      <th>seller</th>\n",
       "      <th>selling_price</th>\n",
       "      <th>sub_category</th>\n",
       "      <th>title</th>\n",
       "      <th>url</th>\n",
       "    </tr>\n",
       "  </thead>\n",
       "  <tbody>\n",
       "    <tr>\n",
       "      <th>2246</th>\n",
       "      <td>b0723b53-654d-5b22-b98a-0565bb0a2f2d</td>\n",
       "      <td>9999.0</td>\n",
       "      <td>2.7</td>\n",
       "      <td>REEB</td>\n",
       "      <td>Clothing and Accessories</td>\n",
       "      <td>2021-02-10 20:33:58</td>\n",
       "      <td>CBT CMG TRACK SUIT</td>\n",
       "      <td>20.0</td>\n",
       "      <td>[https://rukminim1.flixcart.com/image/128/128/...</td>\n",
       "      <td>True</td>\n",
       "      <td>TKTFZ3YGGMMNBYEZ</td>\n",
       "      <td>[{'Color': 'Black'}, {'Pattern': 'Solid'}, {'S...</td>\n",
       "      <td></td>\n",
       "      <td>7999.0</td>\n",
       "      <td>Tracksuits</td>\n",
       "      <td>Solid Men Track Suit</td>\n",
       "      <td>https://www.flipkart.com/reebok-solid-men-trac...</td>\n",
       "    </tr>\n",
       "    <tr>\n",
       "      <th>11683</th>\n",
       "      <td>c3b0cf3b-6b71-5c69-8086-82ef76361c4a</td>\n",
       "      <td>7999.0</td>\n",
       "      <td>2.6</td>\n",
       "      <td>True Bl</td>\n",
       "      <td>Clothing and Accessories</td>\n",
       "      <td>2021-02-10 22:22:13</td>\n",
       "      <td></td>\n",
       "      <td>NaN</td>\n",
       "      <td>[https://rukminim1.flixcart.com/image/128/128/...</td>\n",
       "      <td>False</td>\n",
       "      <td>BZRFVAX2QGTEGHRH</td>\n",
       "      <td>[{'Color': 'Grey'}, {'Fabric': 'Polyester'}, {...</td>\n",
       "      <td>ArvindTrueBlue</td>\n",
       "      <td>7998.0</td>\n",
       "      <td>Blazers, Waistcoats and Suits</td>\n",
       "      <td>Checkered Single Breasted Party Men Full Sleev...</td>\n",
       "      <td>https://www.flipkart.com/true-blue-checkered-s...</td>\n",
       "    </tr>\n",
       "    <tr>\n",
       "      <th>27627</th>\n",
       "      <td>a0b220a6-da00-5e0a-a64e-ef78921d8e5d</td>\n",
       "      <td>12999.0</td>\n",
       "      <td>3.7</td>\n",
       "      <td>Pu</td>\n",
       "      <td>Clothing and Accessories</td>\n",
       "      <td>2021-02-11 01:09:12</td>\n",
       "      <td>Stylish and trendy jacket for men</td>\n",
       "      <td>40.0</td>\n",
       "      <td>[https://rukminim1.flixcart.com/image/128/128/...</td>\n",
       "      <td>False</td>\n",
       "      <td>JCKFQF5KMJJ349H8</td>\n",
       "      <td>[{'Color': 'Black'}, {'Fabric': 'Cotton Blend'...</td>\n",
       "      <td>RetailNet</td>\n",
       "      <td>7799.0</td>\n",
       "      <td>Winter Wear</td>\n",
       "      <td>Full Sleeve Solid Men Casual Jacket</td>\n",
       "      <td>https://www.flipkart.com/puma-full-sleeve-soli...</td>\n",
       "    </tr>\n",
       "    <tr>\n",
       "      <th>27971</th>\n",
       "      <td>47d09c94-3e3c-55b8-9611-906ce9bf7e3a</td>\n",
       "      <td>12999.0</td>\n",
       "      <td>4.5</td>\n",
       "      <td>Pu</td>\n",
       "      <td>Clothing and Accessories</td>\n",
       "      <td>2021-02-11 01:12:12</td>\n",
       "      <td></td>\n",
       "      <td>40.0</td>\n",
       "      <td>[https://rukminim1.flixcart.com/image/128/128/...</td>\n",
       "      <td>False</td>\n",
       "      <td>SWSFUMFGQFKVZGYH</td>\n",
       "      <td>[{'Color': 'Black'}, {'Fabric': 'Polyester'}, ...</td>\n",
       "      <td>RetailNet</td>\n",
       "      <td>7799.0</td>\n",
       "      <td>Winter Wear</td>\n",
       "      <td>Full Sleeve Printed Men Sweatshirt</td>\n",
       "      <td>https://www.flipkart.com/puma-full-sleeve-prin...</td>\n",
       "    </tr>\n",
       "    <tr>\n",
       "      <th>7355</th>\n",
       "      <td>3856ec4c-65d3-555f-9666-8a27ddc2f41d</td>\n",
       "      <td>12990.0</td>\n",
       "      <td>4.2</td>\n",
       "      <td>G</td>\n",
       "      <td>Clothing and Accessories</td>\n",
       "      <td>2021-02-10 21:30:13</td>\n",
       "      <td>SAX ZIP</td>\n",
       "      <td>40.0</td>\n",
       "      <td>[https://rukminim1.flixcart.com/image/128/128/...</td>\n",
       "      <td>False</td>\n",
       "      <td>JEAF8S4GWU5YKQTF</td>\n",
       "      <td>[{'Style Code': '92735WM18'}, {'Ideal For': 'M...</td>\n",
       "      <td>RetailNet</td>\n",
       "      <td>7794.0</td>\n",
       "      <td>Bottomwear</td>\n",
       "      <td>Skinny Men Blue Jeans</td>\n",
       "      <td>https://www.flipkart.com/gas-skinny-men-blue-j...</td>\n",
       "    </tr>\n",
       "    <tr>\n",
       "      <th>...</th>\n",
       "      <td>...</td>\n",
       "      <td>...</td>\n",
       "      <td>...</td>\n",
       "      <td>...</td>\n",
       "      <td>...</td>\n",
       "      <td>...</td>\n",
       "      <td>...</td>\n",
       "      <td>...</td>\n",
       "      <td>...</td>\n",
       "      <td>...</td>\n",
       "      <td>...</td>\n",
       "      <td>...</td>\n",
       "      <td>...</td>\n",
       "      <td>...</td>\n",
       "      <td>...</td>\n",
       "      <td>...</td>\n",
       "      <td>...</td>\n",
       "    </tr>\n",
       "    <tr>\n",
       "      <th>8115</th>\n",
       "      <td>45e47a31-c178-5ac5-98ca-1986949cfd9b</td>\n",
       "      <td>499.0</td>\n",
       "      <td>3.9</td>\n",
       "      <td>your shopping sto</td>\n",
       "      <td>Clothing and Accessories</td>\n",
       "      <td>2021-02-10 21:38:02</td>\n",
       "      <td>Socks has now become a everyday essential fash...</td>\n",
       "      <td>76.0</td>\n",
       "      <td>[]</td>\n",
       "      <td>False</td>\n",
       "      <td>SOCFFGA2FYZQBFXT</td>\n",
       "      <td>[{'Color': 'Black, Grey'}, {'Pattern': 'Color ...</td>\n",
       "      <td>OM Sai Enterprises</td>\n",
       "      <td>118.0</td>\n",
       "      <td>Clothing Accessories</td>\n",
       "      <td>Men Color Block Ankle Length  (Pack of 3)</td>\n",
       "      <td>https://www.flipkart.com/your-shopping-store-m...</td>\n",
       "    </tr>\n",
       "    <tr>\n",
       "      <th>21741</th>\n",
       "      <td>c1d77b00-ebe0-5c1e-bf24-b4465aecb67f</td>\n",
       "      <td>199.0</td>\n",
       "      <td>2.4</td>\n",
       "      <td>T10 Spor</td>\n",
       "      <td>Clothing and Accessories</td>\n",
       "      <td>2021-02-11 00:08:27</td>\n",
       "      <td></td>\n",
       "      <td>50.0</td>\n",
       "      <td>[https://rukminim1.flixcart.com/image/128/128/...</td>\n",
       "      <td>False</td>\n",
       "      <td>BDAFUBD2EJHFCRNC</td>\n",
       "      <td>[{'Color': 'Red'}, {'Fabric': 'Cotton Lycra Bl...</td>\n",
       "      <td>T10Sports</td>\n",
       "      <td>99.0</td>\n",
       "      <td>Clothing Accessories</td>\n",
       "      <td>Men Printed Bandana</td>\n",
       "      <td>https://www.flipkart.com/t10-sports-men-printe...</td>\n",
       "    </tr>\n",
       "    <tr>\n",
       "      <th>17528</th>\n",
       "      <td>3126216a-7912-54e2-92e0-e59085bb71f1</td>\n",
       "      <td>199.0</td>\n",
       "      <td>3.8</td>\n",
       "      <td>Welwe</td>\n",
       "      <td>Clothing and Accessories</td>\n",
       "      <td>2021-02-10 23:26:02</td>\n",
       "      <td>Welwear presents this multicoloured pack of 2 ...</td>\n",
       "      <td>50.0</td>\n",
       "      <td>[]</td>\n",
       "      <td>False</td>\n",
       "      <td>SOCET7QRNHYG9HHB</td>\n",
       "      <td>[{'Color': 'Multicolor'}, {'Ideal For': 'Men'}...</td>\n",
       "      <td>Eishitenterprises</td>\n",
       "      <td>99.0</td>\n",
       "      <td>Clothing Accessories</td>\n",
       "      <td>Men Mid-Calf/Crew  (Pack of 2)</td>\n",
       "      <td>https://www.flipkart.com/welwear-men-mid-calf-...</td>\n",
       "    </tr>\n",
       "    <tr>\n",
       "      <th>29488</th>\n",
       "      <td>d53cf2b5-44c6-5c30-a927-1a20ba80877c</td>\n",
       "      <td>NaN</td>\n",
       "      <td>NaN</td>\n",
       "      <td>Ravil</td>\n",
       "      <td>Clothing and Accessories</td>\n",
       "      <td>2021-02-11 01:27:34</td>\n",
       "      <td></td>\n",
       "      <td>NaN</td>\n",
       "      <td>[https://rukminim1.flixcart.com/image/128/128/...</td>\n",
       "      <td>True</td>\n",
       "      <td>TKPFZAGJYK9YGRAA</td>\n",
       "      <td>[{'Style Code': 'Broad-line'}, {'Closure': 'Dr...</td>\n",
       "      <td></td>\n",
       "      <td>NaN</td>\n",
       "      <td>Bottomwear</td>\n",
       "      <td>Striped Men Black Track Pants</td>\n",
       "      <td>https://www.flipkart.com/ravilka-striped-men-b...</td>\n",
       "    </tr>\n",
       "    <tr>\n",
       "      <th>20739</th>\n",
       "      <td>81e8ac9f-6ea9-55f5-b468-d206948c7e33</td>\n",
       "      <td>NaN</td>\n",
       "      <td>NaN</td>\n",
       "      <td>FOOT F</td>\n",
       "      <td>Clothing and Accessories</td>\n",
       "      <td>2021-02-10 23:58:30</td>\n",
       "      <td>This is a special product from the house of FO...</td>\n",
       "      <td>NaN</td>\n",
       "      <td>[https://rukminim1.flixcart.com/image/128/128/...</td>\n",
       "      <td>True</td>\n",
       "      <td>SOCFYNKS7XZ3YUKZ</td>\n",
       "      <td>[{'Color': 'Multicolor'}, {'Pattern': 'Printed...</td>\n",
       "      <td></td>\n",
       "      <td>NaN</td>\n",
       "      <td>Clothing Accessories</td>\n",
       "      <td>Men Printed Calf Length  (Pack of 5)</td>\n",
       "      <td>https://www.flipkart.com/foot-fix-men-printed-...</td>\n",
       "    </tr>\n",
       "  </tbody>\n",
       "</table>\n",
       "<p>30000 rows × 17 columns</p>\n",
       "</div>"
      ],
      "text/plain": [
       "                                        _id  actual_price  average_rating  \\\n",
       "2246   b0723b53-654d-5b22-b98a-0565bb0a2f2d        9999.0             2.7   \n",
       "11683  c3b0cf3b-6b71-5c69-8086-82ef76361c4a        7999.0             2.6   \n",
       "27627  a0b220a6-da00-5e0a-a64e-ef78921d8e5d       12999.0             3.7   \n",
       "27971  47d09c94-3e3c-55b8-9611-906ce9bf7e3a       12999.0             4.5   \n",
       "7355   3856ec4c-65d3-555f-9666-8a27ddc2f41d       12990.0             4.2   \n",
       "...                                     ...           ...             ...   \n",
       "8115   45e47a31-c178-5ac5-98ca-1986949cfd9b         499.0             3.9   \n",
       "21741  c1d77b00-ebe0-5c1e-bf24-b4465aecb67f         199.0             2.4   \n",
       "17528  3126216a-7912-54e2-92e0-e59085bb71f1         199.0             3.8   \n",
       "29488  d53cf2b5-44c6-5c30-a927-1a20ba80877c           NaN             NaN   \n",
       "20739  81e8ac9f-6ea9-55f5-b468-d206948c7e33           NaN             NaN   \n",
       "\n",
       "                   brand                  category          crawled_at  \\\n",
       "2246                REEB  Clothing and Accessories 2021-02-10 20:33:58   \n",
       "11683            True Bl  Clothing and Accessories 2021-02-10 22:22:13   \n",
       "27627                 Pu  Clothing and Accessories 2021-02-11 01:09:12   \n",
       "27971                 Pu  Clothing and Accessories 2021-02-11 01:12:12   \n",
       "7355                   G  Clothing and Accessories 2021-02-10 21:30:13   \n",
       "...                  ...                       ...                 ...   \n",
       "8115   your shopping sto  Clothing and Accessories 2021-02-10 21:38:02   \n",
       "21741           T10 Spor  Clothing and Accessories 2021-02-11 00:08:27   \n",
       "17528              Welwe  Clothing and Accessories 2021-02-10 23:26:02   \n",
       "29488              Ravil  Clothing and Accessories 2021-02-11 01:27:34   \n",
       "20739             FOOT F  Clothing and Accessories 2021-02-10 23:58:30   \n",
       "\n",
       "                                             description  discount  \\\n",
       "2246                                  CBT CMG TRACK SUIT      20.0   \n",
       "11683                                                          NaN   \n",
       "27627                  Stylish and trendy jacket for men      40.0   \n",
       "27971                                                         40.0   \n",
       "7355                                             SAX ZIP      40.0   \n",
       "...                                                  ...       ...   \n",
       "8115   Socks has now become a everyday essential fash...      76.0   \n",
       "21741                                                         50.0   \n",
       "17528  Welwear presents this multicoloured pack of 2 ...      50.0   \n",
       "29488                                                          NaN   \n",
       "20739  This is a special product from the house of FO...       NaN   \n",
       "\n",
       "                                                  images  out_of_stock  \\\n",
       "2246   [https://rukminim1.flixcart.com/image/128/128/...          True   \n",
       "11683  [https://rukminim1.flixcart.com/image/128/128/...         False   \n",
       "27627  [https://rukminim1.flixcart.com/image/128/128/...         False   \n",
       "27971  [https://rukminim1.flixcart.com/image/128/128/...         False   \n",
       "7355   [https://rukminim1.flixcart.com/image/128/128/...         False   \n",
       "...                                                  ...           ...   \n",
       "8115                                                  []         False   \n",
       "21741  [https://rukminim1.flixcart.com/image/128/128/...         False   \n",
       "17528                                                 []         False   \n",
       "29488  [https://rukminim1.flixcart.com/image/128/128/...          True   \n",
       "20739  [https://rukminim1.flixcart.com/image/128/128/...          True   \n",
       "\n",
       "                    pid                                    product_details  \\\n",
       "2246   TKTFZ3YGGMMNBYEZ  [{'Color': 'Black'}, {'Pattern': 'Solid'}, {'S...   \n",
       "11683  BZRFVAX2QGTEGHRH  [{'Color': 'Grey'}, {'Fabric': 'Polyester'}, {...   \n",
       "27627  JCKFQF5KMJJ349H8  [{'Color': 'Black'}, {'Fabric': 'Cotton Blend'...   \n",
       "27971  SWSFUMFGQFKVZGYH  [{'Color': 'Black'}, {'Fabric': 'Polyester'}, ...   \n",
       "7355   JEAF8S4GWU5YKQTF  [{'Style Code': '92735WM18'}, {'Ideal For': 'M...   \n",
       "...                 ...                                                ...   \n",
       "8115   SOCFFGA2FYZQBFXT  [{'Color': 'Black, Grey'}, {'Pattern': 'Color ...   \n",
       "21741  BDAFUBD2EJHFCRNC  [{'Color': 'Red'}, {'Fabric': 'Cotton Lycra Bl...   \n",
       "17528  SOCET7QRNHYG9HHB  [{'Color': 'Multicolor'}, {'Ideal For': 'Men'}...   \n",
       "29488  TKPFZAGJYK9YGRAA  [{'Style Code': 'Broad-line'}, {'Closure': 'Dr...   \n",
       "20739  SOCFYNKS7XZ3YUKZ  [{'Color': 'Multicolor'}, {'Pattern': 'Printed...   \n",
       "\n",
       "                   seller  selling_price                   sub_category  \\\n",
       "2246                              7999.0                     Tracksuits   \n",
       "11683      ArvindTrueBlue         7998.0  Blazers, Waistcoats and Suits   \n",
       "27627           RetailNet         7799.0                    Winter Wear   \n",
       "27971           RetailNet         7799.0                    Winter Wear   \n",
       "7355            RetailNet         7794.0                     Bottomwear   \n",
       "...                   ...            ...                            ...   \n",
       "8115   OM Sai Enterprises          118.0           Clothing Accessories   \n",
       "21741           T10Sports           99.0           Clothing Accessories   \n",
       "17528   Eishitenterprises           99.0           Clothing Accessories   \n",
       "29488                                NaN                     Bottomwear   \n",
       "20739                                NaN           Clothing Accessories   \n",
       "\n",
       "                                                   title  \\\n",
       "2246                                Solid Men Track Suit   \n",
       "11683  Checkered Single Breasted Party Men Full Sleev...   \n",
       "27627                Full Sleeve Solid Men Casual Jacket   \n",
       "27971                 Full Sleeve Printed Men Sweatshirt   \n",
       "7355                               Skinny Men Blue Jeans   \n",
       "...                                                  ...   \n",
       "8115           Men Color Block Ankle Length  (Pack of 3)   \n",
       "21741                                Men Printed Bandana   \n",
       "17528                     Men Mid-Calf/Crew  (Pack of 2)   \n",
       "29488                      Striped Men Black Track Pants   \n",
       "20739               Men Printed Calf Length  (Pack of 5)   \n",
       "\n",
       "                                                     url  \n",
       "2246   https://www.flipkart.com/reebok-solid-men-trac...  \n",
       "11683  https://www.flipkart.com/true-blue-checkered-s...  \n",
       "27627  https://www.flipkart.com/puma-full-sleeve-soli...  \n",
       "27971  https://www.flipkart.com/puma-full-sleeve-prin...  \n",
       "7355   https://www.flipkart.com/gas-skinny-men-blue-j...  \n",
       "...                                                  ...  \n",
       "8115   https://www.flipkart.com/your-shopping-store-m...  \n",
       "21741  https://www.flipkart.com/t10-sports-men-printe...  \n",
       "17528  https://www.flipkart.com/welwear-men-mid-calf-...  \n",
       "29488  https://www.flipkart.com/ravilka-striped-men-b...  \n",
       "20739  https://www.flipkart.com/foot-fix-men-printed-...  \n",
       "\n",
       "[30000 rows x 17 columns]"
      ]
     },
     "execution_count": 21,
     "metadata": {},
     "output_type": "execute_result"
    }
   ],
   "source": [
    "df.sort_values(by=['selling_price','title'],ascending=False)"
   ]
  },
  {
   "cell_type": "code",
   "execution_count": 33,
   "metadata": {},
   "outputs": [],
   "source": [
    "high_selling_price_df=df.sort_values(by='selling_price',ascending=False).head(100)"
   ]
  },
  {
   "cell_type": "code",
   "execution_count": 34,
   "metadata": {},
   "outputs": [
    {
     "data": {
      "application/vnd.plotly.v1+json": {
       "config": {
        "plotlyServerURL": "https://plot.ly"
       },
       "data": [
        {
         "alignmentgroup": "True",
         "hovertemplate": "selling_price=%{x}<br>title=%{y}<extra></extra>",
         "legendgroup": "",
         "marker": {
          "color": "#636efa",
          "pattern": {
           "shape": ""
          }
         },
         "name": "",
         "offsetgroup": "",
         "orientation": "h",
         "showlegend": false,
         "textposition": "auto",
         "type": "bar",
         "x": [
          7999,
          7998,
          7799,
          7799,
          7794,
          6998,
          6925,
          6692,
          6499,
          6499,
          6499,
          6499,
          6493,
          6399,
          6399,
          6049,
          5999,
          5999,
          5998,
          5998,
          5990,
          5990,
          5990,
          5990,
          5843,
          5843,
          5843,
          5498,
          5498,
          5498,
          5498,
          5394,
          5394,
          5299,
          5243,
          5243,
          5243,
          5243,
          5200,
          5199,
          5199,
          5199,
          5188,
          5060,
          4999,
          4999,
          4998,
          4998,
          4990,
          4990,
          4949,
          4899,
          4799,
          4799,
          4799,
          4783,
          4654,
          4599,
          4559,
          4559,
          4559,
          4549,
          4515,
          4500,
          4499,
          4499,
          4499,
          4499,
          4499,
          4499,
          4499,
          4499,
          4499,
          4499,
          4499,
          4499,
          4499,
          4499,
          4499,
          4499,
          4499,
          4499,
          4499,
          4499,
          4499,
          4499,
          4499,
          4499,
          4499,
          4499,
          4499,
          4499,
          4499,
          4499,
          4499,
          4498,
          4498,
          4493,
          4479,
          4387
         ],
         "xaxis": "x",
         "y": [
          "Solid Men Track Suit",
          "Checkered Single Breasted Party Men Full Sleeve Blazer  (Grey)",
          "Full Sleeve Solid Men Casual Jacket",
          "Full Sleeve Printed Men Sweatshirt",
          "Skinny Men Blue Jeans",
          "Self Design Single Breasted Party Men Full Sleeve Blazer  (Blue)",
          "Regular Fit Men Dark Blue Cotton Blend Trousers",
          "Maxx Regular Men Black Jeans",
          "Full Sleeve Solid Men Casual Jacket",
          "Full Sleeve Solid Men Casual Jacket",
          "Full Sleeve Solid Men Casual Jacket",
          "Full Sleeve Solid Men Casual Jacket",
          "Skinny Men Blue Jeans",
          "Slim Men Black Jeans",
          "Slim Men Dark Blue Jeans",
          "Full Sleeve Solid Men Padded Jacket",
          "Tapered Fit Men Blue Jeans",
          "Full Sleeve Solid Men Casual Jacket",
          "Full Sleeve Solid Men Casual Jacket",
          "Full Sleeve Solid Men Quilted Jacket",
          "Solid Men Beige Denim Shorts",
          "Solid Men Blue Denim Shorts",
          "Solid Men Blue Denim Shorts",
          "Slim Men Blue Jeans",
          "Slim Men Blue Jeans",
          "Slim Men Dark Blue Jeans",
          "Tapered Fit Men White Jeans",
          "Full Sleeve Solid Men Riding Jacket",
          "Full Sleeve Solid Men Bomber Jacket",
          "Full Sleeve Solid Men Bomber Jacket",
          "Full Sleeve Solid Men Riding Jacket",
          "Regular Men Light Blue Jeans",
          "Slim Men Blue Jeans",
          "Full Sleeve Solid Men Bomber Jacket",
          "Regular Fit Men Blue Cotton Blend Trousers",
          "Regular Fit Men Brown Cotton Blend Trousers",
          "Regular Fit Men Blue Cotton Blend Trousers",
          "Regular Fit Men Green Cotton Blend Trousers",
          "Mods Western Star Self Design Sherwani",
          "3 Piece Solid Men Suit",
          "2 Piece Self Design Men Suit",
          "2 Piece Solid Men Suit",
          "Full Sleeve Self Design Men Casual Jacket",
          "Slim Men Light Blue Jeans",
          "Full Sleeve Striped Men Bomber Jacket",
          "Tapered Fit Men Blue Jeans",
          "Full Sleeve Colorblock Men Casual Jacket",
          "Full Sleeve Solid Men Jacket",
          "Solid Men Dark Blue Chino Shorts",
          "Solid Men White Chino Shorts",
          "Full Sleeve Printed Men Sweatshirt",
          "Full Sleeve Solid Men Sports Jacket",
          "Full Sleeve Solid Men Casual Jacket",
          "Slim Men Dark Blue Jeans",
          "Slim Men Dark Blue Jeans",
          "Vairavaa Tex Solid Men Dhoti",
          "Tapered Fit Men Blue Jeans",
          "Self Design Single Breasted Wedding, Casual, Party, Formal, Festive, Festive & Wedding Men Full Sleeve Blazer  (Green)",
          "Slim Men Blue Jeans",
          "Tapered Fit Men Blue Jeans",
          "Slim Men Blue Jeans",
          "Full Sleeve Solid Men Bomber Jacket",
          "Full Sleeve Solid Men Sweatshirt",
          "Full Sleeve Solid Men Sweatshirt",
          "Full Sleeve Solid Men Sports Jacket",
          "Full Sleeve Solid Men Sports Jacket",
          "Full Sleeve Solid Men Sports Jacket",
          "Full Sleeve Solid Men Sports Jacket",
          "Full Sleeve Solid Men Sports Jacket",
          "Solid Men Black Track Pants",
          "Full Sleeve Solid Men Sports Jacket",
          "Full Sleeve Solid Men Sports Jacket",
          "Full Sleeve Solid Men Sports Jacket",
          "Full Sleeve Solid Men Sports Jacket",
          "Full Sleeve Solid Men Sports Jacket",
          "Full Sleeve Solid Men Casual Jacket",
          "Full Sleeve Solid Men Sports Jacket",
          "Full Sleeve Solid Men Sports Jacket",
          "Full Sleeve Solid Men Sweatshirt",
          "Full Sleeve Solid Men Sports Jacket",
          "Full Sleeve Color Block Men Sweatshirt",
          "Full Sleeve Solid Men Sports Jacket",
          "Full Sleeve Solid Men Sports Jacket",
          "Full Sleeve Solid Men Sports Jacket",
          "Full Sleeve Solid Men Sports Jacket",
          "Full Sleeve Solid Men Sports Jacket",
          "Full Sleeve Solid Men Sports Jacket",
          "Full Sleeve Solid Men Sports Jacket",
          "Full Sleeve Solid Men Sports Jacket",
          "Full Sleeve Solid Men Sports Jacket",
          "Full Sleeve Solid Men Sports Jacket",
          "Full Sleeve Solid Men Sports Jacket",
          "Full Sleeve Solid Men Sports Jacket",
          "Sleeveless Solid Men Casual Jacket",
          "Full Sleeve Solid Men Varsity Jacket",
          "Sleeveless Solid Men Quilted Jacket",
          "Sleeveless Solid Men Casual Jacket",
          "Regular Fit Men Dark Blue Cotton Blend Trousers",
          "Slim Men Blue Jeans",
          "SIVAA TEX Men's Pure Silk White Dhoti Men Dhoti"
         ],
         "yaxis": "y"
        }
       ],
       "layout": {
        "barmode": "relative",
        "legend": {
         "tracegroupgap": 0
        },
        "margin": {
         "t": 60
        },
        "template": {
         "data": {
          "bar": [
           {
            "error_x": {
             "color": "#2a3f5f"
            },
            "error_y": {
             "color": "#2a3f5f"
            },
            "marker": {
             "line": {
              "color": "#E5ECF6",
              "width": 0.5
             },
             "pattern": {
              "fillmode": "overlay",
              "size": 10,
              "solidity": 0.2
             }
            },
            "type": "bar"
           }
          ],
          "barpolar": [
           {
            "marker": {
             "line": {
              "color": "#E5ECF6",
              "width": 0.5
             },
             "pattern": {
              "fillmode": "overlay",
              "size": 10,
              "solidity": 0.2
             }
            },
            "type": "barpolar"
           }
          ],
          "carpet": [
           {
            "aaxis": {
             "endlinecolor": "#2a3f5f",
             "gridcolor": "white",
             "linecolor": "white",
             "minorgridcolor": "white",
             "startlinecolor": "#2a3f5f"
            },
            "baxis": {
             "endlinecolor": "#2a3f5f",
             "gridcolor": "white",
             "linecolor": "white",
             "minorgridcolor": "white",
             "startlinecolor": "#2a3f5f"
            },
            "type": "carpet"
           }
          ],
          "choropleth": [
           {
            "colorbar": {
             "outlinewidth": 0,
             "ticks": ""
            },
            "type": "choropleth"
           }
          ],
          "contour": [
           {
            "colorbar": {
             "outlinewidth": 0,
             "ticks": ""
            },
            "colorscale": [
             [
              0,
              "#0d0887"
             ],
             [
              0.1111111111111111,
              "#46039f"
             ],
             [
              0.2222222222222222,
              "#7201a8"
             ],
             [
              0.3333333333333333,
              "#9c179e"
             ],
             [
              0.4444444444444444,
              "#bd3786"
             ],
             [
              0.5555555555555556,
              "#d8576b"
             ],
             [
              0.6666666666666666,
              "#ed7953"
             ],
             [
              0.7777777777777778,
              "#fb9f3a"
             ],
             [
              0.8888888888888888,
              "#fdca26"
             ],
             [
              1,
              "#f0f921"
             ]
            ],
            "type": "contour"
           }
          ],
          "contourcarpet": [
           {
            "colorbar": {
             "outlinewidth": 0,
             "ticks": ""
            },
            "type": "contourcarpet"
           }
          ],
          "heatmap": [
           {
            "colorbar": {
             "outlinewidth": 0,
             "ticks": ""
            },
            "colorscale": [
             [
              0,
              "#0d0887"
             ],
             [
              0.1111111111111111,
              "#46039f"
             ],
             [
              0.2222222222222222,
              "#7201a8"
             ],
             [
              0.3333333333333333,
              "#9c179e"
             ],
             [
              0.4444444444444444,
              "#bd3786"
             ],
             [
              0.5555555555555556,
              "#d8576b"
             ],
             [
              0.6666666666666666,
              "#ed7953"
             ],
             [
              0.7777777777777778,
              "#fb9f3a"
             ],
             [
              0.8888888888888888,
              "#fdca26"
             ],
             [
              1,
              "#f0f921"
             ]
            ],
            "type": "heatmap"
           }
          ],
          "heatmapgl": [
           {
            "colorbar": {
             "outlinewidth": 0,
             "ticks": ""
            },
            "colorscale": [
             [
              0,
              "#0d0887"
             ],
             [
              0.1111111111111111,
              "#46039f"
             ],
             [
              0.2222222222222222,
              "#7201a8"
             ],
             [
              0.3333333333333333,
              "#9c179e"
             ],
             [
              0.4444444444444444,
              "#bd3786"
             ],
             [
              0.5555555555555556,
              "#d8576b"
             ],
             [
              0.6666666666666666,
              "#ed7953"
             ],
             [
              0.7777777777777778,
              "#fb9f3a"
             ],
             [
              0.8888888888888888,
              "#fdca26"
             ],
             [
              1,
              "#f0f921"
             ]
            ],
            "type": "heatmapgl"
           }
          ],
          "histogram": [
           {
            "marker": {
             "pattern": {
              "fillmode": "overlay",
              "size": 10,
              "solidity": 0.2
             }
            },
            "type": "histogram"
           }
          ],
          "histogram2d": [
           {
            "colorbar": {
             "outlinewidth": 0,
             "ticks": ""
            },
            "colorscale": [
             [
              0,
              "#0d0887"
             ],
             [
              0.1111111111111111,
              "#46039f"
             ],
             [
              0.2222222222222222,
              "#7201a8"
             ],
             [
              0.3333333333333333,
              "#9c179e"
             ],
             [
              0.4444444444444444,
              "#bd3786"
             ],
             [
              0.5555555555555556,
              "#d8576b"
             ],
             [
              0.6666666666666666,
              "#ed7953"
             ],
             [
              0.7777777777777778,
              "#fb9f3a"
             ],
             [
              0.8888888888888888,
              "#fdca26"
             ],
             [
              1,
              "#f0f921"
             ]
            ],
            "type": "histogram2d"
           }
          ],
          "histogram2dcontour": [
           {
            "colorbar": {
             "outlinewidth": 0,
             "ticks": ""
            },
            "colorscale": [
             [
              0,
              "#0d0887"
             ],
             [
              0.1111111111111111,
              "#46039f"
             ],
             [
              0.2222222222222222,
              "#7201a8"
             ],
             [
              0.3333333333333333,
              "#9c179e"
             ],
             [
              0.4444444444444444,
              "#bd3786"
             ],
             [
              0.5555555555555556,
              "#d8576b"
             ],
             [
              0.6666666666666666,
              "#ed7953"
             ],
             [
              0.7777777777777778,
              "#fb9f3a"
             ],
             [
              0.8888888888888888,
              "#fdca26"
             ],
             [
              1,
              "#f0f921"
             ]
            ],
            "type": "histogram2dcontour"
           }
          ],
          "mesh3d": [
           {
            "colorbar": {
             "outlinewidth": 0,
             "ticks": ""
            },
            "type": "mesh3d"
           }
          ],
          "parcoords": [
           {
            "line": {
             "colorbar": {
              "outlinewidth": 0,
              "ticks": ""
             }
            },
            "type": "parcoords"
           }
          ],
          "pie": [
           {
            "automargin": true,
            "type": "pie"
           }
          ],
          "scatter": [
           {
            "fillpattern": {
             "fillmode": "overlay",
             "size": 10,
             "solidity": 0.2
            },
            "type": "scatter"
           }
          ],
          "scatter3d": [
           {
            "line": {
             "colorbar": {
              "outlinewidth": 0,
              "ticks": ""
             }
            },
            "marker": {
             "colorbar": {
              "outlinewidth": 0,
              "ticks": ""
             }
            },
            "type": "scatter3d"
           }
          ],
          "scattercarpet": [
           {
            "marker": {
             "colorbar": {
              "outlinewidth": 0,
              "ticks": ""
             }
            },
            "type": "scattercarpet"
           }
          ],
          "scattergeo": [
           {
            "marker": {
             "colorbar": {
              "outlinewidth": 0,
              "ticks": ""
             }
            },
            "type": "scattergeo"
           }
          ],
          "scattergl": [
           {
            "marker": {
             "colorbar": {
              "outlinewidth": 0,
              "ticks": ""
             }
            },
            "type": "scattergl"
           }
          ],
          "scattermapbox": [
           {
            "marker": {
             "colorbar": {
              "outlinewidth": 0,
              "ticks": ""
             }
            },
            "type": "scattermapbox"
           }
          ],
          "scatterpolar": [
           {
            "marker": {
             "colorbar": {
              "outlinewidth": 0,
              "ticks": ""
             }
            },
            "type": "scatterpolar"
           }
          ],
          "scatterpolargl": [
           {
            "marker": {
             "colorbar": {
              "outlinewidth": 0,
              "ticks": ""
             }
            },
            "type": "scatterpolargl"
           }
          ],
          "scatterternary": [
           {
            "marker": {
             "colorbar": {
              "outlinewidth": 0,
              "ticks": ""
             }
            },
            "type": "scatterternary"
           }
          ],
          "surface": [
           {
            "colorbar": {
             "outlinewidth": 0,
             "ticks": ""
            },
            "colorscale": [
             [
              0,
              "#0d0887"
             ],
             [
              0.1111111111111111,
              "#46039f"
             ],
             [
              0.2222222222222222,
              "#7201a8"
             ],
             [
              0.3333333333333333,
              "#9c179e"
             ],
             [
              0.4444444444444444,
              "#bd3786"
             ],
             [
              0.5555555555555556,
              "#d8576b"
             ],
             [
              0.6666666666666666,
              "#ed7953"
             ],
             [
              0.7777777777777778,
              "#fb9f3a"
             ],
             [
              0.8888888888888888,
              "#fdca26"
             ],
             [
              1,
              "#f0f921"
             ]
            ],
            "type": "surface"
           }
          ],
          "table": [
           {
            "cells": {
             "fill": {
              "color": "#EBF0F8"
             },
             "line": {
              "color": "white"
             }
            },
            "header": {
             "fill": {
              "color": "#C8D4E3"
             },
             "line": {
              "color": "white"
             }
            },
            "type": "table"
           }
          ]
         },
         "layout": {
          "annotationdefaults": {
           "arrowcolor": "#2a3f5f",
           "arrowhead": 0,
           "arrowwidth": 1
          },
          "autotypenumbers": "strict",
          "coloraxis": {
           "colorbar": {
            "outlinewidth": 0,
            "ticks": ""
           }
          },
          "colorscale": {
           "diverging": [
            [
             0,
             "#8e0152"
            ],
            [
             0.1,
             "#c51b7d"
            ],
            [
             0.2,
             "#de77ae"
            ],
            [
             0.3,
             "#f1b6da"
            ],
            [
             0.4,
             "#fde0ef"
            ],
            [
             0.5,
             "#f7f7f7"
            ],
            [
             0.6,
             "#e6f5d0"
            ],
            [
             0.7,
             "#b8e186"
            ],
            [
             0.8,
             "#7fbc41"
            ],
            [
             0.9,
             "#4d9221"
            ],
            [
             1,
             "#276419"
            ]
           ],
           "sequential": [
            [
             0,
             "#0d0887"
            ],
            [
             0.1111111111111111,
             "#46039f"
            ],
            [
             0.2222222222222222,
             "#7201a8"
            ],
            [
             0.3333333333333333,
             "#9c179e"
            ],
            [
             0.4444444444444444,
             "#bd3786"
            ],
            [
             0.5555555555555556,
             "#d8576b"
            ],
            [
             0.6666666666666666,
             "#ed7953"
            ],
            [
             0.7777777777777778,
             "#fb9f3a"
            ],
            [
             0.8888888888888888,
             "#fdca26"
            ],
            [
             1,
             "#f0f921"
            ]
           ],
           "sequentialminus": [
            [
             0,
             "#0d0887"
            ],
            [
             0.1111111111111111,
             "#46039f"
            ],
            [
             0.2222222222222222,
             "#7201a8"
            ],
            [
             0.3333333333333333,
             "#9c179e"
            ],
            [
             0.4444444444444444,
             "#bd3786"
            ],
            [
             0.5555555555555556,
             "#d8576b"
            ],
            [
             0.6666666666666666,
             "#ed7953"
            ],
            [
             0.7777777777777778,
             "#fb9f3a"
            ],
            [
             0.8888888888888888,
             "#fdca26"
            ],
            [
             1,
             "#f0f921"
            ]
           ]
          },
          "colorway": [
           "#636efa",
           "#EF553B",
           "#00cc96",
           "#ab63fa",
           "#FFA15A",
           "#19d3f3",
           "#FF6692",
           "#B6E880",
           "#FF97FF",
           "#FECB52"
          ],
          "font": {
           "color": "#2a3f5f"
          },
          "geo": {
           "bgcolor": "white",
           "lakecolor": "white",
           "landcolor": "#E5ECF6",
           "showlakes": true,
           "showland": true,
           "subunitcolor": "white"
          },
          "hoverlabel": {
           "align": "left"
          },
          "hovermode": "closest",
          "mapbox": {
           "style": "light"
          },
          "paper_bgcolor": "white",
          "plot_bgcolor": "#E5ECF6",
          "polar": {
           "angularaxis": {
            "gridcolor": "white",
            "linecolor": "white",
            "ticks": ""
           },
           "bgcolor": "#E5ECF6",
           "radialaxis": {
            "gridcolor": "white",
            "linecolor": "white",
            "ticks": ""
           }
          },
          "scene": {
           "xaxis": {
            "backgroundcolor": "#E5ECF6",
            "gridcolor": "white",
            "gridwidth": 2,
            "linecolor": "white",
            "showbackground": true,
            "ticks": "",
            "zerolinecolor": "white"
           },
           "yaxis": {
            "backgroundcolor": "#E5ECF6",
            "gridcolor": "white",
            "gridwidth": 2,
            "linecolor": "white",
            "showbackground": true,
            "ticks": "",
            "zerolinecolor": "white"
           },
           "zaxis": {
            "backgroundcolor": "#E5ECF6",
            "gridcolor": "white",
            "gridwidth": 2,
            "linecolor": "white",
            "showbackground": true,
            "ticks": "",
            "zerolinecolor": "white"
           }
          },
          "shapedefaults": {
           "line": {
            "color": "#2a3f5f"
           }
          },
          "ternary": {
           "aaxis": {
            "gridcolor": "white",
            "linecolor": "white",
            "ticks": ""
           },
           "baxis": {
            "gridcolor": "white",
            "linecolor": "white",
            "ticks": ""
           },
           "bgcolor": "#E5ECF6",
           "caxis": {
            "gridcolor": "white",
            "linecolor": "white",
            "ticks": ""
           }
          },
          "title": {
           "x": 0.05
          },
          "xaxis": {
           "automargin": true,
           "gridcolor": "white",
           "linecolor": "white",
           "ticks": "",
           "title": {
            "standoff": 15
           },
           "zerolinecolor": "white",
           "zerolinewidth": 2
          },
          "yaxis": {
           "automargin": true,
           "gridcolor": "white",
           "linecolor": "white",
           "ticks": "",
           "title": {
            "standoff": 15
           },
           "zerolinecolor": "white",
           "zerolinewidth": 2
          }
         }
        },
        "xaxis": {
         "anchor": "y",
         "domain": [
          0,
          1
         ],
         "title": {
          "text": "selling_price"
         }
        },
        "yaxis": {
         "anchor": "x",
         "domain": [
          0,
          1
         ],
         "title": {
          "text": "title"
         }
        }
       }
      }
     },
     "metadata": {},
     "output_type": "display_data"
    }
   ],
   "source": [
    "px.bar(high_selling_price_df,y='title',x='selling_price')"
   ]
  },
  {
   "cell_type": "code",
   "execution_count": 36,
   "metadata": {},
   "outputs": [
    {
     "data": {
      "application/vnd.plotly.v1+json": {
       "config": {
        "plotlyServerURL": "https://plot.ly"
       },
       "data": [
        {
         "alignmentgroup": "True",
         "hovertemplate": "selling_price=%{x}<br>title=%{y}<extra></extra>",
         "legendgroup": "",
         "marker": {
          "color": "#636efa",
          "pattern": {
           "shape": ""
          }
         },
         "name": "",
         "offsetgroup": "",
         "orientation": "h",
         "showlegend": false,
         "textposition": "auto",
         "type": "bar",
         "x": [
          7999,
          7998,
          7799,
          7799,
          7794,
          6998,
          6925,
          6692,
          6399,
          6399,
          6049,
          5999,
          5998,
          5990,
          5990,
          5990,
          5843,
          5498,
          5498,
          5394,
          5243,
          5243,
          5243,
          5200,
          5199,
          5199,
          5199,
          5188,
          5060,
          4999,
          4998,
          4998,
          4990,
          4990,
          4899,
          4783,
          4599,
          4515,
          4499,
          4499,
          4499,
          4499,
          4498,
          4387
         ],
         "xaxis": "x",
         "y": [
          "Solid Men Track Suit",
          "Checkered Single Breasted Party Men Full Sleeve Blazer  (Grey)",
          "Full Sleeve Solid Men Casual Jacket",
          "Full Sleeve Printed Men Sweatshirt",
          "Skinny Men Blue Jeans",
          "Self Design Single Breasted Party Men Full Sleeve Blazer  (Blue)",
          "Regular Fit Men Dark Blue Cotton Blend Trousers",
          "Maxx Regular Men Black Jeans",
          "Slim Men Black Jeans",
          "Slim Men Dark Blue Jeans",
          "Full Sleeve Solid Men Padded Jacket",
          "Tapered Fit Men Blue Jeans",
          "Full Sleeve Solid Men Quilted Jacket",
          "Solid Men Beige Denim Shorts",
          "Solid Men Blue Denim Shorts",
          "Slim Men Blue Jeans",
          "Tapered Fit Men White Jeans",
          "Full Sleeve Solid Men Riding Jacket",
          "Full Sleeve Solid Men Bomber Jacket",
          "Regular Men Light Blue Jeans",
          "Regular Fit Men Blue Cotton Blend Trousers",
          "Regular Fit Men Brown Cotton Blend Trousers",
          "Regular Fit Men Green Cotton Blend Trousers",
          "Mods Western Star Self Design Sherwani",
          "3 Piece Solid Men Suit",
          "2 Piece Self Design Men Suit",
          "2 Piece Solid Men Suit",
          "Full Sleeve Self Design Men Casual Jacket",
          "Slim Men Light Blue Jeans",
          "Full Sleeve Striped Men Bomber Jacket",
          "Full Sleeve Colorblock Men Casual Jacket",
          "Full Sleeve Solid Men Jacket",
          "Solid Men Dark Blue Chino Shorts",
          "Solid Men White Chino Shorts",
          "Full Sleeve Solid Men Sports Jacket",
          "Vairavaa Tex Solid Men Dhoti",
          "Self Design Single Breasted Wedding, Casual, Party, Formal, Festive, Festive & Wedding Men Full Sleeve Blazer  (Green)",
          "Full Sleeve Solid Men Sweatshirt",
          "Solid Men Black Track Pants",
          "Full Sleeve Color Block Men Sweatshirt",
          "Sleeveless Solid Men Casual Jacket",
          "Full Sleeve Solid Men Varsity Jacket",
          "Sleeveless Solid Men Quilted Jacket",
          "SIVAA TEX Men's Pure Silk White Dhoti Men Dhoti"
         ],
         "yaxis": "y"
        }
       ],
       "layout": {
        "barmode": "relative",
        "legend": {
         "tracegroupgap": 0
        },
        "margin": {
         "t": 60
        },
        "template": {
         "data": {
          "bar": [
           {
            "error_x": {
             "color": "#2a3f5f"
            },
            "error_y": {
             "color": "#2a3f5f"
            },
            "marker": {
             "line": {
              "color": "#E5ECF6",
              "width": 0.5
             },
             "pattern": {
              "fillmode": "overlay",
              "size": 10,
              "solidity": 0.2
             }
            },
            "type": "bar"
           }
          ],
          "barpolar": [
           {
            "marker": {
             "line": {
              "color": "#E5ECF6",
              "width": 0.5
             },
             "pattern": {
              "fillmode": "overlay",
              "size": 10,
              "solidity": 0.2
             }
            },
            "type": "barpolar"
           }
          ],
          "carpet": [
           {
            "aaxis": {
             "endlinecolor": "#2a3f5f",
             "gridcolor": "white",
             "linecolor": "white",
             "minorgridcolor": "white",
             "startlinecolor": "#2a3f5f"
            },
            "baxis": {
             "endlinecolor": "#2a3f5f",
             "gridcolor": "white",
             "linecolor": "white",
             "minorgridcolor": "white",
             "startlinecolor": "#2a3f5f"
            },
            "type": "carpet"
           }
          ],
          "choropleth": [
           {
            "colorbar": {
             "outlinewidth": 0,
             "ticks": ""
            },
            "type": "choropleth"
           }
          ],
          "contour": [
           {
            "colorbar": {
             "outlinewidth": 0,
             "ticks": ""
            },
            "colorscale": [
             [
              0,
              "#0d0887"
             ],
             [
              0.1111111111111111,
              "#46039f"
             ],
             [
              0.2222222222222222,
              "#7201a8"
             ],
             [
              0.3333333333333333,
              "#9c179e"
             ],
             [
              0.4444444444444444,
              "#bd3786"
             ],
             [
              0.5555555555555556,
              "#d8576b"
             ],
             [
              0.6666666666666666,
              "#ed7953"
             ],
             [
              0.7777777777777778,
              "#fb9f3a"
             ],
             [
              0.8888888888888888,
              "#fdca26"
             ],
             [
              1,
              "#f0f921"
             ]
            ],
            "type": "contour"
           }
          ],
          "contourcarpet": [
           {
            "colorbar": {
             "outlinewidth": 0,
             "ticks": ""
            },
            "type": "contourcarpet"
           }
          ],
          "heatmap": [
           {
            "colorbar": {
             "outlinewidth": 0,
             "ticks": ""
            },
            "colorscale": [
             [
              0,
              "#0d0887"
             ],
             [
              0.1111111111111111,
              "#46039f"
             ],
             [
              0.2222222222222222,
              "#7201a8"
             ],
             [
              0.3333333333333333,
              "#9c179e"
             ],
             [
              0.4444444444444444,
              "#bd3786"
             ],
             [
              0.5555555555555556,
              "#d8576b"
             ],
             [
              0.6666666666666666,
              "#ed7953"
             ],
             [
              0.7777777777777778,
              "#fb9f3a"
             ],
             [
              0.8888888888888888,
              "#fdca26"
             ],
             [
              1,
              "#f0f921"
             ]
            ],
            "type": "heatmap"
           }
          ],
          "heatmapgl": [
           {
            "colorbar": {
             "outlinewidth": 0,
             "ticks": ""
            },
            "colorscale": [
             [
              0,
              "#0d0887"
             ],
             [
              0.1111111111111111,
              "#46039f"
             ],
             [
              0.2222222222222222,
              "#7201a8"
             ],
             [
              0.3333333333333333,
              "#9c179e"
             ],
             [
              0.4444444444444444,
              "#bd3786"
             ],
             [
              0.5555555555555556,
              "#d8576b"
             ],
             [
              0.6666666666666666,
              "#ed7953"
             ],
             [
              0.7777777777777778,
              "#fb9f3a"
             ],
             [
              0.8888888888888888,
              "#fdca26"
             ],
             [
              1,
              "#f0f921"
             ]
            ],
            "type": "heatmapgl"
           }
          ],
          "histogram": [
           {
            "marker": {
             "pattern": {
              "fillmode": "overlay",
              "size": 10,
              "solidity": 0.2
             }
            },
            "type": "histogram"
           }
          ],
          "histogram2d": [
           {
            "colorbar": {
             "outlinewidth": 0,
             "ticks": ""
            },
            "colorscale": [
             [
              0,
              "#0d0887"
             ],
             [
              0.1111111111111111,
              "#46039f"
             ],
             [
              0.2222222222222222,
              "#7201a8"
             ],
             [
              0.3333333333333333,
              "#9c179e"
             ],
             [
              0.4444444444444444,
              "#bd3786"
             ],
             [
              0.5555555555555556,
              "#d8576b"
             ],
             [
              0.6666666666666666,
              "#ed7953"
             ],
             [
              0.7777777777777778,
              "#fb9f3a"
             ],
             [
              0.8888888888888888,
              "#fdca26"
             ],
             [
              1,
              "#f0f921"
             ]
            ],
            "type": "histogram2d"
           }
          ],
          "histogram2dcontour": [
           {
            "colorbar": {
             "outlinewidth": 0,
             "ticks": ""
            },
            "colorscale": [
             [
              0,
              "#0d0887"
             ],
             [
              0.1111111111111111,
              "#46039f"
             ],
             [
              0.2222222222222222,
              "#7201a8"
             ],
             [
              0.3333333333333333,
              "#9c179e"
             ],
             [
              0.4444444444444444,
              "#bd3786"
             ],
             [
              0.5555555555555556,
              "#d8576b"
             ],
             [
              0.6666666666666666,
              "#ed7953"
             ],
             [
              0.7777777777777778,
              "#fb9f3a"
             ],
             [
              0.8888888888888888,
              "#fdca26"
             ],
             [
              1,
              "#f0f921"
             ]
            ],
            "type": "histogram2dcontour"
           }
          ],
          "mesh3d": [
           {
            "colorbar": {
             "outlinewidth": 0,
             "ticks": ""
            },
            "type": "mesh3d"
           }
          ],
          "parcoords": [
           {
            "line": {
             "colorbar": {
              "outlinewidth": 0,
              "ticks": ""
             }
            },
            "type": "parcoords"
           }
          ],
          "pie": [
           {
            "automargin": true,
            "type": "pie"
           }
          ],
          "scatter": [
           {
            "fillpattern": {
             "fillmode": "overlay",
             "size": 10,
             "solidity": 0.2
            },
            "type": "scatter"
           }
          ],
          "scatter3d": [
           {
            "line": {
             "colorbar": {
              "outlinewidth": 0,
              "ticks": ""
             }
            },
            "marker": {
             "colorbar": {
              "outlinewidth": 0,
              "ticks": ""
             }
            },
            "type": "scatter3d"
           }
          ],
          "scattercarpet": [
           {
            "marker": {
             "colorbar": {
              "outlinewidth": 0,
              "ticks": ""
             }
            },
            "type": "scattercarpet"
           }
          ],
          "scattergeo": [
           {
            "marker": {
             "colorbar": {
              "outlinewidth": 0,
              "ticks": ""
             }
            },
            "type": "scattergeo"
           }
          ],
          "scattergl": [
           {
            "marker": {
             "colorbar": {
              "outlinewidth": 0,
              "ticks": ""
             }
            },
            "type": "scattergl"
           }
          ],
          "scattermapbox": [
           {
            "marker": {
             "colorbar": {
              "outlinewidth": 0,
              "ticks": ""
             }
            },
            "type": "scattermapbox"
           }
          ],
          "scatterpolar": [
           {
            "marker": {
             "colorbar": {
              "outlinewidth": 0,
              "ticks": ""
             }
            },
            "type": "scatterpolar"
           }
          ],
          "scatterpolargl": [
           {
            "marker": {
             "colorbar": {
              "outlinewidth": 0,
              "ticks": ""
             }
            },
            "type": "scatterpolargl"
           }
          ],
          "scatterternary": [
           {
            "marker": {
             "colorbar": {
              "outlinewidth": 0,
              "ticks": ""
             }
            },
            "type": "scatterternary"
           }
          ],
          "surface": [
           {
            "colorbar": {
             "outlinewidth": 0,
             "ticks": ""
            },
            "colorscale": [
             [
              0,
              "#0d0887"
             ],
             [
              0.1111111111111111,
              "#46039f"
             ],
             [
              0.2222222222222222,
              "#7201a8"
             ],
             [
              0.3333333333333333,
              "#9c179e"
             ],
             [
              0.4444444444444444,
              "#bd3786"
             ],
             [
              0.5555555555555556,
              "#d8576b"
             ],
             [
              0.6666666666666666,
              "#ed7953"
             ],
             [
              0.7777777777777778,
              "#fb9f3a"
             ],
             [
              0.8888888888888888,
              "#fdca26"
             ],
             [
              1,
              "#f0f921"
             ]
            ],
            "type": "surface"
           }
          ],
          "table": [
           {
            "cells": {
             "fill": {
              "color": "#EBF0F8"
             },
             "line": {
              "color": "white"
             }
            },
            "header": {
             "fill": {
              "color": "#C8D4E3"
             },
             "line": {
              "color": "white"
             }
            },
            "type": "table"
           }
          ]
         },
         "layout": {
          "annotationdefaults": {
           "arrowcolor": "#2a3f5f",
           "arrowhead": 0,
           "arrowwidth": 1
          },
          "autotypenumbers": "strict",
          "coloraxis": {
           "colorbar": {
            "outlinewidth": 0,
            "ticks": ""
           }
          },
          "colorscale": {
           "diverging": [
            [
             0,
             "#8e0152"
            ],
            [
             0.1,
             "#c51b7d"
            ],
            [
             0.2,
             "#de77ae"
            ],
            [
             0.3,
             "#f1b6da"
            ],
            [
             0.4,
             "#fde0ef"
            ],
            [
             0.5,
             "#f7f7f7"
            ],
            [
             0.6,
             "#e6f5d0"
            ],
            [
             0.7,
             "#b8e186"
            ],
            [
             0.8,
             "#7fbc41"
            ],
            [
             0.9,
             "#4d9221"
            ],
            [
             1,
             "#276419"
            ]
           ],
           "sequential": [
            [
             0,
             "#0d0887"
            ],
            [
             0.1111111111111111,
             "#46039f"
            ],
            [
             0.2222222222222222,
             "#7201a8"
            ],
            [
             0.3333333333333333,
             "#9c179e"
            ],
            [
             0.4444444444444444,
             "#bd3786"
            ],
            [
             0.5555555555555556,
             "#d8576b"
            ],
            [
             0.6666666666666666,
             "#ed7953"
            ],
            [
             0.7777777777777778,
             "#fb9f3a"
            ],
            [
             0.8888888888888888,
             "#fdca26"
            ],
            [
             1,
             "#f0f921"
            ]
           ],
           "sequentialminus": [
            [
             0,
             "#0d0887"
            ],
            [
             0.1111111111111111,
             "#46039f"
            ],
            [
             0.2222222222222222,
             "#7201a8"
            ],
            [
             0.3333333333333333,
             "#9c179e"
            ],
            [
             0.4444444444444444,
             "#bd3786"
            ],
            [
             0.5555555555555556,
             "#d8576b"
            ],
            [
             0.6666666666666666,
             "#ed7953"
            ],
            [
             0.7777777777777778,
             "#fb9f3a"
            ],
            [
             0.8888888888888888,
             "#fdca26"
            ],
            [
             1,
             "#f0f921"
            ]
           ]
          },
          "colorway": [
           "#636efa",
           "#EF553B",
           "#00cc96",
           "#ab63fa",
           "#FFA15A",
           "#19d3f3",
           "#FF6692",
           "#B6E880",
           "#FF97FF",
           "#FECB52"
          ],
          "font": {
           "color": "#2a3f5f"
          },
          "geo": {
           "bgcolor": "white",
           "lakecolor": "white",
           "landcolor": "#E5ECF6",
           "showlakes": true,
           "showland": true,
           "subunitcolor": "white"
          },
          "hoverlabel": {
           "align": "left"
          },
          "hovermode": "closest",
          "mapbox": {
           "style": "light"
          },
          "paper_bgcolor": "white",
          "plot_bgcolor": "#E5ECF6",
          "polar": {
           "angularaxis": {
            "gridcolor": "white",
            "linecolor": "white",
            "ticks": ""
           },
           "bgcolor": "#E5ECF6",
           "radialaxis": {
            "gridcolor": "white",
            "linecolor": "white",
            "ticks": ""
           }
          },
          "scene": {
           "xaxis": {
            "backgroundcolor": "#E5ECF6",
            "gridcolor": "white",
            "gridwidth": 2,
            "linecolor": "white",
            "showbackground": true,
            "ticks": "",
            "zerolinecolor": "white"
           },
           "yaxis": {
            "backgroundcolor": "#E5ECF6",
            "gridcolor": "white",
            "gridwidth": 2,
            "linecolor": "white",
            "showbackground": true,
            "ticks": "",
            "zerolinecolor": "white"
           },
           "zaxis": {
            "backgroundcolor": "#E5ECF6",
            "gridcolor": "white",
            "gridwidth": 2,
            "linecolor": "white",
            "showbackground": true,
            "ticks": "",
            "zerolinecolor": "white"
           }
          },
          "shapedefaults": {
           "line": {
            "color": "#2a3f5f"
           }
          },
          "ternary": {
           "aaxis": {
            "gridcolor": "white",
            "linecolor": "white",
            "ticks": ""
           },
           "baxis": {
            "gridcolor": "white",
            "linecolor": "white",
            "ticks": ""
           },
           "bgcolor": "#E5ECF6",
           "caxis": {
            "gridcolor": "white",
            "linecolor": "white",
            "ticks": ""
           }
          },
          "title": {
           "x": 0.05
          },
          "xaxis": {
           "automargin": true,
           "gridcolor": "white",
           "linecolor": "white",
           "ticks": "",
           "title": {
            "standoff": 15
           },
           "zerolinecolor": "white",
           "zerolinewidth": 2
          },
          "yaxis": {
           "automargin": true,
           "gridcolor": "white",
           "linecolor": "white",
           "ticks": "",
           "title": {
            "standoff": 15
           },
           "zerolinecolor": "white",
           "zerolinewidth": 2
          }
         }
        },
        "xaxis": {
         "anchor": "y",
         "domain": [
          0,
          1
         ],
         "title": {
          "text": "selling_price"
         }
        },
        "yaxis": {
         "anchor": "x",
         "domain": [
          0,
          1
         ],
         "title": {
          "text": "title"
         }
        }
       }
      }
     },
     "metadata": {},
     "output_type": "display_data"
    }
   ],
   "source": [
    "high_selling_price_df.drop_duplicates(subset=['title'],inplace=True) #deop duplicates\n",
    "px.bar(high_selling_price_df.head(100),y='title',x=\"selling_price\")\n"
   ]
  },
  {
   "cell_type": "code",
   "execution_count": 37,
   "metadata": {},
   "outputs": [
    {
     "data": {
      "application/vnd.plotly.v1+json": {
       "config": {
        "plotlyServerURL": "https://plot.ly"
       },
       "data": [
        {
         "alignmentgroup": "True",
         "hovertemplate": "out_of_stock=True<br>selling_price=%{x}<br>title=%{y}<extra></extra>",
         "legendgroup": "True",
         "marker": {
          "color": "#636efa",
          "pattern": {
           "shape": ""
          }
         },
         "name": "True",
         "offsetgroup": "True",
         "orientation": "h",
         "showlegend": true,
         "textposition": "auto",
         "type": "bar",
         "x": [
          7999,
          6399,
          6399,
          6049,
          5999,
          5498,
          5199,
          4998,
          4499
         ],
         "xaxis": "x",
         "y": [
          "Solid Men Track Suit",
          "Slim Men Black Jeans",
          "Slim Men Dark Blue Jeans",
          "Full Sleeve Solid Men Padded Jacket",
          "Tapered Fit Men Blue Jeans",
          "Full Sleeve Solid Men Riding Jacket",
          "2 Piece Self Design Men Suit",
          "Full Sleeve Colorblock Men Casual Jacket",
          "Full Sleeve Solid Men Varsity Jacket"
         ],
         "yaxis": "y"
        },
        {
         "alignmentgroup": "True",
         "hovertemplate": "out_of_stock=False<br>selling_price=%{x}<br>title=%{y}<extra></extra>",
         "legendgroup": "False",
         "marker": {
          "color": "#EF553B",
          "pattern": {
           "shape": ""
          }
         },
         "name": "False",
         "offsetgroup": "False",
         "orientation": "h",
         "showlegend": true,
         "textposition": "auto",
         "type": "bar",
         "x": [
          7998,
          7799,
          7799,
          7794,
          6998,
          6925,
          6692,
          5998,
          5990,
          5990,
          5990,
          5843,
          5498,
          5394,
          5243,
          5243,
          5243,
          5200,
          5199,
          5199,
          5188,
          5060,
          4999,
          4998,
          4990,
          4990,
          4899,
          4783,
          4599,
          4515,
          4499,
          4499,
          4499,
          4498,
          4387
         ],
         "xaxis": "x",
         "y": [
          "Checkered Single Breasted Party Men Full Sleeve Blazer  (Grey)",
          "Full Sleeve Solid Men Casual Jacket",
          "Full Sleeve Printed Men Sweatshirt",
          "Skinny Men Blue Jeans",
          "Self Design Single Breasted Party Men Full Sleeve Blazer  (Blue)",
          "Regular Fit Men Dark Blue Cotton Blend Trousers",
          "Maxx Regular Men Black Jeans",
          "Full Sleeve Solid Men Quilted Jacket",
          "Solid Men Beige Denim Shorts",
          "Solid Men Blue Denim Shorts",
          "Slim Men Blue Jeans",
          "Tapered Fit Men White Jeans",
          "Full Sleeve Solid Men Bomber Jacket",
          "Regular Men Light Blue Jeans",
          "Regular Fit Men Blue Cotton Blend Trousers",
          "Regular Fit Men Brown Cotton Blend Trousers",
          "Regular Fit Men Green Cotton Blend Trousers",
          "Mods Western Star Self Design Sherwani",
          "3 Piece Solid Men Suit",
          "2 Piece Solid Men Suit",
          "Full Sleeve Self Design Men Casual Jacket",
          "Slim Men Light Blue Jeans",
          "Full Sleeve Striped Men Bomber Jacket",
          "Full Sleeve Solid Men Jacket",
          "Solid Men Dark Blue Chino Shorts",
          "Solid Men White Chino Shorts",
          "Full Sleeve Solid Men Sports Jacket",
          "Vairavaa Tex Solid Men Dhoti",
          "Self Design Single Breasted Wedding, Casual, Party, Formal, Festive, Festive & Wedding Men Full Sleeve Blazer  (Green)",
          "Full Sleeve Solid Men Sweatshirt",
          "Solid Men Black Track Pants",
          "Full Sleeve Color Block Men Sweatshirt",
          "Sleeveless Solid Men Casual Jacket",
          "Sleeveless Solid Men Quilted Jacket",
          "SIVAA TEX Men's Pure Silk White Dhoti Men Dhoti"
         ],
         "yaxis": "y"
        }
       ],
       "layout": {
        "barmode": "relative",
        "legend": {
         "title": {
          "text": "out_of_stock"
         },
         "tracegroupgap": 0
        },
        "margin": {
         "t": 60
        },
        "template": {
         "data": {
          "bar": [
           {
            "error_x": {
             "color": "#2a3f5f"
            },
            "error_y": {
             "color": "#2a3f5f"
            },
            "marker": {
             "line": {
              "color": "#E5ECF6",
              "width": 0.5
             },
             "pattern": {
              "fillmode": "overlay",
              "size": 10,
              "solidity": 0.2
             }
            },
            "type": "bar"
           }
          ],
          "barpolar": [
           {
            "marker": {
             "line": {
              "color": "#E5ECF6",
              "width": 0.5
             },
             "pattern": {
              "fillmode": "overlay",
              "size": 10,
              "solidity": 0.2
             }
            },
            "type": "barpolar"
           }
          ],
          "carpet": [
           {
            "aaxis": {
             "endlinecolor": "#2a3f5f",
             "gridcolor": "white",
             "linecolor": "white",
             "minorgridcolor": "white",
             "startlinecolor": "#2a3f5f"
            },
            "baxis": {
             "endlinecolor": "#2a3f5f",
             "gridcolor": "white",
             "linecolor": "white",
             "minorgridcolor": "white",
             "startlinecolor": "#2a3f5f"
            },
            "type": "carpet"
           }
          ],
          "choropleth": [
           {
            "colorbar": {
             "outlinewidth": 0,
             "ticks": ""
            },
            "type": "choropleth"
           }
          ],
          "contour": [
           {
            "colorbar": {
             "outlinewidth": 0,
             "ticks": ""
            },
            "colorscale": [
             [
              0,
              "#0d0887"
             ],
             [
              0.1111111111111111,
              "#46039f"
             ],
             [
              0.2222222222222222,
              "#7201a8"
             ],
             [
              0.3333333333333333,
              "#9c179e"
             ],
             [
              0.4444444444444444,
              "#bd3786"
             ],
             [
              0.5555555555555556,
              "#d8576b"
             ],
             [
              0.6666666666666666,
              "#ed7953"
             ],
             [
              0.7777777777777778,
              "#fb9f3a"
             ],
             [
              0.8888888888888888,
              "#fdca26"
             ],
             [
              1,
              "#f0f921"
             ]
            ],
            "type": "contour"
           }
          ],
          "contourcarpet": [
           {
            "colorbar": {
             "outlinewidth": 0,
             "ticks": ""
            },
            "type": "contourcarpet"
           }
          ],
          "heatmap": [
           {
            "colorbar": {
             "outlinewidth": 0,
             "ticks": ""
            },
            "colorscale": [
             [
              0,
              "#0d0887"
             ],
             [
              0.1111111111111111,
              "#46039f"
             ],
             [
              0.2222222222222222,
              "#7201a8"
             ],
             [
              0.3333333333333333,
              "#9c179e"
             ],
             [
              0.4444444444444444,
              "#bd3786"
             ],
             [
              0.5555555555555556,
              "#d8576b"
             ],
             [
              0.6666666666666666,
              "#ed7953"
             ],
             [
              0.7777777777777778,
              "#fb9f3a"
             ],
             [
              0.8888888888888888,
              "#fdca26"
             ],
             [
              1,
              "#f0f921"
             ]
            ],
            "type": "heatmap"
           }
          ],
          "heatmapgl": [
           {
            "colorbar": {
             "outlinewidth": 0,
             "ticks": ""
            },
            "colorscale": [
             [
              0,
              "#0d0887"
             ],
             [
              0.1111111111111111,
              "#46039f"
             ],
             [
              0.2222222222222222,
              "#7201a8"
             ],
             [
              0.3333333333333333,
              "#9c179e"
             ],
             [
              0.4444444444444444,
              "#bd3786"
             ],
             [
              0.5555555555555556,
              "#d8576b"
             ],
             [
              0.6666666666666666,
              "#ed7953"
             ],
             [
              0.7777777777777778,
              "#fb9f3a"
             ],
             [
              0.8888888888888888,
              "#fdca26"
             ],
             [
              1,
              "#f0f921"
             ]
            ],
            "type": "heatmapgl"
           }
          ],
          "histogram": [
           {
            "marker": {
             "pattern": {
              "fillmode": "overlay",
              "size": 10,
              "solidity": 0.2
             }
            },
            "type": "histogram"
           }
          ],
          "histogram2d": [
           {
            "colorbar": {
             "outlinewidth": 0,
             "ticks": ""
            },
            "colorscale": [
             [
              0,
              "#0d0887"
             ],
             [
              0.1111111111111111,
              "#46039f"
             ],
             [
              0.2222222222222222,
              "#7201a8"
             ],
             [
              0.3333333333333333,
              "#9c179e"
             ],
             [
              0.4444444444444444,
              "#bd3786"
             ],
             [
              0.5555555555555556,
              "#d8576b"
             ],
             [
              0.6666666666666666,
              "#ed7953"
             ],
             [
              0.7777777777777778,
              "#fb9f3a"
             ],
             [
              0.8888888888888888,
              "#fdca26"
             ],
             [
              1,
              "#f0f921"
             ]
            ],
            "type": "histogram2d"
           }
          ],
          "histogram2dcontour": [
           {
            "colorbar": {
             "outlinewidth": 0,
             "ticks": ""
            },
            "colorscale": [
             [
              0,
              "#0d0887"
             ],
             [
              0.1111111111111111,
              "#46039f"
             ],
             [
              0.2222222222222222,
              "#7201a8"
             ],
             [
              0.3333333333333333,
              "#9c179e"
             ],
             [
              0.4444444444444444,
              "#bd3786"
             ],
             [
              0.5555555555555556,
              "#d8576b"
             ],
             [
              0.6666666666666666,
              "#ed7953"
             ],
             [
              0.7777777777777778,
              "#fb9f3a"
             ],
             [
              0.8888888888888888,
              "#fdca26"
             ],
             [
              1,
              "#f0f921"
             ]
            ],
            "type": "histogram2dcontour"
           }
          ],
          "mesh3d": [
           {
            "colorbar": {
             "outlinewidth": 0,
             "ticks": ""
            },
            "type": "mesh3d"
           }
          ],
          "parcoords": [
           {
            "line": {
             "colorbar": {
              "outlinewidth": 0,
              "ticks": ""
             }
            },
            "type": "parcoords"
           }
          ],
          "pie": [
           {
            "automargin": true,
            "type": "pie"
           }
          ],
          "scatter": [
           {
            "fillpattern": {
             "fillmode": "overlay",
             "size": 10,
             "solidity": 0.2
            },
            "type": "scatter"
           }
          ],
          "scatter3d": [
           {
            "line": {
             "colorbar": {
              "outlinewidth": 0,
              "ticks": ""
             }
            },
            "marker": {
             "colorbar": {
              "outlinewidth": 0,
              "ticks": ""
             }
            },
            "type": "scatter3d"
           }
          ],
          "scattercarpet": [
           {
            "marker": {
             "colorbar": {
              "outlinewidth": 0,
              "ticks": ""
             }
            },
            "type": "scattercarpet"
           }
          ],
          "scattergeo": [
           {
            "marker": {
             "colorbar": {
              "outlinewidth": 0,
              "ticks": ""
             }
            },
            "type": "scattergeo"
           }
          ],
          "scattergl": [
           {
            "marker": {
             "colorbar": {
              "outlinewidth": 0,
              "ticks": ""
             }
            },
            "type": "scattergl"
           }
          ],
          "scattermapbox": [
           {
            "marker": {
             "colorbar": {
              "outlinewidth": 0,
              "ticks": ""
             }
            },
            "type": "scattermapbox"
           }
          ],
          "scatterpolar": [
           {
            "marker": {
             "colorbar": {
              "outlinewidth": 0,
              "ticks": ""
             }
            },
            "type": "scatterpolar"
           }
          ],
          "scatterpolargl": [
           {
            "marker": {
             "colorbar": {
              "outlinewidth": 0,
              "ticks": ""
             }
            },
            "type": "scatterpolargl"
           }
          ],
          "scatterternary": [
           {
            "marker": {
             "colorbar": {
              "outlinewidth": 0,
              "ticks": ""
             }
            },
            "type": "scatterternary"
           }
          ],
          "surface": [
           {
            "colorbar": {
             "outlinewidth": 0,
             "ticks": ""
            },
            "colorscale": [
             [
              0,
              "#0d0887"
             ],
             [
              0.1111111111111111,
              "#46039f"
             ],
             [
              0.2222222222222222,
              "#7201a8"
             ],
             [
              0.3333333333333333,
              "#9c179e"
             ],
             [
              0.4444444444444444,
              "#bd3786"
             ],
             [
              0.5555555555555556,
              "#d8576b"
             ],
             [
              0.6666666666666666,
              "#ed7953"
             ],
             [
              0.7777777777777778,
              "#fb9f3a"
             ],
             [
              0.8888888888888888,
              "#fdca26"
             ],
             [
              1,
              "#f0f921"
             ]
            ],
            "type": "surface"
           }
          ],
          "table": [
           {
            "cells": {
             "fill": {
              "color": "#EBF0F8"
             },
             "line": {
              "color": "white"
             }
            },
            "header": {
             "fill": {
              "color": "#C8D4E3"
             },
             "line": {
              "color": "white"
             }
            },
            "type": "table"
           }
          ]
         },
         "layout": {
          "annotationdefaults": {
           "arrowcolor": "#2a3f5f",
           "arrowhead": 0,
           "arrowwidth": 1
          },
          "autotypenumbers": "strict",
          "coloraxis": {
           "colorbar": {
            "outlinewidth": 0,
            "ticks": ""
           }
          },
          "colorscale": {
           "diverging": [
            [
             0,
             "#8e0152"
            ],
            [
             0.1,
             "#c51b7d"
            ],
            [
             0.2,
             "#de77ae"
            ],
            [
             0.3,
             "#f1b6da"
            ],
            [
             0.4,
             "#fde0ef"
            ],
            [
             0.5,
             "#f7f7f7"
            ],
            [
             0.6,
             "#e6f5d0"
            ],
            [
             0.7,
             "#b8e186"
            ],
            [
             0.8,
             "#7fbc41"
            ],
            [
             0.9,
             "#4d9221"
            ],
            [
             1,
             "#276419"
            ]
           ],
           "sequential": [
            [
             0,
             "#0d0887"
            ],
            [
             0.1111111111111111,
             "#46039f"
            ],
            [
             0.2222222222222222,
             "#7201a8"
            ],
            [
             0.3333333333333333,
             "#9c179e"
            ],
            [
             0.4444444444444444,
             "#bd3786"
            ],
            [
             0.5555555555555556,
             "#d8576b"
            ],
            [
             0.6666666666666666,
             "#ed7953"
            ],
            [
             0.7777777777777778,
             "#fb9f3a"
            ],
            [
             0.8888888888888888,
             "#fdca26"
            ],
            [
             1,
             "#f0f921"
            ]
           ],
           "sequentialminus": [
            [
             0,
             "#0d0887"
            ],
            [
             0.1111111111111111,
             "#46039f"
            ],
            [
             0.2222222222222222,
             "#7201a8"
            ],
            [
             0.3333333333333333,
             "#9c179e"
            ],
            [
             0.4444444444444444,
             "#bd3786"
            ],
            [
             0.5555555555555556,
             "#d8576b"
            ],
            [
             0.6666666666666666,
             "#ed7953"
            ],
            [
             0.7777777777777778,
             "#fb9f3a"
            ],
            [
             0.8888888888888888,
             "#fdca26"
            ],
            [
             1,
             "#f0f921"
            ]
           ]
          },
          "colorway": [
           "#636efa",
           "#EF553B",
           "#00cc96",
           "#ab63fa",
           "#FFA15A",
           "#19d3f3",
           "#FF6692",
           "#B6E880",
           "#FF97FF",
           "#FECB52"
          ],
          "font": {
           "color": "#2a3f5f"
          },
          "geo": {
           "bgcolor": "white",
           "lakecolor": "white",
           "landcolor": "#E5ECF6",
           "showlakes": true,
           "showland": true,
           "subunitcolor": "white"
          },
          "hoverlabel": {
           "align": "left"
          },
          "hovermode": "closest",
          "mapbox": {
           "style": "light"
          },
          "paper_bgcolor": "white",
          "plot_bgcolor": "#E5ECF6",
          "polar": {
           "angularaxis": {
            "gridcolor": "white",
            "linecolor": "white",
            "ticks": ""
           },
           "bgcolor": "#E5ECF6",
           "radialaxis": {
            "gridcolor": "white",
            "linecolor": "white",
            "ticks": ""
           }
          },
          "scene": {
           "xaxis": {
            "backgroundcolor": "#E5ECF6",
            "gridcolor": "white",
            "gridwidth": 2,
            "linecolor": "white",
            "showbackground": true,
            "ticks": "",
            "zerolinecolor": "white"
           },
           "yaxis": {
            "backgroundcolor": "#E5ECF6",
            "gridcolor": "white",
            "gridwidth": 2,
            "linecolor": "white",
            "showbackground": true,
            "ticks": "",
            "zerolinecolor": "white"
           },
           "zaxis": {
            "backgroundcolor": "#E5ECF6",
            "gridcolor": "white",
            "gridwidth": 2,
            "linecolor": "white",
            "showbackground": true,
            "ticks": "",
            "zerolinecolor": "white"
           }
          },
          "shapedefaults": {
           "line": {
            "color": "#2a3f5f"
           }
          },
          "ternary": {
           "aaxis": {
            "gridcolor": "white",
            "linecolor": "white",
            "ticks": ""
           },
           "baxis": {
            "gridcolor": "white",
            "linecolor": "white",
            "ticks": ""
           },
           "bgcolor": "#E5ECF6",
           "caxis": {
            "gridcolor": "white",
            "linecolor": "white",
            "ticks": ""
           }
          },
          "title": {
           "x": 0.05
          },
          "xaxis": {
           "automargin": true,
           "gridcolor": "white",
           "linecolor": "white",
           "ticks": "",
           "title": {
            "standoff": 15
           },
           "zerolinecolor": "white",
           "zerolinewidth": 2
          },
          "yaxis": {
           "automargin": true,
           "gridcolor": "white",
           "linecolor": "white",
           "ticks": "",
           "title": {
            "standoff": 15
           },
           "zerolinecolor": "white",
           "zerolinewidth": 2
          }
         }
        },
        "width": 1300,
        "xaxis": {
         "anchor": "y",
         "domain": [
          0,
          1
         ],
         "title": {
          "text": "selling_price"
         }
        },
        "yaxis": {
         "anchor": "x",
         "domain": [
          0,
          1
         ],
         "title": {
          "text": "title"
         }
        }
       }
      }
     },
     "metadata": {},
     "output_type": "display_data"
    }
   ],
   "source": [
    "high_selling_price_df.drop_duplicates(subset=['title'],inplace=True) #deop duplicates\n",
    "px.bar(high_selling_price_df.head(100),y='title',\n",
    "       x='selling_price',color='out_of_stock',width=1300)\n"
   ]
  },
  {
   "cell_type": "code",
   "execution_count": 38,
   "metadata": {},
   "outputs": [
    {
     "data": {
      "application/vnd.plotly.v1+json": {
       "config": {
        "plotlyServerURL": "https://plot.ly"
       },
       "data": [
        {
         "alignmentgroup": "True",
         "hovertemplate": "out_of_stock=True<br>selling_price=%{x}<br>title=%{y}<extra></extra>",
         "legendgroup": "",
         "marker": {
          "color": "#636efa",
          "pattern": {
           "shape": ""
          }
         },
         "name": "",
         "offsetgroup": "",
         "orientation": "h",
         "showlegend": false,
         "textposition": "auto",
         "type": "bar",
         "x": [
          7999,
          6399,
          6399,
          6049,
          5999,
          5498,
          5199,
          4998,
          4499
         ],
         "xaxis": "x",
         "y": [
          "Solid Men Track Suit",
          "Slim Men Black Jeans",
          "Slim Men Dark Blue Jeans",
          "Full Sleeve Solid Men Padded Jacket",
          "Tapered Fit Men Blue Jeans",
          "Full Sleeve Solid Men Riding Jacket",
          "2 Piece Self Design Men Suit",
          "Full Sleeve Colorblock Men Casual Jacket",
          "Full Sleeve Solid Men Varsity Jacket"
         ],
         "yaxis": "y"
        },
        {
         "alignmentgroup": "True",
         "hovertemplate": "out_of_stock=False<br>selling_price=%{x}<br>title=%{y}<extra></extra>",
         "legendgroup": "",
         "marker": {
          "color": "#636efa",
          "pattern": {
           "shape": ""
          }
         },
         "name": "",
         "offsetgroup": "",
         "orientation": "h",
         "showlegend": false,
         "textposition": "auto",
         "type": "bar",
         "x": [
          7998,
          7799,
          7799,
          7794,
          6998,
          6925,
          6692,
          5998,
          5990,
          5990,
          5990,
          5843,
          5498,
          5394,
          5243,
          5243,
          5243,
          5200,
          5199,
          5199,
          5188,
          5060,
          4999,
          4998,
          4990,
          4990,
          4899,
          4783,
          4599,
          4515,
          4499,
          4499,
          4499,
          4498,
          4387
         ],
         "xaxis": "x2",
         "y": [
          "Checkered Single Breasted Party Men Full Sleeve Blazer  (Grey)",
          "Full Sleeve Solid Men Casual Jacket",
          "Full Sleeve Printed Men Sweatshirt",
          "Skinny Men Blue Jeans",
          "Self Design Single Breasted Party Men Full Sleeve Blazer  (Blue)",
          "Regular Fit Men Dark Blue Cotton Blend Trousers",
          "Maxx Regular Men Black Jeans",
          "Full Sleeve Solid Men Quilted Jacket",
          "Solid Men Beige Denim Shorts",
          "Solid Men Blue Denim Shorts",
          "Slim Men Blue Jeans",
          "Tapered Fit Men White Jeans",
          "Full Sleeve Solid Men Bomber Jacket",
          "Regular Men Light Blue Jeans",
          "Regular Fit Men Blue Cotton Blend Trousers",
          "Regular Fit Men Brown Cotton Blend Trousers",
          "Regular Fit Men Green Cotton Blend Trousers",
          "Mods Western Star Self Design Sherwani",
          "3 Piece Solid Men Suit",
          "2 Piece Solid Men Suit",
          "Full Sleeve Self Design Men Casual Jacket",
          "Slim Men Light Blue Jeans",
          "Full Sleeve Striped Men Bomber Jacket",
          "Full Sleeve Solid Men Jacket",
          "Solid Men Dark Blue Chino Shorts",
          "Solid Men White Chino Shorts",
          "Full Sleeve Solid Men Sports Jacket",
          "Vairavaa Tex Solid Men Dhoti",
          "Self Design Single Breasted Wedding, Casual, Party, Formal, Festive, Festive & Wedding Men Full Sleeve Blazer  (Green)",
          "Full Sleeve Solid Men Sweatshirt",
          "Solid Men Black Track Pants",
          "Full Sleeve Color Block Men Sweatshirt",
          "Sleeveless Solid Men Casual Jacket",
          "Sleeveless Solid Men Quilted Jacket",
          "SIVAA TEX Men's Pure Silk White Dhoti Men Dhoti"
         ],
         "yaxis": "y2"
        }
       ],
       "layout": {
        "annotations": [
         {
          "font": {},
          "showarrow": false,
          "text": "out_of_stock=True",
          "x": 0.245,
          "xanchor": "center",
          "xref": "paper",
          "y": 1,
          "yanchor": "bottom",
          "yref": "paper"
         },
         {
          "font": {},
          "showarrow": false,
          "text": "out_of_stock=False",
          "x": 0.755,
          "xanchor": "center",
          "xref": "paper",
          "y": 1,
          "yanchor": "bottom",
          "yref": "paper"
         }
        ],
        "barmode": "relative",
        "legend": {
         "tracegroupgap": 0
        },
        "margin": {
         "t": 60
        },
        "template": {
         "data": {
          "bar": [
           {
            "error_x": {
             "color": "#2a3f5f"
            },
            "error_y": {
             "color": "#2a3f5f"
            },
            "marker": {
             "line": {
              "color": "#E5ECF6",
              "width": 0.5
             },
             "pattern": {
              "fillmode": "overlay",
              "size": 10,
              "solidity": 0.2
             }
            },
            "type": "bar"
           }
          ],
          "barpolar": [
           {
            "marker": {
             "line": {
              "color": "#E5ECF6",
              "width": 0.5
             },
             "pattern": {
              "fillmode": "overlay",
              "size": 10,
              "solidity": 0.2
             }
            },
            "type": "barpolar"
           }
          ],
          "carpet": [
           {
            "aaxis": {
             "endlinecolor": "#2a3f5f",
             "gridcolor": "white",
             "linecolor": "white",
             "minorgridcolor": "white",
             "startlinecolor": "#2a3f5f"
            },
            "baxis": {
             "endlinecolor": "#2a3f5f",
             "gridcolor": "white",
             "linecolor": "white",
             "minorgridcolor": "white",
             "startlinecolor": "#2a3f5f"
            },
            "type": "carpet"
           }
          ],
          "choropleth": [
           {
            "colorbar": {
             "outlinewidth": 0,
             "ticks": ""
            },
            "type": "choropleth"
           }
          ],
          "contour": [
           {
            "colorbar": {
             "outlinewidth": 0,
             "ticks": ""
            },
            "colorscale": [
             [
              0,
              "#0d0887"
             ],
             [
              0.1111111111111111,
              "#46039f"
             ],
             [
              0.2222222222222222,
              "#7201a8"
             ],
             [
              0.3333333333333333,
              "#9c179e"
             ],
             [
              0.4444444444444444,
              "#bd3786"
             ],
             [
              0.5555555555555556,
              "#d8576b"
             ],
             [
              0.6666666666666666,
              "#ed7953"
             ],
             [
              0.7777777777777778,
              "#fb9f3a"
             ],
             [
              0.8888888888888888,
              "#fdca26"
             ],
             [
              1,
              "#f0f921"
             ]
            ],
            "type": "contour"
           }
          ],
          "contourcarpet": [
           {
            "colorbar": {
             "outlinewidth": 0,
             "ticks": ""
            },
            "type": "contourcarpet"
           }
          ],
          "heatmap": [
           {
            "colorbar": {
             "outlinewidth": 0,
             "ticks": ""
            },
            "colorscale": [
             [
              0,
              "#0d0887"
             ],
             [
              0.1111111111111111,
              "#46039f"
             ],
             [
              0.2222222222222222,
              "#7201a8"
             ],
             [
              0.3333333333333333,
              "#9c179e"
             ],
             [
              0.4444444444444444,
              "#bd3786"
             ],
             [
              0.5555555555555556,
              "#d8576b"
             ],
             [
              0.6666666666666666,
              "#ed7953"
             ],
             [
              0.7777777777777778,
              "#fb9f3a"
             ],
             [
              0.8888888888888888,
              "#fdca26"
             ],
             [
              1,
              "#f0f921"
             ]
            ],
            "type": "heatmap"
           }
          ],
          "heatmapgl": [
           {
            "colorbar": {
             "outlinewidth": 0,
             "ticks": ""
            },
            "colorscale": [
             [
              0,
              "#0d0887"
             ],
             [
              0.1111111111111111,
              "#46039f"
             ],
             [
              0.2222222222222222,
              "#7201a8"
             ],
             [
              0.3333333333333333,
              "#9c179e"
             ],
             [
              0.4444444444444444,
              "#bd3786"
             ],
             [
              0.5555555555555556,
              "#d8576b"
             ],
             [
              0.6666666666666666,
              "#ed7953"
             ],
             [
              0.7777777777777778,
              "#fb9f3a"
             ],
             [
              0.8888888888888888,
              "#fdca26"
             ],
             [
              1,
              "#f0f921"
             ]
            ],
            "type": "heatmapgl"
           }
          ],
          "histogram": [
           {
            "marker": {
             "pattern": {
              "fillmode": "overlay",
              "size": 10,
              "solidity": 0.2
             }
            },
            "type": "histogram"
           }
          ],
          "histogram2d": [
           {
            "colorbar": {
             "outlinewidth": 0,
             "ticks": ""
            },
            "colorscale": [
             [
              0,
              "#0d0887"
             ],
             [
              0.1111111111111111,
              "#46039f"
             ],
             [
              0.2222222222222222,
              "#7201a8"
             ],
             [
              0.3333333333333333,
              "#9c179e"
             ],
             [
              0.4444444444444444,
              "#bd3786"
             ],
             [
              0.5555555555555556,
              "#d8576b"
             ],
             [
              0.6666666666666666,
              "#ed7953"
             ],
             [
              0.7777777777777778,
              "#fb9f3a"
             ],
             [
              0.8888888888888888,
              "#fdca26"
             ],
             [
              1,
              "#f0f921"
             ]
            ],
            "type": "histogram2d"
           }
          ],
          "histogram2dcontour": [
           {
            "colorbar": {
             "outlinewidth": 0,
             "ticks": ""
            },
            "colorscale": [
             [
              0,
              "#0d0887"
             ],
             [
              0.1111111111111111,
              "#46039f"
             ],
             [
              0.2222222222222222,
              "#7201a8"
             ],
             [
              0.3333333333333333,
              "#9c179e"
             ],
             [
              0.4444444444444444,
              "#bd3786"
             ],
             [
              0.5555555555555556,
              "#d8576b"
             ],
             [
              0.6666666666666666,
              "#ed7953"
             ],
             [
              0.7777777777777778,
              "#fb9f3a"
             ],
             [
              0.8888888888888888,
              "#fdca26"
             ],
             [
              1,
              "#f0f921"
             ]
            ],
            "type": "histogram2dcontour"
           }
          ],
          "mesh3d": [
           {
            "colorbar": {
             "outlinewidth": 0,
             "ticks": ""
            },
            "type": "mesh3d"
           }
          ],
          "parcoords": [
           {
            "line": {
             "colorbar": {
              "outlinewidth": 0,
              "ticks": ""
             }
            },
            "type": "parcoords"
           }
          ],
          "pie": [
           {
            "automargin": true,
            "type": "pie"
           }
          ],
          "scatter": [
           {
            "fillpattern": {
             "fillmode": "overlay",
             "size": 10,
             "solidity": 0.2
            },
            "type": "scatter"
           }
          ],
          "scatter3d": [
           {
            "line": {
             "colorbar": {
              "outlinewidth": 0,
              "ticks": ""
             }
            },
            "marker": {
             "colorbar": {
              "outlinewidth": 0,
              "ticks": ""
             }
            },
            "type": "scatter3d"
           }
          ],
          "scattercarpet": [
           {
            "marker": {
             "colorbar": {
              "outlinewidth": 0,
              "ticks": ""
             }
            },
            "type": "scattercarpet"
           }
          ],
          "scattergeo": [
           {
            "marker": {
             "colorbar": {
              "outlinewidth": 0,
              "ticks": ""
             }
            },
            "type": "scattergeo"
           }
          ],
          "scattergl": [
           {
            "marker": {
             "colorbar": {
              "outlinewidth": 0,
              "ticks": ""
             }
            },
            "type": "scattergl"
           }
          ],
          "scattermapbox": [
           {
            "marker": {
             "colorbar": {
              "outlinewidth": 0,
              "ticks": ""
             }
            },
            "type": "scattermapbox"
           }
          ],
          "scatterpolar": [
           {
            "marker": {
             "colorbar": {
              "outlinewidth": 0,
              "ticks": ""
             }
            },
            "type": "scatterpolar"
           }
          ],
          "scatterpolargl": [
           {
            "marker": {
             "colorbar": {
              "outlinewidth": 0,
              "ticks": ""
             }
            },
            "type": "scatterpolargl"
           }
          ],
          "scatterternary": [
           {
            "marker": {
             "colorbar": {
              "outlinewidth": 0,
              "ticks": ""
             }
            },
            "type": "scatterternary"
           }
          ],
          "surface": [
           {
            "colorbar": {
             "outlinewidth": 0,
             "ticks": ""
            },
            "colorscale": [
             [
              0,
              "#0d0887"
             ],
             [
              0.1111111111111111,
              "#46039f"
             ],
             [
              0.2222222222222222,
              "#7201a8"
             ],
             [
              0.3333333333333333,
              "#9c179e"
             ],
             [
              0.4444444444444444,
              "#bd3786"
             ],
             [
              0.5555555555555556,
              "#d8576b"
             ],
             [
              0.6666666666666666,
              "#ed7953"
             ],
             [
              0.7777777777777778,
              "#fb9f3a"
             ],
             [
              0.8888888888888888,
              "#fdca26"
             ],
             [
              1,
              "#f0f921"
             ]
            ],
            "type": "surface"
           }
          ],
          "table": [
           {
            "cells": {
             "fill": {
              "color": "#EBF0F8"
             },
             "line": {
              "color": "white"
             }
            },
            "header": {
             "fill": {
              "color": "#C8D4E3"
             },
             "line": {
              "color": "white"
             }
            },
            "type": "table"
           }
          ]
         },
         "layout": {
          "annotationdefaults": {
           "arrowcolor": "#2a3f5f",
           "arrowhead": 0,
           "arrowwidth": 1
          },
          "autotypenumbers": "strict",
          "coloraxis": {
           "colorbar": {
            "outlinewidth": 0,
            "ticks": ""
           }
          },
          "colorscale": {
           "diverging": [
            [
             0,
             "#8e0152"
            ],
            [
             0.1,
             "#c51b7d"
            ],
            [
             0.2,
             "#de77ae"
            ],
            [
             0.3,
             "#f1b6da"
            ],
            [
             0.4,
             "#fde0ef"
            ],
            [
             0.5,
             "#f7f7f7"
            ],
            [
             0.6,
             "#e6f5d0"
            ],
            [
             0.7,
             "#b8e186"
            ],
            [
             0.8,
             "#7fbc41"
            ],
            [
             0.9,
             "#4d9221"
            ],
            [
             1,
             "#276419"
            ]
           ],
           "sequential": [
            [
             0,
             "#0d0887"
            ],
            [
             0.1111111111111111,
             "#46039f"
            ],
            [
             0.2222222222222222,
             "#7201a8"
            ],
            [
             0.3333333333333333,
             "#9c179e"
            ],
            [
             0.4444444444444444,
             "#bd3786"
            ],
            [
             0.5555555555555556,
             "#d8576b"
            ],
            [
             0.6666666666666666,
             "#ed7953"
            ],
            [
             0.7777777777777778,
             "#fb9f3a"
            ],
            [
             0.8888888888888888,
             "#fdca26"
            ],
            [
             1,
             "#f0f921"
            ]
           ],
           "sequentialminus": [
            [
             0,
             "#0d0887"
            ],
            [
             0.1111111111111111,
             "#46039f"
            ],
            [
             0.2222222222222222,
             "#7201a8"
            ],
            [
             0.3333333333333333,
             "#9c179e"
            ],
            [
             0.4444444444444444,
             "#bd3786"
            ],
            [
             0.5555555555555556,
             "#d8576b"
            ],
            [
             0.6666666666666666,
             "#ed7953"
            ],
            [
             0.7777777777777778,
             "#fb9f3a"
            ],
            [
             0.8888888888888888,
             "#fdca26"
            ],
            [
             1,
             "#f0f921"
            ]
           ]
          },
          "colorway": [
           "#636efa",
           "#EF553B",
           "#00cc96",
           "#ab63fa",
           "#FFA15A",
           "#19d3f3",
           "#FF6692",
           "#B6E880",
           "#FF97FF",
           "#FECB52"
          ],
          "font": {
           "color": "#2a3f5f"
          },
          "geo": {
           "bgcolor": "white",
           "lakecolor": "white",
           "landcolor": "#E5ECF6",
           "showlakes": true,
           "showland": true,
           "subunitcolor": "white"
          },
          "hoverlabel": {
           "align": "left"
          },
          "hovermode": "closest",
          "mapbox": {
           "style": "light"
          },
          "paper_bgcolor": "white",
          "plot_bgcolor": "#E5ECF6",
          "polar": {
           "angularaxis": {
            "gridcolor": "white",
            "linecolor": "white",
            "ticks": ""
           },
           "bgcolor": "#E5ECF6",
           "radialaxis": {
            "gridcolor": "white",
            "linecolor": "white",
            "ticks": ""
           }
          },
          "scene": {
           "xaxis": {
            "backgroundcolor": "#E5ECF6",
            "gridcolor": "white",
            "gridwidth": 2,
            "linecolor": "white",
            "showbackground": true,
            "ticks": "",
            "zerolinecolor": "white"
           },
           "yaxis": {
            "backgroundcolor": "#E5ECF6",
            "gridcolor": "white",
            "gridwidth": 2,
            "linecolor": "white",
            "showbackground": true,
            "ticks": "",
            "zerolinecolor": "white"
           },
           "zaxis": {
            "backgroundcolor": "#E5ECF6",
            "gridcolor": "white",
            "gridwidth": 2,
            "linecolor": "white",
            "showbackground": true,
            "ticks": "",
            "zerolinecolor": "white"
           }
          },
          "shapedefaults": {
           "line": {
            "color": "#2a3f5f"
           }
          },
          "ternary": {
           "aaxis": {
            "gridcolor": "white",
            "linecolor": "white",
            "ticks": ""
           },
           "baxis": {
            "gridcolor": "white",
            "linecolor": "white",
            "ticks": ""
           },
           "bgcolor": "#E5ECF6",
           "caxis": {
            "gridcolor": "white",
            "linecolor": "white",
            "ticks": ""
           }
          },
          "title": {
           "x": 0.05
          },
          "xaxis": {
           "automargin": true,
           "gridcolor": "white",
           "linecolor": "white",
           "ticks": "",
           "title": {
            "standoff": 15
           },
           "zerolinecolor": "white",
           "zerolinewidth": 2
          },
          "yaxis": {
           "automargin": true,
           "gridcolor": "white",
           "linecolor": "white",
           "ticks": "",
           "title": {
            "standoff": 15
           },
           "zerolinecolor": "white",
           "zerolinewidth": 2
          }
         }
        },
        "width": 1300,
        "xaxis": {
         "anchor": "y",
         "domain": [
          0,
          0.49
         ],
         "title": {
          "text": "selling_price"
         }
        },
        "xaxis2": {
         "anchor": "y2",
         "domain": [
          0.51,
          1
         ],
         "matches": "x",
         "title": {
          "text": "selling_price"
         }
        },
        "yaxis": {
         "anchor": "x",
         "domain": [
          0,
          1
         ],
         "title": {
          "text": "title"
         }
        },
        "yaxis2": {
         "anchor": "x2",
         "domain": [
          0,
          1
         ],
         "matches": "y",
         "showticklabels": false
        }
       }
      }
     },
     "metadata": {},
     "output_type": "display_data"
    }
   ],
   "source": [
    "high_selling_price_df.drop_duplicates(subset=['title'],inplace=True) #deop duplicates\n",
    "px.bar(high_selling_price_df.head(100),y='title',\n",
    "       x='selling_price',facet_col='out_of_stock',width=1300)\n"
   ]
  },
  {
   "cell_type": "code",
   "execution_count": 39,
   "metadata": {},
   "outputs": [
    {
     "data": {
      "application/vnd.plotly.v1+json": {
       "config": {
        "plotlyServerURL": "https://plot.ly"
       },
       "data": [
        {
         "hovertemplate": "out_of_stock=True<br>selling_price=%{r}<br>title=%{theta}<extra></extra>",
         "legendgroup": "True",
         "marker": {
          "color": "#636efa",
          "pattern": {
           "shape": ""
          }
         },
         "name": "True",
         "r": [
          7999,
          6399,
          6399,
          6049,
          5999,
          5498,
          5199,
          4998,
          4499
         ],
         "showlegend": true,
         "subplot": "polar",
         "theta": [
          "Solid Men Track Suit",
          "Slim Men Black Jeans",
          "Slim Men Dark Blue Jeans",
          "Full Sleeve Solid Men Padded Jacket",
          "Tapered Fit Men Blue Jeans",
          "Full Sleeve Solid Men Riding Jacket",
          "2 Piece Self Design Men Suit",
          "Full Sleeve Colorblock Men Casual Jacket",
          "Full Sleeve Solid Men Varsity Jacket"
         ],
         "type": "barpolar"
        },
        {
         "hovertemplate": "out_of_stock=False<br>selling_price=%{r}<br>title=%{theta}<extra></extra>",
         "legendgroup": "False",
         "marker": {
          "color": "#EF553B",
          "pattern": {
           "shape": ""
          }
         },
         "name": "False",
         "r": [
          7998,
          7799,
          7799,
          7794,
          6998,
          6925,
          6692,
          5998,
          5990,
          5990,
          5990,
          5843,
          5498,
          5394,
          5243,
          5243,
          5243,
          5200,
          5199,
          5199,
          5188,
          5060,
          4999,
          4998,
          4990,
          4990,
          4899,
          4783,
          4599,
          4515,
          4499,
          4499,
          4499,
          4498,
          4387
         ],
         "showlegend": true,
         "subplot": "polar",
         "theta": [
          "Checkered Single Breasted Party Men Full Sleeve Blazer  (Grey)",
          "Full Sleeve Solid Men Casual Jacket",
          "Full Sleeve Printed Men Sweatshirt",
          "Skinny Men Blue Jeans",
          "Self Design Single Breasted Party Men Full Sleeve Blazer  (Blue)",
          "Regular Fit Men Dark Blue Cotton Blend Trousers",
          "Maxx Regular Men Black Jeans",
          "Full Sleeve Solid Men Quilted Jacket",
          "Solid Men Beige Denim Shorts",
          "Solid Men Blue Denim Shorts",
          "Slim Men Blue Jeans",
          "Tapered Fit Men White Jeans",
          "Full Sleeve Solid Men Bomber Jacket",
          "Regular Men Light Blue Jeans",
          "Regular Fit Men Blue Cotton Blend Trousers",
          "Regular Fit Men Brown Cotton Blend Trousers",
          "Regular Fit Men Green Cotton Blend Trousers",
          "Mods Western Star Self Design Sherwani",
          "3 Piece Solid Men Suit",
          "2 Piece Solid Men Suit",
          "Full Sleeve Self Design Men Casual Jacket",
          "Slim Men Light Blue Jeans",
          "Full Sleeve Striped Men Bomber Jacket",
          "Full Sleeve Solid Men Jacket",
          "Solid Men Dark Blue Chino Shorts",
          "Solid Men White Chino Shorts",
          "Full Sleeve Solid Men Sports Jacket",
          "Vairavaa Tex Solid Men Dhoti",
          "Self Design Single Breasted Wedding, Casual, Party, Formal, Festive, Festive & Wedding Men Full Sleeve Blazer  (Green)",
          "Full Sleeve Solid Men Sweatshirt",
          "Solid Men Black Track Pants",
          "Full Sleeve Color Block Men Sweatshirt",
          "Sleeveless Solid Men Casual Jacket",
          "Sleeveless Solid Men Quilted Jacket",
          "SIVAA TEX Men's Pure Silk White Dhoti Men Dhoti"
         ],
         "type": "barpolar"
        }
       ],
       "layout": {
        "barmode": "relative",
        "legend": {
         "title": {
          "text": "out_of_stock"
         },
         "tracegroupgap": 0
        },
        "margin": {
         "t": 60
        },
        "polar": {
         "angularaxis": {
          "direction": "clockwise",
          "rotation": 90
         },
         "domain": {
          "x": [
           0,
           1
          ],
          "y": [
           0,
           1
          ]
         }
        },
        "template": {
         "data": {
          "bar": [
           {
            "error_x": {
             "color": "#2a3f5f"
            },
            "error_y": {
             "color": "#2a3f5f"
            },
            "marker": {
             "line": {
              "color": "#E5ECF6",
              "width": 0.5
             },
             "pattern": {
              "fillmode": "overlay",
              "size": 10,
              "solidity": 0.2
             }
            },
            "type": "bar"
           }
          ],
          "barpolar": [
           {
            "marker": {
             "line": {
              "color": "#E5ECF6",
              "width": 0.5
             },
             "pattern": {
              "fillmode": "overlay",
              "size": 10,
              "solidity": 0.2
             }
            },
            "type": "barpolar"
           }
          ],
          "carpet": [
           {
            "aaxis": {
             "endlinecolor": "#2a3f5f",
             "gridcolor": "white",
             "linecolor": "white",
             "minorgridcolor": "white",
             "startlinecolor": "#2a3f5f"
            },
            "baxis": {
             "endlinecolor": "#2a3f5f",
             "gridcolor": "white",
             "linecolor": "white",
             "minorgridcolor": "white",
             "startlinecolor": "#2a3f5f"
            },
            "type": "carpet"
           }
          ],
          "choropleth": [
           {
            "colorbar": {
             "outlinewidth": 0,
             "ticks": ""
            },
            "type": "choropleth"
           }
          ],
          "contour": [
           {
            "colorbar": {
             "outlinewidth": 0,
             "ticks": ""
            },
            "colorscale": [
             [
              0,
              "#0d0887"
             ],
             [
              0.1111111111111111,
              "#46039f"
             ],
             [
              0.2222222222222222,
              "#7201a8"
             ],
             [
              0.3333333333333333,
              "#9c179e"
             ],
             [
              0.4444444444444444,
              "#bd3786"
             ],
             [
              0.5555555555555556,
              "#d8576b"
             ],
             [
              0.6666666666666666,
              "#ed7953"
             ],
             [
              0.7777777777777778,
              "#fb9f3a"
             ],
             [
              0.8888888888888888,
              "#fdca26"
             ],
             [
              1,
              "#f0f921"
             ]
            ],
            "type": "contour"
           }
          ],
          "contourcarpet": [
           {
            "colorbar": {
             "outlinewidth": 0,
             "ticks": ""
            },
            "type": "contourcarpet"
           }
          ],
          "heatmap": [
           {
            "colorbar": {
             "outlinewidth": 0,
             "ticks": ""
            },
            "colorscale": [
             [
              0,
              "#0d0887"
             ],
             [
              0.1111111111111111,
              "#46039f"
             ],
             [
              0.2222222222222222,
              "#7201a8"
             ],
             [
              0.3333333333333333,
              "#9c179e"
             ],
             [
              0.4444444444444444,
              "#bd3786"
             ],
             [
              0.5555555555555556,
              "#d8576b"
             ],
             [
              0.6666666666666666,
              "#ed7953"
             ],
             [
              0.7777777777777778,
              "#fb9f3a"
             ],
             [
              0.8888888888888888,
              "#fdca26"
             ],
             [
              1,
              "#f0f921"
             ]
            ],
            "type": "heatmap"
           }
          ],
          "heatmapgl": [
           {
            "colorbar": {
             "outlinewidth": 0,
             "ticks": ""
            },
            "colorscale": [
             [
              0,
              "#0d0887"
             ],
             [
              0.1111111111111111,
              "#46039f"
             ],
             [
              0.2222222222222222,
              "#7201a8"
             ],
             [
              0.3333333333333333,
              "#9c179e"
             ],
             [
              0.4444444444444444,
              "#bd3786"
             ],
             [
              0.5555555555555556,
              "#d8576b"
             ],
             [
              0.6666666666666666,
              "#ed7953"
             ],
             [
              0.7777777777777778,
              "#fb9f3a"
             ],
             [
              0.8888888888888888,
              "#fdca26"
             ],
             [
              1,
              "#f0f921"
             ]
            ],
            "type": "heatmapgl"
           }
          ],
          "histogram": [
           {
            "marker": {
             "pattern": {
              "fillmode": "overlay",
              "size": 10,
              "solidity": 0.2
             }
            },
            "type": "histogram"
           }
          ],
          "histogram2d": [
           {
            "colorbar": {
             "outlinewidth": 0,
             "ticks": ""
            },
            "colorscale": [
             [
              0,
              "#0d0887"
             ],
             [
              0.1111111111111111,
              "#46039f"
             ],
             [
              0.2222222222222222,
              "#7201a8"
             ],
             [
              0.3333333333333333,
              "#9c179e"
             ],
             [
              0.4444444444444444,
              "#bd3786"
             ],
             [
              0.5555555555555556,
              "#d8576b"
             ],
             [
              0.6666666666666666,
              "#ed7953"
             ],
             [
              0.7777777777777778,
              "#fb9f3a"
             ],
             [
              0.8888888888888888,
              "#fdca26"
             ],
             [
              1,
              "#f0f921"
             ]
            ],
            "type": "histogram2d"
           }
          ],
          "histogram2dcontour": [
           {
            "colorbar": {
             "outlinewidth": 0,
             "ticks": ""
            },
            "colorscale": [
             [
              0,
              "#0d0887"
             ],
             [
              0.1111111111111111,
              "#46039f"
             ],
             [
              0.2222222222222222,
              "#7201a8"
             ],
             [
              0.3333333333333333,
              "#9c179e"
             ],
             [
              0.4444444444444444,
              "#bd3786"
             ],
             [
              0.5555555555555556,
              "#d8576b"
             ],
             [
              0.6666666666666666,
              "#ed7953"
             ],
             [
              0.7777777777777778,
              "#fb9f3a"
             ],
             [
              0.8888888888888888,
              "#fdca26"
             ],
             [
              1,
              "#f0f921"
             ]
            ],
            "type": "histogram2dcontour"
           }
          ],
          "mesh3d": [
           {
            "colorbar": {
             "outlinewidth": 0,
             "ticks": ""
            },
            "type": "mesh3d"
           }
          ],
          "parcoords": [
           {
            "line": {
             "colorbar": {
              "outlinewidth": 0,
              "ticks": ""
             }
            },
            "type": "parcoords"
           }
          ],
          "pie": [
           {
            "automargin": true,
            "type": "pie"
           }
          ],
          "scatter": [
           {
            "fillpattern": {
             "fillmode": "overlay",
             "size": 10,
             "solidity": 0.2
            },
            "type": "scatter"
           }
          ],
          "scatter3d": [
           {
            "line": {
             "colorbar": {
              "outlinewidth": 0,
              "ticks": ""
             }
            },
            "marker": {
             "colorbar": {
              "outlinewidth": 0,
              "ticks": ""
             }
            },
            "type": "scatter3d"
           }
          ],
          "scattercarpet": [
           {
            "marker": {
             "colorbar": {
              "outlinewidth": 0,
              "ticks": ""
             }
            },
            "type": "scattercarpet"
           }
          ],
          "scattergeo": [
           {
            "marker": {
             "colorbar": {
              "outlinewidth": 0,
              "ticks": ""
             }
            },
            "type": "scattergeo"
           }
          ],
          "scattergl": [
           {
            "marker": {
             "colorbar": {
              "outlinewidth": 0,
              "ticks": ""
             }
            },
            "type": "scattergl"
           }
          ],
          "scattermapbox": [
           {
            "marker": {
             "colorbar": {
              "outlinewidth": 0,
              "ticks": ""
             }
            },
            "type": "scattermapbox"
           }
          ],
          "scatterpolar": [
           {
            "marker": {
             "colorbar": {
              "outlinewidth": 0,
              "ticks": ""
             }
            },
            "type": "scatterpolar"
           }
          ],
          "scatterpolargl": [
           {
            "marker": {
             "colorbar": {
              "outlinewidth": 0,
              "ticks": ""
             }
            },
            "type": "scatterpolargl"
           }
          ],
          "scatterternary": [
           {
            "marker": {
             "colorbar": {
              "outlinewidth": 0,
              "ticks": ""
             }
            },
            "type": "scatterternary"
           }
          ],
          "surface": [
           {
            "colorbar": {
             "outlinewidth": 0,
             "ticks": ""
            },
            "colorscale": [
             [
              0,
              "#0d0887"
             ],
             [
              0.1111111111111111,
              "#46039f"
             ],
             [
              0.2222222222222222,
              "#7201a8"
             ],
             [
              0.3333333333333333,
              "#9c179e"
             ],
             [
              0.4444444444444444,
              "#bd3786"
             ],
             [
              0.5555555555555556,
              "#d8576b"
             ],
             [
              0.6666666666666666,
              "#ed7953"
             ],
             [
              0.7777777777777778,
              "#fb9f3a"
             ],
             [
              0.8888888888888888,
              "#fdca26"
             ],
             [
              1,
              "#f0f921"
             ]
            ],
            "type": "surface"
           }
          ],
          "table": [
           {
            "cells": {
             "fill": {
              "color": "#EBF0F8"
             },
             "line": {
              "color": "white"
             }
            },
            "header": {
             "fill": {
              "color": "#C8D4E3"
             },
             "line": {
              "color": "white"
             }
            },
            "type": "table"
           }
          ]
         },
         "layout": {
          "annotationdefaults": {
           "arrowcolor": "#2a3f5f",
           "arrowhead": 0,
           "arrowwidth": 1
          },
          "autotypenumbers": "strict",
          "coloraxis": {
           "colorbar": {
            "outlinewidth": 0,
            "ticks": ""
           }
          },
          "colorscale": {
           "diverging": [
            [
             0,
             "#8e0152"
            ],
            [
             0.1,
             "#c51b7d"
            ],
            [
             0.2,
             "#de77ae"
            ],
            [
             0.3,
             "#f1b6da"
            ],
            [
             0.4,
             "#fde0ef"
            ],
            [
             0.5,
             "#f7f7f7"
            ],
            [
             0.6,
             "#e6f5d0"
            ],
            [
             0.7,
             "#b8e186"
            ],
            [
             0.8,
             "#7fbc41"
            ],
            [
             0.9,
             "#4d9221"
            ],
            [
             1,
             "#276419"
            ]
           ],
           "sequential": [
            [
             0,
             "#0d0887"
            ],
            [
             0.1111111111111111,
             "#46039f"
            ],
            [
             0.2222222222222222,
             "#7201a8"
            ],
            [
             0.3333333333333333,
             "#9c179e"
            ],
            [
             0.4444444444444444,
             "#bd3786"
            ],
            [
             0.5555555555555556,
             "#d8576b"
            ],
            [
             0.6666666666666666,
             "#ed7953"
            ],
            [
             0.7777777777777778,
             "#fb9f3a"
            ],
            [
             0.8888888888888888,
             "#fdca26"
            ],
            [
             1,
             "#f0f921"
            ]
           ],
           "sequentialminus": [
            [
             0,
             "#0d0887"
            ],
            [
             0.1111111111111111,
             "#46039f"
            ],
            [
             0.2222222222222222,
             "#7201a8"
            ],
            [
             0.3333333333333333,
             "#9c179e"
            ],
            [
             0.4444444444444444,
             "#bd3786"
            ],
            [
             0.5555555555555556,
             "#d8576b"
            ],
            [
             0.6666666666666666,
             "#ed7953"
            ],
            [
             0.7777777777777778,
             "#fb9f3a"
            ],
            [
             0.8888888888888888,
             "#fdca26"
            ],
            [
             1,
             "#f0f921"
            ]
           ]
          },
          "colorway": [
           "#636efa",
           "#EF553B",
           "#00cc96",
           "#ab63fa",
           "#FFA15A",
           "#19d3f3",
           "#FF6692",
           "#B6E880",
           "#FF97FF",
           "#FECB52"
          ],
          "font": {
           "color": "#2a3f5f"
          },
          "geo": {
           "bgcolor": "white",
           "lakecolor": "white",
           "landcolor": "#E5ECF6",
           "showlakes": true,
           "showland": true,
           "subunitcolor": "white"
          },
          "hoverlabel": {
           "align": "left"
          },
          "hovermode": "closest",
          "mapbox": {
           "style": "light"
          },
          "paper_bgcolor": "white",
          "plot_bgcolor": "#E5ECF6",
          "polar": {
           "angularaxis": {
            "gridcolor": "white",
            "linecolor": "white",
            "ticks": ""
           },
           "bgcolor": "#E5ECF6",
           "radialaxis": {
            "gridcolor": "white",
            "linecolor": "white",
            "ticks": ""
           }
          },
          "scene": {
           "xaxis": {
            "backgroundcolor": "#E5ECF6",
            "gridcolor": "white",
            "gridwidth": 2,
            "linecolor": "white",
            "showbackground": true,
            "ticks": "",
            "zerolinecolor": "white"
           },
           "yaxis": {
            "backgroundcolor": "#E5ECF6",
            "gridcolor": "white",
            "gridwidth": 2,
            "linecolor": "white",
            "showbackground": true,
            "ticks": "",
            "zerolinecolor": "white"
           },
           "zaxis": {
            "backgroundcolor": "#E5ECF6",
            "gridcolor": "white",
            "gridwidth": 2,
            "linecolor": "white",
            "showbackground": true,
            "ticks": "",
            "zerolinecolor": "white"
           }
          },
          "shapedefaults": {
           "line": {
            "color": "#2a3f5f"
           }
          },
          "ternary": {
           "aaxis": {
            "gridcolor": "white",
            "linecolor": "white",
            "ticks": ""
           },
           "baxis": {
            "gridcolor": "white",
            "linecolor": "white",
            "ticks": ""
           },
           "bgcolor": "#E5ECF6",
           "caxis": {
            "gridcolor": "white",
            "linecolor": "white",
            "ticks": ""
           }
          },
          "title": {
           "x": 0.05
          },
          "xaxis": {
           "automargin": true,
           "gridcolor": "white",
           "linecolor": "white",
           "ticks": "",
           "title": {
            "standoff": 15
           },
           "zerolinecolor": "white",
           "zerolinewidth": 2
          },
          "yaxis": {
           "automargin": true,
           "gridcolor": "white",
           "linecolor": "white",
           "ticks": "",
           "title": {
            "standoff": 15
           },
           "zerolinecolor": "white",
           "zerolinewidth": 2
          }
         }
        },
        "width": 1300
       }
      }
     },
     "metadata": {},
     "output_type": "display_data"
    }
   ],
   "source": [
    "px.bar_polar(high_selling_price_df.head(100),r='selling_price',\n",
    "             theta='title',color='out_of_stock',width=1300)"
   ]
  },
  {
   "cell_type": "code",
   "execution_count": 40,
   "metadata": {},
   "outputs": [
    {
     "data": {
      "application/vnd.plotly.v1+json": {
       "config": {
        "plotlyServerURL": "https://plot.ly"
       },
       "data": [
        {
         "hovertemplate": "out_of_stock=True<br>selling_price=%{x}<br>discount=%{y}<extra></extra>",
         "legendgroup": "True",
         "marker": {
          "color": "#636efa",
          "symbol": "circle"
         },
         "mode": "markers",
         "name": "True",
         "orientation": "v",
         "showlegend": true,
         "type": "scatter",
         "x": [
          7999,
          6399,
          6399,
          6049,
          5999,
          5498,
          5199,
          4998,
          4499
         ],
         "xaxis": "x",
         "y": [
          20,
          20,
          20,
          45,
          null,
          null,
          60,
          null,
          null
         ],
         "yaxis": "y"
        },
        {
         "hovertemplate": "out_of_stock=False<br>selling_price=%{x}<br>discount=%{y}<extra></extra>",
         "legendgroup": "False",
         "marker": {
          "color": "#EF553B",
          "symbol": "circle"
         },
         "mode": "markers",
         "name": "False",
         "orientation": "v",
         "showlegend": true,
         "type": "scatter",
         "x": [
          7998,
          7799,
          7799,
          7794,
          6998,
          6925,
          6692,
          5998,
          5990,
          5990,
          5990,
          5843,
          5498,
          5394,
          5243,
          5243,
          5243,
          5200,
          5199,
          5199,
          5188,
          5060,
          4999,
          4998,
          4990,
          4990,
          4899,
          4783,
          4599,
          4515,
          4499,
          4499,
          4499,
          4498,
          4387
         ],
         "xaxis": "x",
         "y": [
          null,
          40,
          40,
          40,
          null,
          36,
          39,
          null,
          null,
          null,
          null,
          35,
          null,
          40,
          24,
          24,
          24,
          20,
          60,
          60,
          52,
          43,
          9,
          null,
          null,
          null,
          30,
          41,
          46,
          43,
          null,
          45,
          35,
          null,
          12
         ],
         "yaxis": "y"
        }
       ],
       "layout": {
        "legend": {
         "title": {
          "text": "out_of_stock"
         },
         "tracegroupgap": 0
        },
        "margin": {
         "t": 60
        },
        "template": {
         "data": {
          "bar": [
           {
            "error_x": {
             "color": "#2a3f5f"
            },
            "error_y": {
             "color": "#2a3f5f"
            },
            "marker": {
             "line": {
              "color": "#E5ECF6",
              "width": 0.5
             },
             "pattern": {
              "fillmode": "overlay",
              "size": 10,
              "solidity": 0.2
             }
            },
            "type": "bar"
           }
          ],
          "barpolar": [
           {
            "marker": {
             "line": {
              "color": "#E5ECF6",
              "width": 0.5
             },
             "pattern": {
              "fillmode": "overlay",
              "size": 10,
              "solidity": 0.2
             }
            },
            "type": "barpolar"
           }
          ],
          "carpet": [
           {
            "aaxis": {
             "endlinecolor": "#2a3f5f",
             "gridcolor": "white",
             "linecolor": "white",
             "minorgridcolor": "white",
             "startlinecolor": "#2a3f5f"
            },
            "baxis": {
             "endlinecolor": "#2a3f5f",
             "gridcolor": "white",
             "linecolor": "white",
             "minorgridcolor": "white",
             "startlinecolor": "#2a3f5f"
            },
            "type": "carpet"
           }
          ],
          "choropleth": [
           {
            "colorbar": {
             "outlinewidth": 0,
             "ticks": ""
            },
            "type": "choropleth"
           }
          ],
          "contour": [
           {
            "colorbar": {
             "outlinewidth": 0,
             "ticks": ""
            },
            "colorscale": [
             [
              0,
              "#0d0887"
             ],
             [
              0.1111111111111111,
              "#46039f"
             ],
             [
              0.2222222222222222,
              "#7201a8"
             ],
             [
              0.3333333333333333,
              "#9c179e"
             ],
             [
              0.4444444444444444,
              "#bd3786"
             ],
             [
              0.5555555555555556,
              "#d8576b"
             ],
             [
              0.6666666666666666,
              "#ed7953"
             ],
             [
              0.7777777777777778,
              "#fb9f3a"
             ],
             [
              0.8888888888888888,
              "#fdca26"
             ],
             [
              1,
              "#f0f921"
             ]
            ],
            "type": "contour"
           }
          ],
          "contourcarpet": [
           {
            "colorbar": {
             "outlinewidth": 0,
             "ticks": ""
            },
            "type": "contourcarpet"
           }
          ],
          "heatmap": [
           {
            "colorbar": {
             "outlinewidth": 0,
             "ticks": ""
            },
            "colorscale": [
             [
              0,
              "#0d0887"
             ],
             [
              0.1111111111111111,
              "#46039f"
             ],
             [
              0.2222222222222222,
              "#7201a8"
             ],
             [
              0.3333333333333333,
              "#9c179e"
             ],
             [
              0.4444444444444444,
              "#bd3786"
             ],
             [
              0.5555555555555556,
              "#d8576b"
             ],
             [
              0.6666666666666666,
              "#ed7953"
             ],
             [
              0.7777777777777778,
              "#fb9f3a"
             ],
             [
              0.8888888888888888,
              "#fdca26"
             ],
             [
              1,
              "#f0f921"
             ]
            ],
            "type": "heatmap"
           }
          ],
          "heatmapgl": [
           {
            "colorbar": {
             "outlinewidth": 0,
             "ticks": ""
            },
            "colorscale": [
             [
              0,
              "#0d0887"
             ],
             [
              0.1111111111111111,
              "#46039f"
             ],
             [
              0.2222222222222222,
              "#7201a8"
             ],
             [
              0.3333333333333333,
              "#9c179e"
             ],
             [
              0.4444444444444444,
              "#bd3786"
             ],
             [
              0.5555555555555556,
              "#d8576b"
             ],
             [
              0.6666666666666666,
              "#ed7953"
             ],
             [
              0.7777777777777778,
              "#fb9f3a"
             ],
             [
              0.8888888888888888,
              "#fdca26"
             ],
             [
              1,
              "#f0f921"
             ]
            ],
            "type": "heatmapgl"
           }
          ],
          "histogram": [
           {
            "marker": {
             "pattern": {
              "fillmode": "overlay",
              "size": 10,
              "solidity": 0.2
             }
            },
            "type": "histogram"
           }
          ],
          "histogram2d": [
           {
            "colorbar": {
             "outlinewidth": 0,
             "ticks": ""
            },
            "colorscale": [
             [
              0,
              "#0d0887"
             ],
             [
              0.1111111111111111,
              "#46039f"
             ],
             [
              0.2222222222222222,
              "#7201a8"
             ],
             [
              0.3333333333333333,
              "#9c179e"
             ],
             [
              0.4444444444444444,
              "#bd3786"
             ],
             [
              0.5555555555555556,
              "#d8576b"
             ],
             [
              0.6666666666666666,
              "#ed7953"
             ],
             [
              0.7777777777777778,
              "#fb9f3a"
             ],
             [
              0.8888888888888888,
              "#fdca26"
             ],
             [
              1,
              "#f0f921"
             ]
            ],
            "type": "histogram2d"
           }
          ],
          "histogram2dcontour": [
           {
            "colorbar": {
             "outlinewidth": 0,
             "ticks": ""
            },
            "colorscale": [
             [
              0,
              "#0d0887"
             ],
             [
              0.1111111111111111,
              "#46039f"
             ],
             [
              0.2222222222222222,
              "#7201a8"
             ],
             [
              0.3333333333333333,
              "#9c179e"
             ],
             [
              0.4444444444444444,
              "#bd3786"
             ],
             [
              0.5555555555555556,
              "#d8576b"
             ],
             [
              0.6666666666666666,
              "#ed7953"
             ],
             [
              0.7777777777777778,
              "#fb9f3a"
             ],
             [
              0.8888888888888888,
              "#fdca26"
             ],
             [
              1,
              "#f0f921"
             ]
            ],
            "type": "histogram2dcontour"
           }
          ],
          "mesh3d": [
           {
            "colorbar": {
             "outlinewidth": 0,
             "ticks": ""
            },
            "type": "mesh3d"
           }
          ],
          "parcoords": [
           {
            "line": {
             "colorbar": {
              "outlinewidth": 0,
              "ticks": ""
             }
            },
            "type": "parcoords"
           }
          ],
          "pie": [
           {
            "automargin": true,
            "type": "pie"
           }
          ],
          "scatter": [
           {
            "fillpattern": {
             "fillmode": "overlay",
             "size": 10,
             "solidity": 0.2
            },
            "type": "scatter"
           }
          ],
          "scatter3d": [
           {
            "line": {
             "colorbar": {
              "outlinewidth": 0,
              "ticks": ""
             }
            },
            "marker": {
             "colorbar": {
              "outlinewidth": 0,
              "ticks": ""
             }
            },
            "type": "scatter3d"
           }
          ],
          "scattercarpet": [
           {
            "marker": {
             "colorbar": {
              "outlinewidth": 0,
              "ticks": ""
             }
            },
            "type": "scattercarpet"
           }
          ],
          "scattergeo": [
           {
            "marker": {
             "colorbar": {
              "outlinewidth": 0,
              "ticks": ""
             }
            },
            "type": "scattergeo"
           }
          ],
          "scattergl": [
           {
            "marker": {
             "colorbar": {
              "outlinewidth": 0,
              "ticks": ""
             }
            },
            "type": "scattergl"
           }
          ],
          "scattermapbox": [
           {
            "marker": {
             "colorbar": {
              "outlinewidth": 0,
              "ticks": ""
             }
            },
            "type": "scattermapbox"
           }
          ],
          "scatterpolar": [
           {
            "marker": {
             "colorbar": {
              "outlinewidth": 0,
              "ticks": ""
             }
            },
            "type": "scatterpolar"
           }
          ],
          "scatterpolargl": [
           {
            "marker": {
             "colorbar": {
              "outlinewidth": 0,
              "ticks": ""
             }
            },
            "type": "scatterpolargl"
           }
          ],
          "scatterternary": [
           {
            "marker": {
             "colorbar": {
              "outlinewidth": 0,
              "ticks": ""
             }
            },
            "type": "scatterternary"
           }
          ],
          "surface": [
           {
            "colorbar": {
             "outlinewidth": 0,
             "ticks": ""
            },
            "colorscale": [
             [
              0,
              "#0d0887"
             ],
             [
              0.1111111111111111,
              "#46039f"
             ],
             [
              0.2222222222222222,
              "#7201a8"
             ],
             [
              0.3333333333333333,
              "#9c179e"
             ],
             [
              0.4444444444444444,
              "#bd3786"
             ],
             [
              0.5555555555555556,
              "#d8576b"
             ],
             [
              0.6666666666666666,
              "#ed7953"
             ],
             [
              0.7777777777777778,
              "#fb9f3a"
             ],
             [
              0.8888888888888888,
              "#fdca26"
             ],
             [
              1,
              "#f0f921"
             ]
            ],
            "type": "surface"
           }
          ],
          "table": [
           {
            "cells": {
             "fill": {
              "color": "#EBF0F8"
             },
             "line": {
              "color": "white"
             }
            },
            "header": {
             "fill": {
              "color": "#C8D4E3"
             },
             "line": {
              "color": "white"
             }
            },
            "type": "table"
           }
          ]
         },
         "layout": {
          "annotationdefaults": {
           "arrowcolor": "#2a3f5f",
           "arrowhead": 0,
           "arrowwidth": 1
          },
          "autotypenumbers": "strict",
          "coloraxis": {
           "colorbar": {
            "outlinewidth": 0,
            "ticks": ""
           }
          },
          "colorscale": {
           "diverging": [
            [
             0,
             "#8e0152"
            ],
            [
             0.1,
             "#c51b7d"
            ],
            [
             0.2,
             "#de77ae"
            ],
            [
             0.3,
             "#f1b6da"
            ],
            [
             0.4,
             "#fde0ef"
            ],
            [
             0.5,
             "#f7f7f7"
            ],
            [
             0.6,
             "#e6f5d0"
            ],
            [
             0.7,
             "#b8e186"
            ],
            [
             0.8,
             "#7fbc41"
            ],
            [
             0.9,
             "#4d9221"
            ],
            [
             1,
             "#276419"
            ]
           ],
           "sequential": [
            [
             0,
             "#0d0887"
            ],
            [
             0.1111111111111111,
             "#46039f"
            ],
            [
             0.2222222222222222,
             "#7201a8"
            ],
            [
             0.3333333333333333,
             "#9c179e"
            ],
            [
             0.4444444444444444,
             "#bd3786"
            ],
            [
             0.5555555555555556,
             "#d8576b"
            ],
            [
             0.6666666666666666,
             "#ed7953"
            ],
            [
             0.7777777777777778,
             "#fb9f3a"
            ],
            [
             0.8888888888888888,
             "#fdca26"
            ],
            [
             1,
             "#f0f921"
            ]
           ],
           "sequentialminus": [
            [
             0,
             "#0d0887"
            ],
            [
             0.1111111111111111,
             "#46039f"
            ],
            [
             0.2222222222222222,
             "#7201a8"
            ],
            [
             0.3333333333333333,
             "#9c179e"
            ],
            [
             0.4444444444444444,
             "#bd3786"
            ],
            [
             0.5555555555555556,
             "#d8576b"
            ],
            [
             0.6666666666666666,
             "#ed7953"
            ],
            [
             0.7777777777777778,
             "#fb9f3a"
            ],
            [
             0.8888888888888888,
             "#fdca26"
            ],
            [
             1,
             "#f0f921"
            ]
           ]
          },
          "colorway": [
           "#636efa",
           "#EF553B",
           "#00cc96",
           "#ab63fa",
           "#FFA15A",
           "#19d3f3",
           "#FF6692",
           "#B6E880",
           "#FF97FF",
           "#FECB52"
          ],
          "font": {
           "color": "#2a3f5f"
          },
          "geo": {
           "bgcolor": "white",
           "lakecolor": "white",
           "landcolor": "#E5ECF6",
           "showlakes": true,
           "showland": true,
           "subunitcolor": "white"
          },
          "hoverlabel": {
           "align": "left"
          },
          "hovermode": "closest",
          "mapbox": {
           "style": "light"
          },
          "paper_bgcolor": "white",
          "plot_bgcolor": "#E5ECF6",
          "polar": {
           "angularaxis": {
            "gridcolor": "white",
            "linecolor": "white",
            "ticks": ""
           },
           "bgcolor": "#E5ECF6",
           "radialaxis": {
            "gridcolor": "white",
            "linecolor": "white",
            "ticks": ""
           }
          },
          "scene": {
           "xaxis": {
            "backgroundcolor": "#E5ECF6",
            "gridcolor": "white",
            "gridwidth": 2,
            "linecolor": "white",
            "showbackground": true,
            "ticks": "",
            "zerolinecolor": "white"
           },
           "yaxis": {
            "backgroundcolor": "#E5ECF6",
            "gridcolor": "white",
            "gridwidth": 2,
            "linecolor": "white",
            "showbackground": true,
            "ticks": "",
            "zerolinecolor": "white"
           },
           "zaxis": {
            "backgroundcolor": "#E5ECF6",
            "gridcolor": "white",
            "gridwidth": 2,
            "linecolor": "white",
            "showbackground": true,
            "ticks": "",
            "zerolinecolor": "white"
           }
          },
          "shapedefaults": {
           "line": {
            "color": "#2a3f5f"
           }
          },
          "ternary": {
           "aaxis": {
            "gridcolor": "white",
            "linecolor": "white",
            "ticks": ""
           },
           "baxis": {
            "gridcolor": "white",
            "linecolor": "white",
            "ticks": ""
           },
           "bgcolor": "#E5ECF6",
           "caxis": {
            "gridcolor": "white",
            "linecolor": "white",
            "ticks": ""
           }
          },
          "title": {
           "x": 0.05
          },
          "xaxis": {
           "automargin": true,
           "gridcolor": "white",
           "linecolor": "white",
           "ticks": "",
           "title": {
            "standoff": 15
           },
           "zerolinecolor": "white",
           "zerolinewidth": 2
          },
          "yaxis": {
           "automargin": true,
           "gridcolor": "white",
           "linecolor": "white",
           "ticks": "",
           "title": {
            "standoff": 15
           },
           "zerolinecolor": "white",
           "zerolinewidth": 2
          }
         }
        },
        "xaxis": {
         "anchor": "y",
         "domain": [
          0,
          1
         ],
         "title": {
          "text": "selling_price"
         }
        },
        "yaxis": {
         "anchor": "x",
         "domain": [
          0,
          1
         ],
         "title": {
          "text": "discount"
         }
        }
       }
      }
     },
     "metadata": {},
     "output_type": "display_data"
    }
   ],
   "source": [
    "px.scatter(high_selling_price_df,x='selling_price',y='discount',color='out_of_stock')"
   ]
  },
  {
   "cell_type": "code",
   "execution_count": null,
   "metadata": {},
   "outputs": [],
   "source": []
  }
 ],
 "metadata": {
  "kernelspec": {
   "display_name": "base",
   "language": "python",
   "name": "python3"
  },
  "language_info": {
   "codemirror_mode": {
    "name": "ipython",
    "version": 3
   },
   "file_extension": ".py",
   "mimetype": "text/x-python",
   "name": "python",
   "nbconvert_exporter": "python",
   "pygments_lexer": "ipython3",
   "version": "3.10.10"
  },
  "orig_nbformat": 4
 },
 "nbformat": 4,
 "nbformat_minor": 2
}
