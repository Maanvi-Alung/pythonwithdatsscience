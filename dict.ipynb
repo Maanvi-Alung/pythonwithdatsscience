{
 "cells": [
  {
   "attachments": {},
   "cell_type": "markdown",
   "metadata": {},
   "source": [
    "##dictionary\n",
    "    -ordered\n",
    "    -mutable\n",
    "    -key value pairs\n",
    "        -key: immutable and unique\n",
    "        -value:mutable or immutable and of any data type and can be duplicated\n",
    "    -unindexed\n",
    "    -dict() that can take key value paie as argument    "
   ]
  },
  {
   "cell_type": "code",
   "execution_count": 1,
   "metadata": {},
   "outputs": [],
   "source": [
    "#create dict\n",
    "fruits={\"apples\":2,\"oranges\":3, \"banana\":4}"
   ]
  },
  {
   "cell_type": "code",
   "execution_count": 2,
   "metadata": {},
   "outputs": [],
   "source": [
    "grocery={\n",
    "    'fruits':['apple','banana','oranges'],\n",
    "    'vegetables':[\"carrot\",\"onion\"],\n",
    "    'dairy':['milk','yogurt'],\n",
    "    'meat':None\n",
    "}"
   ]
  },
  {
   "cell_type": "code",
   "execution_count": 3,
   "metadata": {},
   "outputs": [
    {
     "name": "stdout",
     "output_type": "stream",
     "text": [
      "{'apples': 2, 'oranges': 3, 'banana': 4}\n",
      "{'fruits': ['apple', 'banana', 'oranges'], 'vegetables': ['carrot', 'onion'], 'dairy': ['milk', 'yogurt'], 'meat': None}\n"
     ]
    }
   ],
   "source": [
    "print(fruits)\n",
    "print(grocery)"
   ]
  },
  {
   "cell_type": "code",
   "execution_count": 4,
   "metadata": {},
   "outputs": [],
   "source": [
    "from pprint import pp"
   ]
  },
  {
   "cell_type": "code",
   "execution_count": 6,
   "metadata": {},
   "outputs": [
    {
     "name": "stdout",
     "output_type": "stream",
     "text": [
      "{'apples': 2, 'oranges': 3, 'banana': 4}\n",
      "{'fruits': ['apple', 'banana', 'oranges'],\n",
      " 'vegetables': ['carrot', 'onion'],\n",
      " 'dairy': ['milk', 'yogurt'],\n",
      " 'meat': None}\n"
     ]
    }
   ],
   "source": [
    "pp(fruits)\n",
    "pp(grocery)"
   ]
  },
  {
   "cell_type": "code",
   "execution_count": 7,
   "metadata": {},
   "outputs": [
    {
     "data": {
      "text/plain": [
       "{'apples': 2, 'oranges': 3, 'banana': 4}"
      ]
     },
     "execution_count": 7,
     "metadata": {},
     "output_type": "execute_result"
    }
   ],
   "source": [
    "fruits"
   ]
  },
  {
   "cell_type": "code",
   "execution_count": 8,
   "metadata": {},
   "outputs": [
    {
     "data": {
      "text/plain": [
       "2"
      ]
     },
     "execution_count": 8,
     "metadata": {},
     "output_type": "execute_result"
    }
   ],
   "source": [
    "fruits['apples']"
   ]
  },
  {
   "cell_type": "code",
   "execution_count": 9,
   "metadata": {},
   "outputs": [
    {
     "name": "stdout",
     "output_type": "stream",
     "text": [
      "{'apples': 10, 'oranges': 3, 'banana': 4}\n"
     ]
    }
   ],
   "source": [
    "#update\n",
    "fruits['apples']=10\n",
    "pp(fruits)"
   ]
  },
  {
   "cell_type": "code",
   "execution_count": 10,
   "metadata": {},
   "outputs": [
    {
     "name": "stdout",
     "output_type": "stream",
     "text": [
      "{'apples': 10, 'oranges': 3, 'banana': 4, 'mango': 25}\n"
     ]
    }
   ],
   "source": [
    "# add new key\n",
    "fruits['mango']=25\n",
    "pp(fruits)"
   ]
  },
  {
   "cell_type": "code",
   "execution_count": 11,
   "metadata": {},
   "outputs": [
    {
     "name": "stdout",
     "output_type": "stream",
     "text": [
      "{'fruits': ['apple', 'banana', 'oranges'],\n",
      " 'vegetables': ['carrot', 'onion'],\n",
      " 'dairy': ['milk', 'yogurt'],\n",
      " 'meat': None,\n",
      " 'spices': ['cumin', 'coriander', 'turmeric']}\n"
     ]
    }
   ],
   "source": [
    "grocery['spices']=['cumin','coriander','turmeric']\n",
    "pp(grocery)"
   ]
  },
  {
   "cell_type": "code",
   "execution_count": 17,
   "metadata": {},
   "outputs": [
    {
     "name": "stdout",
     "output_type": "stream",
     "text": [
      "{'fruits': ['apple', 'banana', 'oranges', 'mango', 'kiwi'],\n",
      " 'vegetables': ['carrot', 'onion'],\n",
      " 'dairy': ['milk', 'yogurt'],\n",
      " 'meat': None,\n",
      " 'spices': ['cumin', 'coriander', 'turmeric']}\n"
     ]
    }
   ],
   "source": [
    "grocery['fruits'].append(\"kiwi\")\n",
    "pp(grocery)"
   ]
  },
  {
   "cell_type": "code",
   "execution_count": null,
   "metadata": {},
   "outputs": [],
   "source": [
    "#for adding item in sub dict\n",
    "#report[rajesh][evs]=99"
   ]
  },
  {
   "cell_type": "code",
   "execution_count": 19,
   "metadata": {},
   "outputs": [],
   "source": [
    "report={\n",
    "    'rajesh':\n",
    "        {'maths':10,\n",
    "         'science':37,\n",
    "         'english':20},\n",
    "    'suresh':{\n",
    "        'maths':34,\n",
    "        'science':12,\n",
    "        'english':45}}\n"
   ]
  },
  {
   "cell_type": "code",
   "execution_count": 22,
   "metadata": {},
   "outputs": [
    {
     "name": "stdout",
     "output_type": "stream",
     "text": [
      "{'rajesh': {'maths': 10, 'science': 37, 'english': 20, 'evs': 99},\n",
      " 'suresh': {'maths': 34, 'science': 12, 'english': 45}}\n"
     ]
    }
   ],
   "source": [
    "#for adding item in sub dict\n",
    "report['rajesh']['evs']=99\n",
    "pp(report)"
   ]
  },
  {
   "cell_type": "code",
   "execution_count": 23,
   "metadata": {},
   "outputs": [
    {
     "data": {
      "text/plain": [
       "{'maths': 10, 'science': 37, 'english': 20, 'evs': 99}"
      ]
     },
     "execution_count": 23,
     "metadata": {},
     "output_type": "execute_result"
    }
   ],
   "source": [
    "report.pop('rajesh')"
   ]
  },
  {
   "cell_type": "code",
   "execution_count": 24,
   "metadata": {},
   "outputs": [
    {
     "data": {
      "text/plain": [
       "{'suresh': {'maths': 34, 'science': 12, 'english': 45}}"
      ]
     },
     "execution_count": 24,
     "metadata": {},
     "output_type": "execute_result"
    }
   ],
   "source": [
    "report"
   ]
  },
  {
   "cell_type": "code",
   "execution_count": 25,
   "metadata": {},
   "outputs": [
    {
     "data": {
      "text/plain": [
       "dict_keys(['apples', 'oranges', 'banana', 'mango'])"
      ]
     },
     "execution_count": 25,
     "metadata": {},
     "output_type": "execute_result"
    }
   ],
   "source": [
    "fruits.keys()"
   ]
  },
  {
   "cell_type": "code",
   "execution_count": 26,
   "metadata": {},
   "outputs": [],
   "source": [
    "grocery['vegetables'].remove('onion')"
   ]
  },
  {
   "cell_type": "code",
   "execution_count": 27,
   "metadata": {},
   "outputs": [
    {
     "data": {
      "text/plain": [
       "{'fruits': ['apple', 'banana', 'oranges', 'mango', 'kiwi'],\n",
       " 'vegetables': ['carrot'],\n",
       " 'dairy': ['milk', 'yogurt'],\n",
       " 'meat': None,\n",
       " 'spices': ['cumin', 'coriander', 'turmeric']}"
      ]
     },
     "execution_count": 27,
     "metadata": {},
     "output_type": "execute_result"
    }
   ],
   "source": [
    "grocery"
   ]
  },
  {
   "cell_type": "code",
   "execution_count": 28,
   "metadata": {},
   "outputs": [
    {
     "data": {
      "text/plain": [
       "dict_values([10, 3, 4, 25])"
      ]
     },
     "execution_count": 28,
     "metadata": {},
     "output_type": "execute_result"
    }
   ],
   "source": [
    "fruits.values()"
   ]
  },
  {
   "cell_type": "code",
   "execution_count": 29,
   "metadata": {},
   "outputs": [
    {
     "data": {
      "text/plain": [
       "dict_items([('apples', 10), ('oranges', 3), ('banana', 4), ('mango', 25)])"
      ]
     },
     "execution_count": 29,
     "metadata": {},
     "output_type": "execute_result"
    }
   ],
   "source": [
    "fruits.items()"
   ]
  },
  {
   "cell_type": "code",
   "execution_count": 30,
   "metadata": {},
   "outputs": [
    {
     "name": "stdout",
     "output_type": "stream",
     "text": [
      "apples 10\n",
      "oranges 3\n",
      "banana 4\n",
      "mango 25\n"
     ]
    }
   ],
   "source": [
    "#traversal\n",
    "for k,v in fruits.items():\n",
    "    print(k,v)"
   ]
  },
  {
   "cell_type": "code",
   "execution_count": 31,
   "metadata": {},
   "outputs": [
    {
     "data": {
      "text/plain": [
       "{'maths': 34, 'science': 12, 'english': 45}"
      ]
     },
     "execution_count": 31,
     "metadata": {},
     "output_type": "execute_result"
    }
   ],
   "source": [
    "report.get('suresh')"
   ]
  },
  {
   "cell_type": "code",
   "execution_count": 32,
   "metadata": {},
   "outputs": [
    {
     "data": {
      "text/plain": [
       "'student not found'"
      ]
     },
     "execution_count": 32,
     "metadata": {},
     "output_type": "execute_result"
    }
   ],
   "source": [
    "report.get('ramesh','student not found')"
   ]
  },
  {
   "cell_type": "code",
   "execution_count": 34,
   "metadata": {},
   "outputs": [
    {
     "name": "stdout",
     "output_type": "stream",
     "text": [
      "{'suresh': {'maths': 34, 'science': 12, 'english': 45},\n",
      " 'sunita': {'english': 90, 'science': 80, 'maths': 90}}\n"
     ]
    }
   ],
   "source": [
    "report['sunita']={\n",
    "    'english':90,\n",
    "    'science':80,\n",
    "    'maths':90\n",
    "}\n",
    "pp(report)"
   ]
  },
  {
   "cell_type": "code",
   "execution_count": 36,
   "metadata": {},
   "outputs": [
    {
     "name": "stdout",
     "output_type": "stream",
     "text": [
      "suresh\n",
      "34 in maths\n",
      "12 in science\n",
      "45 in english\n",
      "------------------------------\n",
      "sunita\n",
      "90 in english\n",
      "80 in science\n",
      "90 in maths\n",
      "------------------------------\n"
     ]
    }
   ],
   "source": [
    "for student,detail in report.items():\n",
    "    print(student)\n",
    "    for subject, marks in detail.items():\n",
    "        print(f'{marks} in {subject}')\n",
    "    print('------'*5)    "
   ]
  },
  {
   "attachments": {},
   "cell_type": "markdown",
   "metadata": {},
   "source": [
    "# create a dict with 5 employees with details\n",
    "    -name\n",
    "    -department\n",
    "    -salary\n",
    "    -skills(list)\n",
    "        -project name\n",
    "        -project duration\n",
    "        -project technology(list)"
   ]
  },
  {
   "cell_type": "code",
   "execution_count": null,
   "metadata": {},
   "outputs": [],
   "source": [
    "employee={\n",
    "    'e1':{'name':'ramesh',\n",
    "          'department': 'managaement',\n",
    "          'salary':21000,\n",
    "          'skills':['communication','mangement'],\n",
    "          'projects':{\n",
    "              'p1':{\n",
    "                  'project_name':'HRMS',\n",
    "                  'project_duration':6,\n",
    "                  'project_technology':['excel','power bi','powerpoint']\n",
    "              },\n",
    "          }\n",
    "    },\n",
    "    'e2':{'name':'suresh',\n",
    "          'department': 'IT',\n",
    "          'salary':21000,\n",
    "          'skills':['communication','Leadership'],\n",
    "          'projects':{\n",
    "              'p1':{\n",
    "                  'project_name':'AI',\n",
    "                  'project_duration':4,\n",
    "                  'project_technology':['excel','power bi','powerpoint']\n",
    "              },\n",
    "          }\n",
    "    },\n",
    "    'e3':{'name':'rohan',\n",
    "          'department': 'managaement',\n",
    "          'salary':29000,\n",
    "          'skills':['communication','mangement'],\n",
    "          'projects':{\n",
    "              'p1':{\n",
    "                  'project_name':'HRMS',\n",
    "                  'project_duration':2,\n",
    "                  'project_technology':['excel','power bi','powerpoint']\n",
    "              },\n",
    "          }\n",
    "    },\n",
    "    'e4':{'name':'ajay',\n",
    "          'department': 'IT',\n",
    "          'salary':30000,\n",
    "          'skills':['communication','mangement'],\n",
    "          'projects':{\n",
    "              'p1':{\n",
    "                  'project_name':'graohic designing',\n",
    "                  'project_duration':6,\n",
    "                  'project_technology':['excel','power bi','powerpoint','adobe']\n",
    "              },\n",
    "          }\n",
    "    },\n",
    "    'e5':{'name':'abhay',\n",
    "          'department': 'it',\n",
    "          'salary':31000,\n",
    "          'skills':['communication','mangement','Leadership'],\n",
    "          'projects':{\n",
    "              'p1':{\n",
    "                  'project_name':'web d',\n",
    "                  'project_duration':7,\n",
    "                  'project_technology':['excel','power bi','powerpoint','html','css','javascript']\n",
    "              },\n",
    "          }\n",
    "    }\n",
    "}"
   ]
  }
 ],
 "metadata": {
  "kernelspec": {
   "display_name": "base",
   "language": "python",
   "name": "python3"
  },
  "language_info": {
   "codemirror_mode": {
    "name": "ipython",
    "version": 3
   },
   "file_extension": ".py",
   "mimetype": "text/x-python",
   "name": "python",
   "nbconvert_exporter": "python",
   "pygments_lexer": "ipython3",
   "version": "3.10.10"
  },
  "orig_nbformat": 4
 },
 "nbformat": 4,
 "nbformat_minor": 2
}
