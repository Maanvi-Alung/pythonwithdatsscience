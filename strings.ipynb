{
 "cells": [
  {
   "attachments": {},
   "cell_type": "markdown",
   "metadata": {},
   "source": [
    "# string\n",
    "-create\n",
    "-indexing\n",
    "-sclicing\n",
    "-methods\n"
   ]
  },
  {
   "cell_type": "code",
   "execution_count": 2,
   "metadata": {},
   "outputs": [],
   "source": [
    "a='string'\n",
    "b=\"string\"\n",
    "c='''multiline\n",
    "string'''\n",
    "d=b'byte string'\n",
    "e=u'unicode string'\n",
    "f=r'raw string'\n",
    "g=u'change \\n line'\n",
    "h=r'do not follow \\n python'"
   ]
  },
  {
   "cell_type": "code",
   "execution_count": 3,
   "metadata": {},
   "outputs": [
    {
     "name": "stdout",
     "output_type": "stream",
     "text": [
      "b'byte string'\n",
      "unicode string\n",
      "raw string\n",
      "change \n",
      " line\n",
      "do not follow \\n python\n"
     ]
    }
   ],
   "source": [
    "print(d)\n",
    "print(e)\n",
    "print(f)\n",
    "print(g)\n",
    "print(h)"
   ]
  },
  {
   "cell_type": "code",
   "execution_count": 5,
   "metadata": {},
   "outputs": [
    {
     "name": "stdout",
     "output_type": "stream",
     "text": [
      "C:\\Users\\Dell\\Documents\\New folder\\basic.ipynb\n"
     ]
    }
   ],
   "source": [
    "path=r'C:\\Users\\Dell\\Documents\\New folder\\basic.ipynb'\n",
    "print(path)"
   ]
  },
  {
   "cell_type": "code",
   "execution_count": 7,
   "metadata": {},
   "outputs": [
    {
     "name": "stdout",
     "output_type": "stream",
     "text": [
      "10\n"
     ]
    }
   ],
   "source": [
    "#typecasting\n",
    "x=10\n",
    "x=str(x)\n",
    "print(x)"
   ]
  },
  {
   "cell_type": "markdown",
   "metadata": {},
   "source": [
    "-string is sequence of character\n",
    "-string is immutable\n",
    "-orered data\n",
    "-accepts indexing and sclicing\n",
    "\n"
   ]
  },
  {
   "cell_type": "code",
   "execution_count": 1,
   "metadata": {},
   "outputs": [
    {
     "name": "stdout",
     "output_type": "stream",
     "text": [
      "str[0]= d\n",
      "str[1]= i\n",
      "str[-1]= m\n",
      "str[-2]= u\n"
     ]
    }
   ],
   "source": [
    "str='digipodium'\n",
    "print('str[0]=',str[0])\n",
    "print('str[1]=',str[1])\n",
    "print('str[-1]=',str[-1])\n",
    "print('str[-2]=',str[-2])"
   ]
  },
  {
   "cell_type": "code",
   "execution_count": 2,
   "metadata": {},
   "outputs": [
    {
     "name": "stdout",
     "output_type": "stream",
     "text": [
      "pod\n"
     ]
    }
   ],
   "source": [
    "slice1=str[4:7]\n",
    "print(slice1)"
   ]
  },
  {
   "cell_type": "code",
   "execution_count": 5,
   "metadata": {},
   "outputs": [
    {
     "name": "stdout",
     "output_type": "stream",
     "text": [
      "Vijay\n"
     ]
    }
   ],
   "source": [
    "name='Vijay Deenanath Chauhan'\n",
    "s=name[:5]\n",
    "print(s)"
   ]
  },
  {
   "cell_type": "code",
   "execution_count": 10,
   "metadata": {},
   "outputs": [
    {
     "name": "stdout",
     "output_type": "stream",
     "text": [
      "Chauhan\n",
      "Chauhan\n"
     ]
    }
   ],
   "source": [
    "p=name[16:23]\n",
    "#or\n",
    "q=name[-7:]\n",
    "print(p)\n",
    "print(q)"
   ]
  },
  {
   "cell_type": "code",
   "execution_count": 12,
   "metadata": {},
   "outputs": [
    {
     "data": {
      "text/plain": [
       "'VjyDeaahCahn'"
      ]
     },
     "execution_count": 12,
     "metadata": {},
     "output_type": "execute_result"
    }
   ],
   "source": [
    "name[::2]"
   ]
  },
  {
   "cell_type": "code",
   "execution_count": 13,
   "metadata": {},
   "outputs": [
    {
     "data": {
      "text/plain": [
       "'nahuahC htananeeD yajiV'"
      ]
     },
     "execution_count": 13,
     "metadata": {},
     "output_type": "execute_result"
    }
   ],
   "source": [
    "name[::-1]"
   ]
  },
  {
   "attachments": {},
   "cell_type": "markdown",
   "metadata": {
    "tags": []
   },
   "source": [
    "string methods:-\n",
    "-validation methods:\n",
    "    -isalpha\n",
    "    -isnumeric\n",
    "    -isalnum\n",
    "    -isspace\n",
    "    -isupper\n",
    "    -islower\n",
    "    -islittle\n",
    "    -startswith\n",
    "    -endswith"
   ]
  },
  {
   "attachments": {},
   "cell_type": "markdown",
   "metadata": {},
   "source": [
    "formatting methods:\n",
    "    -upper\n",
    "    -lower\n",
    "    -title\n",
    "    -swapcase\n",
    "    -capitalize\n",
    "    -carefold\n",
    "utility methods:\n",
    "    -count\n",
    "    -find\n",
    "    -replace\n",
    "    -split\n",
    "    -join\n",
    "    -strip    \n"
   ]
  },
  {
   "cell_type": "code",
   "execution_count": 16,
   "metadata": {},
   "outputs": [
    {
     "name": "stdout",
     "output_type": "stream",
     "text": [
      "invalid input\n"
     ]
    }
   ],
   "source": [
    "x=input(\"enter a number\")\n",
    "if x.isnumeric():\n",
    "    x=int(x)\n",
    "    print(x)\n",
    "else:\n",
    "    print(\"invalid input\")    "
   ]
  },
  {
   "cell_type": "code",
   "execution_count": 18,
   "metadata": {},
   "outputs": [
    {
     "name": "stdout",
     "output_type": "stream",
     "text": [
      "hello jk9\n"
     ]
    }
   ],
   "source": [
    "uname=input(\"enter your name\")\n",
    "if uname.isalnum():\n",
    "    print(\"hello\",uname)\n",
    "else:\n",
    "    print(\"invalid input\")    "
   ]
  },
  {
   "cell_type": "code",
   "execution_count": 20,
   "metadata": {},
   "outputs": [
    {
     "name": "stdout",
     "output_type": "stream",
     "text": [
      "special charcahter\n"
     ]
    }
   ],
   "source": [
    "uname=input(\"enter your name\")\n",
    "if not uname.isalnum():\n",
    "    print(\"special charcahter\")\n",
    "else:\n",
    "    print(\"invalid input\")    "
   ]
  },
  {
   "cell_type": "code",
   "execution_count": 23,
   "metadata": {},
   "outputs": [
    {
     "name": "stdout",
     "output_type": "stream",
     "text": [
      "welcome mr.anand\n",
      "welcome mrs.vijay\n",
      "welcome mrs.ravi\n",
      "you are not allowed er.rajesh\n",
      "welcome mr.ramesh\n"
     ]
    }
   ],
   "source": [
    "name=[\"mr.anand\",\"mrs.vijay\",\"mrs.ravi\",\"er.rajesh\",\"mr.ramesh\"]\n",
    "for i in name:\n",
    "    if i.startswith(\"mr.\") or i.startswith(\"mrs.\"):\n",
    "        print(f'welcome {i}')\n",
    "    else:\n",
    "        print(f'you are not allowed {i}')    "
   ]
  },
  {
   "cell_type": "code",
   "execution_count": 25,
   "metadata": {},
   "outputs": [
    {
     "name": "stdout",
     "output_type": "stream",
     "text": [
      "abc.txt    text file\n",
      "xyz.doc    unknown file\n",
      "pqr.py     python file\n",
      "mno.py     python file\n",
      "def.txt    text file\n"
     ]
    }
   ],
   "source": [
    "files=[\"abc.txt\",\"xyz.doc\",\"pqr.py\",\"mno.py\",\"def.txt\"]\n",
    "for i in files:\n",
    "    if i.endswith(\".txt\"):\n",
    "        print(f'{i:10} text file')\n",
    "    elif i.endswith(\".py\"):\n",
    "        print(f'{i:10} python file')\n",
    "    else:\n",
    "        print(f'{i:10} unknown file')        "
   ]
  },
  {
   "cell_type": "code",
   "execution_count": 27,
   "metadata": {},
   "outputs": [
    {
     "name": "stdout",
     "output_type": "stream",
     "text": [
      "JOURNEY BEFORE DESTINATION\n",
      "journey before destination\n",
      "jOURNEY bEFORE DESTINaTION\n",
      "Journey Before Destination\n",
      "Journey before destination\n",
      "journey before destination\n"
     ]
    }
   ],
   "source": [
    "name=\"Journey Before destinAtion\"\n",
    "print(name.upper())\n",
    "print(name.lower())\n",
    "print(name.swapcase())\n",
    "print(name.title())\n",
    "print(name.capitalize())\n",
    "print(name.casefold())"
   ]
  },
  {
   "cell_type": "code",
   "execution_count": 43,
   "metadata": {},
   "outputs": [
    {
     "name": "stdout",
     "output_type": "stream",
     "text": [
      "4\n",
      "['this', 'is', 'an', 'example', 'string,', 'this', 'is', 'a', 'simple', 'string']\n",
      "11\n",
      "2\n",
      "29\n",
      "thwas was an example string, thwas was a simple string\n",
      "this is an example , this is a simple \n",
      "['this is an example string', ' this is a simple string']\n"
     ]
    }
   ],
   "source": [
    "s=\"this is an example string, this is a simple string\"\n",
    "print(s.count(\"is\"))\n",
    "print(s.split())\n",
    "print(s.find('example'))\n",
    "print(s.find('is'))\n",
    "print(s.find('is',6))\n",
    "print(s.replace('is','was'))\n",
    "print(s.replace('string',''))\n",
    "print(s.split(','))\n",
    "\n",
    "\n",
    "\n"
   ]
  },
  {
   "cell_type": "code",
   "execution_count": 31,
   "metadata": {},
   "outputs": [
    {
     "name": "stdout",
     "output_type": "stream",
     "text": [
      "13\n"
     ]
    }
   ],
   "source": [
    "#total voewls\n",
    "tv=s.count(\"a\")+s.count(\"e\")+s.count(\"i\")+s.count(\"o\")+s.count(\"u\")\n",
    "print(tv)"
   ]
  },
  {
   "cell_type": "code",
   "execution_count": 42,
   "metadata": {},
   "outputs": [
    {
     "data": {
      "text/plain": [
       "'one***two***three***four'"
      ]
     },
     "execution_count": 42,
     "metadata": {},
     "output_type": "execute_result"
    }
   ],
   "source": [
    "words=[\"one\",\"two\",\"three\",\"four\"]\n",
    "\"***\".join(words)\n"
   ]
  },
  {
   "cell_type": "code",
   "execution_count": 46,
   "metadata": {},
   "outputs": [
    {
     "name": "stdout",
     "output_type": "stream",
     "text": [
      "   maanvi \n",
      "\n",
      "\n",
      "maanvi\n",
      "   maanvi\n",
      "maanvi\n"
     ]
    }
   ],
   "source": [
    "x=\"   maanvi\"\n",
    "y=\"   maanvi \\n\\n\"\n",
    "print(y)\n",
    "\n",
    "print(y.strip())\n",
    "print(x)\n",
    "print(x.strip())"
   ]
  }
 ],
 "metadata": {
  "kernelspec": {
   "display_name": "base",
   "language": "python",
   "name": "python3"
  },
  "language_info": {
   "codemirror_mode": {
    "name": "ipython",
    "version": 3
   },
   "file_extension": ".py",
   "mimetype": "text/x-python",
   "name": "python",
   "nbconvert_exporter": "python",
   "pygments_lexer": "ipython3",
   "version": "3.10.10"
  },
  "orig_nbformat": 4
 },
 "nbformat": 4,
 "nbformat_minor": 2
}
